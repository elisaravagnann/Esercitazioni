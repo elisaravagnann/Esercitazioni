{
  "nbformat": 4,
  "nbformat_minor": 0,
  "metadata": {
    "colab": {
      "provenance": []
    },
    "kernelspec": {
      "name": "python3",
      "display_name": "Python 3"
    },
    "language_info": {
      "name": "python"
    }
  },
  "cells": [
    {
      "cell_type": "markdown",
      "source": [
        "# Analisi esplorativa e classificazione di transazioni fraudolente\n",
        "Questo Notebook contiene del codice per scaricare un dataset di transazioni finanziarie, alcune delle quali sono fraudolente.\n",
        "\n",
        "Esegui il codice presente, completa il codice mancante e rispondi alle domande.\n",
        "\n",
        "Puoi importare questo Notebook nel tuo ambiente di sviluppo preferito: Databricks come svolto in classe (ricorda: prima di eseguire il codice dovrai creare un cluster) o IDE locale (in questo caso, assicurati che le librerie che verranno importate siano installate)."
      ],
      "metadata": {
        "id": "CN1GBDjh3biO"
      }
    },
    {
      "cell_type": "code",
      "source": [
        "!pip install pyspark"
      ],
      "metadata": {
        "colab": {
          "base_uri": "https://localhost:8080/",
          "height": 0
        },
        "id": "DlCW9WxY3miw",
        "outputId": "10ea14c5-d6ac-4345-f38e-4278e73d1108"
      },
      "execution_count": 46,
      "outputs": [
        {
          "output_type": "stream",
          "name": "stdout",
          "text": [
            "Looking in indexes: https://pypi.org/simple, https://us-python.pkg.dev/colab-wheels/public/simple/\n",
            "Requirement already satisfied: pyspark in /usr/local/lib/python3.10/dist-packages (3.4.0)\n",
            "Requirement already satisfied: py4j==0.10.9.7 in /usr/local/lib/python3.10/dist-packages (from pyspark) (0.10.9.7)\n"
          ]
        }
      ]
    },
    {
      "cell_type": "code",
      "execution_count": 47,
      "metadata": {
        "id": "xmdYZvRM3apN"
      },
      "outputs": [],
      "source": [
        "#Importazione delle librerie\n",
        "import requests\n",
        "import pandas as pd\n",
        "import numpy as np\n",
        "import matplotlib.pyplot as plt\n",
        "%matplotlib inline\n",
        "\n",
        "import pyspark\n",
        "from pyspark.sql import *\n",
        "from pyspark.sql.types import *\n",
        "from pyspark.sql.functions import *\n",
        "from pyspark import SparkContext, SparkConf\n",
        "\n",
        "from pyspark.ml.classification import LogisticRegression\n",
        "from pyspark.ml.evaluation import BinaryClassificationEvaluator"
      ]
    },
    {
      "cell_type": "code",
      "source": [
        "#Download del dataset\n",
        "def get_data(dataset_url, dest, chunk_size=1024):\n",
        "  response = requests.get(dataset_url,  verify= False, stream=True)\n",
        "  if response.status_code == 200:\n",
        "    with open(dest, \"wb\") as file:\n",
        "      for block in response.iter_content(chunk_size=chunk_size):\n",
        "        if block:\n",
        "          file.write(block)\n",
        "\n",
        "DATASET_URL = \"https://learning.prorob.it/ITS_2023/LF/datasets/transactions_10000.csv\"\n",
        "DATASET_FOLDER = \"/tmp\"\n",
        "DATASET_FILE = DATASET_FOLDER + \"/\" + DATASET_URL.split(\"/\")[-1]\n",
        "\n",
        "\n",
        "print(\"Retrieving dataset from URL: {} ...\".format(DATASET_URL))\n",
        "get_data(DATASET_URL, DATASET_FILE)\n",
        "print(\"Dataset successfully retrieved and stored at: {}\".format(DATASET_FILE))"
      ],
      "metadata": {
        "colab": {
          "base_uri": "https://localhost:8080/",
          "height": 0
        },
        "id": "3K9VrZEP4B11",
        "outputId": "3104fb38-9f9f-4cb6-81e7-787efe49dbbe"
      },
      "execution_count": 48,
      "outputs": [
        {
          "output_type": "stream",
          "name": "stdout",
          "text": [
            "Retrieving dataset from URL: https://learning.prorob.it/ITS_2023/LF/datasets/transactions_10000.csv ...\n"
          ]
        },
        {
          "output_type": "stream",
          "name": "stderr",
          "text": [
            "/usr/local/lib/python3.10/dist-packages/urllib3/connectionpool.py:1045: InsecureRequestWarning: Unverified HTTPS request is being made to host 'learning.prorob.it'. Adding certificate verification is strongly advised. See: https://urllib3.readthedocs.io/en/1.26.x/advanced-usage.html#ssl-warnings\n",
            "  warnings.warn(\n"
          ]
        },
        {
          "output_type": "stream",
          "name": "stdout",
          "text": [
            "Dataset successfully retrieved and stored at: /tmp/transactions_10000.csv\n"
          ]
        }
      ]
    },
    {
      "cell_type": "markdown",
      "source": [
        "#### 1. Carica il dataset come Spark DataFrame"
      ],
      "metadata": {
        "id": "LUIX9KLL4JSQ"
      }
    },
    {
      "cell_type": "code",
      "source": [
        "#Creo una sessione Spark\n",
        "spark = SparkSession.builder.getOrCreate()\n",
        "\n",
        "#Percorso del file del dataset\n",
        "DATASET_FILE = \"/tmp/transactions_10000.csv\"\n",
        "\n",
        "#Leggo il file CSV e crea un DataFrame\n",
        "df = spark.read.csv(DATASET_FILE, header=True, inferSchema=True)\n",
        "\n",
        "#Visualizzo lo schema del DataFrame\n",
        "df.printSchema()\n",
        "\n",
        "#DataFrame creato\n",
        "\n"
      ],
      "metadata": {
        "colab": {
          "base_uri": "https://localhost:8080/",
          "height": 0
        },
        "id": "UgdlE3RC4KWw",
        "outputId": "89c57be7-57f4-4f72-b176-f0774c43c399"
      },
      "execution_count": 49,
      "outputs": [
        {
          "output_type": "stream",
          "name": "stdout",
          "text": [
            "root\n",
            " |-- type: string (nullable = true)\n",
            " |-- amount: double (nullable = true)\n",
            " |-- nameOrig: string (nullable = true)\n",
            " |-- oldbalanceOrig: double (nullable = true)\n",
            " |-- newbalanceOrig: double (nullable = true)\n",
            " |-- nameDest: string (nullable = true)\n",
            " |-- oldbalanceDest: double (nullable = true)\n",
            " |-- newbalanceDest: double (nullable = true)\n",
            " |-- isFraud: integer (nullable = true)\n",
            "\n"
          ]
        }
      ]
    },
    {
      "cell_type": "markdown",
      "source": [
        "### 2. Analisi esplorativa"
      ],
      "metadata": {
        "id": "tI2KeQPg5Hc3"
      }
    },
    {
      "cell_type": "markdown",
      "source": [
        "#### 2.1 Mostra le prime 5 righe del dataset"
      ],
      "metadata": {
        "id": "kdD3WSe_5IXl"
      }
    },
    {
      "cell_type": "code",
      "source": [
        "#Le prime 5 righe del DataSet\n",
        "df.show(5)"
      ],
      "metadata": {
        "colab": {
          "base_uri": "https://localhost:8080/",
          "height": 0
        },
        "id": "7ARQj6g05NZj",
        "outputId": "508f6020-15f8-4b13-a524-177c4a7b63da"
      },
      "execution_count": 50,
      "outputs": [
        {
          "output_type": "stream",
          "name": "stdout",
          "text": [
            "+--------+--------+-----------+--------------+--------------+-----------+--------------+--------------+-------+\n",
            "|    type|  amount|   nameOrig|oldbalanceOrig|newbalanceOrig|   nameDest|oldbalanceDest|newbalanceDest|isFraud|\n",
            "+--------+--------+-----------+--------------+--------------+-----------+--------------+--------------+-------+\n",
            "| PAYMENT| 9839.64|C1231006815|      170136.0|     160296.36|M1979787155|           0.0|           0.0|      0|\n",
            "| PAYMENT| 1864.28|C1666544295|       21249.0|      19384.72|M2044282225|           0.0|           0.0|      0|\n",
            "|TRANSFER|   181.0|C1305486145|         181.0|           0.0| C553264065|           0.0|           0.0|      1|\n",
            "|CASH_OUT|   181.0| C840083671|         181.0|           0.0|  C38997010|       21182.0|           0.0|      1|\n",
            "| PAYMENT|11668.14|C2048537720|       41554.0|      29885.86|M1230701703|           0.0|           0.0|      0|\n",
            "+--------+--------+-----------+--------------+--------------+-----------+--------------+--------------+-------+\n",
            "only showing top 5 rows\n",
            "\n"
          ]
        }
      ]
    },
    {
      "cell_type": "markdown",
      "source": [
        "#### 2.2 Quante righe e colonne ha il dataset in totale?"
      ],
      "metadata": {
        "id": "YuxnEnXJ5vSk"
      }
    },
    {
      "cell_type": "code",
      "source": [
        "#Numero totale delle righe\n",
        "row_count = df.count()\n",
        "print(\"Numero totale delle righe: {}\".format(row_count))\n",
        "\n",
        "#Numero totale delle colonne\n",
        "col_count = len(df.columns)\n",
        "print(\"Numero totale delle colonne: {}\".format(col_count))\n",
        "\n",
        "#Num. totale righe -- > 10000\n",
        "#Num. totale colonne -- > 9\n"
      ],
      "metadata": {
        "colab": {
          "base_uri": "https://localhost:8080/",
          "height": 0
        },
        "id": "nPPbXHcm5qLH",
        "outputId": "9d547ecb-fc37-4328-9353-746ff39ee42a"
      },
      "execution_count": 51,
      "outputs": [
        {
          "output_type": "stream",
          "name": "stdout",
          "text": [
            "Numero totale delle righe: 10000\n",
            "Numero totale delle colonne: 9\n"
          ]
        }
      ]
    },
    {
      "cell_type": "markdown",
      "source": [
        "#### 2.3 Quante transazioni fraudolente ci sono?"
      ],
      "metadata": {
        "id": "avBdGUpQ6L5O"
      }
    },
    {
      "cell_type": "code",
      "source": [
        "#Operazione per trovare il totale delle transazioni fraudolente\n",
        "\n",
        "#Filtro le righe con isFraud = 1 (transazioni fraudolente)\n",
        "fraud_transactions_count = df.filter(col(\"isFraud\") == 1).count()\n",
        "\n",
        "#Stampo il numero totale di transazioni fraudolente\n",
        "print(\"Numero totale di transazioni fraudolente: {}\".format(fraud_transactions_count))\n",
        "\n",
        "#Num. totale di transazioni fraudolente -- > 68"
      ],
      "metadata": {
        "colab": {
          "base_uri": "https://localhost:8080/",
          "height": 0
        },
        "id": "YKuqDCY16PO2",
        "outputId": "31cb5773-583d-48d6-cdbb-d3b85b790dbf"
      },
      "execution_count": 52,
      "outputs": [
        {
          "output_type": "stream",
          "name": "stdout",
          "text": [
            "Numero totale di transazioni fraudolente: 68\n"
          ]
        }
      ]
    },
    {
      "cell_type": "markdown",
      "source": [
        "#### 2.4 Quante transazioni non fraudolente ci sono?"
      ],
      "metadata": {
        "id": "fkGvUTNK7M4q"
      }
    },
    {
      "cell_type": "code",
      "source": [
        "#Operazione per trovare il totale delle transazioni non fraudolente\n",
        "\n",
        "#Filtro le righe con isFraud = 0 (transazioni non fraudolente)\n",
        "non_fraud_transactions_count = df.filter(col(\"isFraud\") == 0).count()\n",
        "\n",
        "#Stampo il numero totale di transazioni non fraudolente\n",
        "print(\"Numero totale di transazioni non fraudolente: {}\".format(non_fraud_transactions_count))\n",
        "\n",
        "#Num. totale di transazioni non fraudolente -- > 9932\n"
      ],
      "metadata": {
        "colab": {
          "base_uri": "https://localhost:8080/",
          "height": 0
        },
        "id": "kkL1HPkX7N04",
        "outputId": "8cdc5590-0d2d-4056-ebd3-b219fbb638c7"
      },
      "execution_count": 53,
      "outputs": [
        {
          "output_type": "stream",
          "name": "stdout",
          "text": [
            "Numero totale di transazioni non fraudolente: 9932\n"
          ]
        }
      ]
    },
    {
      "cell_type": "markdown",
      "source": [
        "#### 2.5 Qual è la percentuale di transazioni fraudolente sul totale?"
      ],
      "metadata": {
        "id": "4qpaFRZT8Kgw"
      }
    },
    {
      "cell_type": "code",
      "source": [
        "#Numero totale di transazioni\n",
        "total_transactions_count = df.count()\n",
        "\n",
        "#Il numero totale delle transazioni fraudolente lo abbiamo già (fraud_transactions_count)\n",
        "\n",
        "#Calcolo della percentuale di transazioni fraudolente\n",
        "fraud_percentage = (fraud_transactions_count / total_transactions_count) * 100\n",
        "\n",
        "#Stampo della percentuale di transazioni fraudolente\n",
        "print(\"Percentuale di transazioni fraudolente: {:.2f}%\".format(fraud_percentage))\n",
        "\n",
        "#Perc. delle transazioni fraudolente sul tot. delle transazioni -- > 0.68%\n"
      ],
      "metadata": {
        "colab": {
          "base_uri": "https://localhost:8080/",
          "height": 0
        },
        "id": "JyJeNab88Lc3",
        "outputId": "dcd1a52f-d728-4448-91ed-613af2766ba0"
      },
      "execution_count": 54,
      "outputs": [
        {
          "output_type": "stream",
          "name": "stdout",
          "text": [
            "Percentuale di transazioni fraudolente: 0.68%\n"
          ]
        }
      ]
    },
    {
      "cell_type": "markdown",
      "source": [
        "#### 2.6 Il dataset è bilanciato?"
      ],
      "metadata": {
        "id": "OP6RPcDI88bS"
      }
    },
    {
      "cell_type": "code",
      "source": [
        "#Per verificare se il DataSet è bilanciato, si può confrontare il numero di transazioni fraudolente con il numero di transazioni non\n",
        "#fraudolente nel DataFrame. Se i due numeri sono simili, il DataSet può essere considerato bilanciato.\n",
        "\n",
        "#Si può farlo attraverso questa operazione di confronto:\n",
        "if fraud_transactions_count == non_fraud_transactions_count:\n",
        "    print(\"Il dataset è bilanciato.\")\n",
        "else:\n",
        "    print(\"Il dataset non è bilanciato.\")\n",
        "\n",
        "#Il DataSet NON è bilanciato in quanto i due valori delle transazioni (68 per le fraudolenti e 9932 per quelle non fraudolenti non\n",
        "#sono, per niente, simili ma molto distanti tra di loro)"
      ],
      "metadata": {
        "colab": {
          "base_uri": "https://localhost:8080/",
          "height": 0
        },
        "id": "PyCg9W9R89lM",
        "outputId": "15ffc6ca-43a6-4dbc-fa32-78a243597b96"
      },
      "execution_count": 55,
      "outputs": [
        {
          "output_type": "stream",
          "name": "stdout",
          "text": [
            "Il dataset non è bilanciato.\n"
          ]
        }
      ]
    },
    {
      "cell_type": "markdown",
      "source": [
        "#### 2.7 Ci sono valori nulli? Se sì, rimuovili"
      ],
      "metadata": {
        "id": "-I9oULoV-Nw-"
      }
    },
    {
      "cell_type": "code",
      "source": [
        "#Verifico se ci sono valori nulli\n",
        "null_counts = df.select([count(when(col(c).isNull(), c)).alias(c) for c in df.columns]).toPandas().transpose()\n",
        "\n",
        "#Stampo dei valori nulli per ogni colonna\n",
        "print(\"Valori nulli nel DataFrame:\")\n",
        "print(null_counts)\n",
        "\n",
        "#No, nel DataFrame non risultano valori nulli quindi non è necessaria l'oprazione della loro rimozione"
      ],
      "metadata": {
        "colab": {
          "base_uri": "https://localhost:8080/",
          "height": 0
        },
        "id": "w-yqlCRv-Ouz",
        "outputId": "1dfb405e-dcff-4daf-c1b5-74e569be23d7"
      },
      "execution_count": 56,
      "outputs": [
        {
          "output_type": "stream",
          "name": "stdout",
          "text": [
            "Valori nulli nel DataFrame:\n",
            "                0\n",
            "type            0\n",
            "amount          0\n",
            "nameOrig        0\n",
            "oldbalanceOrig  0\n",
            "newbalanceOrig  0\n",
            "nameDest        0\n",
            "oldbalanceDest  0\n",
            "newbalanceDest  0\n",
            "isFraud         0\n"
          ]
        }
      ]
    },
    {
      "cell_type": "markdown",
      "source": [
        "#### 2.8 Qual è l'importo medio di ogni transazione?"
      ],
      "metadata": {
        "id": "0ijleUK2_UZq"
      }
    },
    {
      "cell_type": "code",
      "source": [
        "#Calcolo dell'importo medio di ogni transazione\n",
        "average_amount_per_transaction = df.agg(avg(\"amount\").alias(\"average_amount\"))\n",
        "\n",
        "#Stampo dell'importo medio di ogni transazione\n",
        "print(\"Importo medio di ogni transazione:\")\n",
        "average_amount_per_transaction.show()\n",
        "\n",
        "#L'importo medio di ogni transazione è  -- > 103546.68994900018"
      ],
      "metadata": {
        "colab": {
          "base_uri": "https://localhost:8080/",
          "height": 0
        },
        "id": "4mEB7GN8B4_q",
        "outputId": "ec1487ba-f6d5-40d9-9a17-8df367da58a2"
      },
      "execution_count": 57,
      "outputs": [
        {
          "output_type": "stream",
          "name": "stdout",
          "text": [
            "Importo medio di ogni transazione:\n",
            "+------------------+\n",
            "|    average_amount|\n",
            "+------------------+\n",
            "|103546.68994900018|\n",
            "+------------------+\n",
            "\n"
          ]
        }
      ]
    },
    {
      "cell_type": "markdown",
      "source": [
        "#### 2.9 Qual è la deviazione standard rispetto alla media di ogni transazione?"
      ],
      "metadata": {
        "id": "d_ANKPlJCLGo"
      }
    },
    {
      "cell_type": "code",
      "source": [
        "#Calcolo della deviazione standard rispetto alla media di ogni transazione\n",
        "stddev_amount_per_transaction = df.select(stddev(\"amount\").alias(\"stddev_amount\"))\n",
        "\n",
        "#Stampo della deviazione standard rispetto alla media di ogni transazione\n",
        "stddev_amount_per_transaction.show()\n"
      ],
      "metadata": {
        "colab": {
          "base_uri": "https://localhost:8080/",
          "height": 0
        },
        "id": "gKlhpAOmCUpb",
        "outputId": "5c0e8b18-d71b-4aa2-97ae-3d409fc3b1ae"
      },
      "execution_count": 58,
      "outputs": [
        {
          "output_type": "stream",
          "name": "stdout",
          "text": [
            "+-----------------+\n",
            "|    stddev_amount|\n",
            "+-----------------+\n",
            "|266307.1952950504|\n",
            "+-----------------+\n",
            "\n"
          ]
        }
      ]
    },
    {
      "cell_type": "markdown",
      "source": [
        "#### 2.10 Calcola l'importo medio di ogni transazione"
      ],
      "metadata": {
        "id": "I31jY5PlCt24"
      }
    },
    {
      "cell_type": "code",
      "source": [
        "#Calcolo dell'importo medio per ogni tipo di transazione\n",
        "average_amount_per_transaction = df.groupBy(\"type\").agg(avg(\"amount\").alias(\"average_amount\"))\n",
        "\n",
        "#Stampo dell'importo medio di ogni transazione\n",
        "print(\"Importo medio di ogni transazione:\")\n",
        "average_amount_per_transaction.show()\n",
        "\n",
        "\n",
        "#L'importo medio per ogni tipo di transazione:\n",
        "     #TRANSFER -- > 471654.5189142232\n",
        "     #CASH_IN -- > 168041.4924679321\n",
        "     #CASH_OUT -- >173507.34354277063\n",
        "     #PAYMENT -- > 7891.430867337604\n",
        "     #DEBIT -- > 3576.593720930232"
      ],
      "metadata": {
        "colab": {
          "base_uri": "https://localhost:8080/",
          "height": 0
        },
        "id": "g8dDWcBU_VM-",
        "outputId": "17c04e4a-dcf7-4035-b22a-7386d62eda5e"
      },
      "execution_count": 59,
      "outputs": [
        {
          "output_type": "stream",
          "name": "stdout",
          "text": [
            "Importo medio di ogni transazione:\n",
            "+--------+------------------+\n",
            "|    type|    average_amount|\n",
            "+--------+------------------+\n",
            "|TRANSFER| 471654.5189142232|\n",
            "| CASH_IN| 168041.4924679321|\n",
            "|CASH_OUT|173507.34354277063|\n",
            "| PAYMENT| 7891.430867337604|\n",
            "|   DEBIT| 3576.593720930232|\n",
            "+--------+------------------+\n",
            "\n"
          ]
        }
      ]
    },
    {
      "cell_type": "markdown",
      "source": [
        "#### 2.11 Calcola il numero medio di transazioni fatte per ogni utente"
      ],
      "metadata": {
        "id": "rCMQTrr3C05W"
      }
    },
    {
      "cell_type": "code",
      "source": [
        "#Calcolo del numero medio di transazioni per ogni utente\n",
        "average_transactions_per_user = df.groupBy(\"nameOrig\").agg(count(\"*\").alias(\"transaction_count\")).groupBy().avg(\"transaction_count\").alias(\"average_transactions\")\n",
        "\n",
        "#Stampo del numero medio di transazioni per ogni utente\n",
        "average_transactions_per_user.show()\n",
        "\n",
        "#Ogni utente ha fatto, in media, una sola transazione\n"
      ],
      "metadata": {
        "colab": {
          "base_uri": "https://localhost:8080/",
          "height": 0
        },
        "id": "bhnPGpAoBbSZ",
        "outputId": "67264690-eb80-4da9-d960-7fe347b464e9"
      },
      "execution_count": 60,
      "outputs": [
        {
          "output_type": "stream",
          "name": "stdout",
          "text": [
            "+----------------------+\n",
            "|avg(transaction_count)|\n",
            "+----------------------+\n",
            "|                   1.0|\n",
            "+----------------------+\n",
            "\n"
          ]
        }
      ]
    },
    {
      "cell_type": "markdown",
      "source": [
        "### 3: Classificazione di transazioni fraudolente"
      ],
      "metadata": {
        "id": "lyWki68tEOL2"
      }
    },
    {
      "cell_type": "code",
      "source": [
        "####Trasformazione delle variabili categoriche in one-hot encoding e assemblaggio delle features in un unico vettore\n",
        "def to_numerical(df, numerical_features, categorical_features, target_variable):\n",
        "\n",
        "    \"\"\"\n",
        "    Args:\n",
        "        - df: the input dataframe\n",
        "        - numerical_features: the list of column names in `df` corresponding to numerical features\n",
        "        - categorical_features: the list of column names in `df` corresponding to categorical features\n",
        "        - target_variable: the column name in `df` corresponding to the target variable\n",
        "\n",
        "    Return:\n",
        "        - transformer: the pipeline of transformation fit to `df` (for future usage)\n",
        "        - df_transformed: the dataframe transformed according to the pipeline\n",
        "    \"\"\"\n",
        "\n",
        "    from pyspark.ml import Pipeline\n",
        "    from pyspark.ml.feature import StringIndexer, OneHotEncoder, VectorAssembler\n",
        "\n",
        "\n",
        "    #1. Create a list of indexers, i.e., one for each categorical feature\n",
        "    indexers = [StringIndexer(inputCol=c, outputCol=\"{0}_indexed\".format(c), handleInvalid=\"keep\") for c in categorical_features]\n",
        "\n",
        "    #2. Create the one-hot encoder for the list of features just indexed (this encoder will keep any unseen label in the future)\n",
        "    encoder = OneHotEncoder(inputCols=[indexer.getOutputCol() for indexer in indexers],\n",
        "                                    outputCols=[\"{0}_encoded\".format(indexer.getOutputCol()) for indexer in indexers],\n",
        "                                    handleInvalid=\"keep\")\n",
        "\n",
        "    #3. Indexing the target column (i.e., transform it into 0/1) and rename it as \"label\"\n",
        "    #Note that by default StringIndexer will assign the value `0` to the most frequent label, which in the case of `deposit` is `no`\n",
        "    #As such, this nicely resembles the idea of having `deposit = 0` if no deposit is subscribed, or `deposit = 1` otherwise.\n",
        "    label_indexer = StringIndexer(inputCol = target_variable, outputCol = \"label\")\n",
        "\n",
        "    #4. Assemble all the features (both one-hot-encoded categorical and numerical) into a single vector\n",
        "    assembler = VectorAssembler(inputCols=encoder.getOutputCols() + numerical_features, outputCol=\"features\")\n",
        "\n",
        "    #5. Populate the stages of the pipeline\n",
        "    stages = indexers + [encoder] + [label_indexer] + [assembler]\n",
        "\n",
        "    #6. Setup the pipeline with the stages above\n",
        "    pipeline = Pipeline(stages=stages)\n",
        "\n",
        "    #7. Transform the input dataframe accordingly\n",
        "    transformer = pipeline.fit(df)\n",
        "    df_transformed = transformer.transform(df)\n",
        "\n",
        "    #8. Eventually, return both the transformed dataframe and the transformer object for future transformations\n",
        "    return transformer, df_transformed\n",
        "\n",
        "NUMERICAL_FEATURES = [\"amount\",\n",
        "                      \"oldbalanceOrig\",\n",
        "                      \"newbalanceOrig\",\n",
        "                      \"oldbalanceDest\",\n",
        "                      \"newbalanceDest\"\n",
        "                      ]\n",
        "CATEGORICAL_FEATURES = [\"type\",\n",
        "                        \"nameOrig\"\n",
        "                        ]\n",
        "TARGET_VARIABLE = \"isFraud\"\n",
        "\n",
        "#Transform the training set and get back both the transformer and the new dataset\n",
        "transformer, df_transformed = to_numerical(df, NUMERICAL_FEATURES, CATEGORICAL_FEATURES, TARGET_VARIABLE)"
      ],
      "metadata": {
        "id": "oQZ2B2SsEO48"
      },
      "execution_count": 61,
      "outputs": []
    },
    {
      "cell_type": "markdown",
      "source": [
        "#### 3.1 Dividi il dataset appena trasformato in train e test, in modo random e con un rapporto di 70-30"
      ],
      "metadata": {
        "id": "G0yEr06yElTn"
      }
    },
    {
      "cell_type": "code",
      "source": [
        "#Definisco il rapporto di divisione (70% per il train, 30% per il test)\n",
        "train_ratio = 0.7\n",
        "test_ratio = 0.3\n",
        "\n",
        "#Divido il DataSet in train e test in modo randomico\n",
        "train_data, test_data = df_transformed.randomSplit([train_ratio, test_ratio], seed=42)\n",
        "\n",
        "#Stampo il numero di righe nel train set e nel test set\n",
        "print(\"Numero di righe nel train set:\", train_data.count())\n",
        "print(\"Numero di righe nel test set:\", test_data.count())\n",
        "\n",
        "#Numero di righe nel train set -- > 7104\n",
        "#Numero di righe nel test set -- > 2896"
      ],
      "metadata": {
        "colab": {
          "base_uri": "https://localhost:8080/",
          "height": 0
        },
        "id": "QJvvCvT5EmFR",
        "outputId": "441b6e2a-bff8-428d-b2d3-60991e64466a"
      },
      "execution_count": 62,
      "outputs": [
        {
          "output_type": "stream",
          "name": "stdout",
          "text": [
            "Numero di righe nel train set: 7104\n",
            "Numero di righe nel test set: 2896\n"
          ]
        }
      ]
    },
    {
      "cell_type": "markdown",
      "source": [
        "#### 3.2 Definisci e addestra un modello LogisticRegression sul train set utilizzando la colonna \"features\" come X e la colonna \"isFraud\" come y"
      ],
      "metadata": {
        "id": "g6dDGnCrFmmr"
      }
    },
    {
      "cell_type": "code",
      "source": [
        "from pyspark.ml.feature import VectorAssembler\n",
        "#Definisco le due colonne \"features\" come X e \"isFraud\" come y\n",
        "\n",
        "#Rinomino la colonna \"features\" in \"X\"\n",
        "train_data = train_data.withColumnRenamed(\"features\", \"X\")\n",
        "\n",
        "#Creo la colonna \"y\" dal valore della colonna \"isFraud\"\n",
        "train_data = train_data.withColumn(\"y\", train_data[\"isFraud\"])\n",
        "\n",
        "#Creo un VectorAssembler per raccogliere le feature in una colonna \"features\"\n",
        "assembler = VectorAssembler(inputCols=[\"X\"], outputCol=\"features\")\n",
        "\n",
        "#Trasformo il DataFrame di addestramento utilizzando il VectorAssembler\n",
        "train_data = assembler.transform(train_data)\n"
      ],
      "metadata": {
        "id": "-DQkasUOFoRb"
      },
      "execution_count": 63,
      "outputs": []
    },
    {
      "cell_type": "code",
      "source": [
        "#Ora definisco ed addestro il modello LogisticRegression\n",
        "\n",
        "#Definizione\n",
        "lr = LogisticRegression(featuresCol=\"features\", labelCol=\"y\")\n",
        "\n",
        "#Addestramento sul train set\n",
        "lr_model = lr.fit(train_data)\n",
        "\n",
        "#Stampo i coefficienti del modello\n",
        "print(\"Coefficients:\", lr_model.coefficients)\n",
        "\n",
        "#Stampo l'intercetta del modello\n",
        "print(\"Intercept:\", lr_model.intercept)"
      ],
      "metadata": {
        "colab": {
          "base_uri": "https://localhost:8080/",
          "height": 0
        },
        "id": "zIRNkgHXG4x6",
        "outputId": "1774f56c-7026-41b8-b409-c07f8a03d05f"
      },
      "execution_count": 64,
      "outputs": [
        {
          "output_type": "stream",
          "name": "stdout",
          "text": [
            "Coefficients: [-0.1571475377188016,-0.36942462019306577,0.8112727578382884,0.09293589392473871,-0.09448467517240523,0.0,0.0,0.0,-0.16141367242700025,0.0,0.0,-0.07571010796628007,0.0,0.0,-0.066347651900478,0.0,-0.06467198897137118,-0.06485172120061151,0.0,-1.2055347808347576,-0.07735090429734558,0.0,47.917197353233995,-0.03799284359763117,-1.106239233282659,-0.06489734244164844,-0.09154494895049714,-0.06977637660246346,-0.15227213157825117,0.0,-0.07439746135940226,-0.074350332136982,-0.07027162603635805,-1.2403200067140725,-0.24160187409154615,-0.07775986645733254,-0.06135505151051047,0.0,-0.06716460335920296,0.0,-0.4188064518715572,0.0,0.0,-0.07152595739528947,-0.8874577455705417,-0.06265435484519802,-0.06807285391074139,0.0,-1.4078677955525285,-0.11033429499194129,-0.06756605161388891,-0.16717578167907265,0.0,-1.4036737744009002,-1.3148039176912136,-0.0744697177277893,-0.748984278000939,-0.07699075968358653,-0.07479255506152586,0.0,0.18948189583650077,-0.7892362385122703,0.0,-0.3292951769231494,-0.06639162734537793,-0.07517552786811325,-1.0764465992104362,-0.0829723083609762,-0.8248131172029542,-1.18238571540846,0.0,0.0,-0.05475456231186086,-0.07413610114679405,0.0,-0.06413199350394926,0.0,0.0,-0.06484676829361491,-0.5452310067850669,-1.1465191143337896,-0.0852652029418894,0.0,-0.2301959587036134,0.0,-0.057359398964505856,-0.12162200077046119,-1.2704174860216384,0.0,-0.1865221397785608,0.0,0.0,-0.07823437307780386,-0.0709889493131061,0.0,0.0,0.5221240138572482,-1.0529549783659715,-0.06690868214728357,-0.07624023615307816,0.0,-0.0703134367040593,-1.0645405881007188,-0.3979340738824296,-0.6352720268343911,0.0,-0.07216767381507704,-0.19212699136251332,0.0,-1.0910060679273983,-0.11685982721512528,-0.46164533969078714,-1.5891567140438017,0.0,-0.07812552772302953,-0.6382001507676182,-0.02093578032587606,-0.040942088990369295,0.0,-0.07197950297246676,-0.8627493837416279,-0.06900392275825182,-0.09591714455763449,-0.0661932808486409,-1.1603544435931725,-0.110528562344304,0.0,-0.046289963766061336,0.0,0.06609451024700491,0.0,-0.07517872750657882,-0.9280699337762414,-2.7088862912199683,0.0,0.0,-0.1021531328346464,0.0,-0.07824688389455783,-1.1631370207519136,-0.0663382519158947,-0.06575232524464626,-0.11738552088274454,0.0,-0.0733718171799575,0.0,0.0,-1.409647606023989,0.0,0.0,-0.07616298436624572,-0.7151567382094478,0.9882293026012745,-0.608935426510191,0.0,0.7745449095720042,-0.06531752736007457,0.0,-1.1254289577565586,-1.2937258370505702,-0.08348356121161689,-0.06720490503496836,0.0,-0.07443345398226658,-0.5260389276895289,0.0,-0.14327783618645654,-0.06936802021309238,36.737954425256255,-0.0867960028712013,0.0,-0.08900505656758698,0.0,0.0,0.0,-0.32637899442118823,-1.4570297213382095,0.0,0.5963163071628506,0.0,0.17183282733366212,-0.0736828097537035,0.0,0.0,0.035201691993146926,0.0,0.0,0.0,-0.06734515887196461,0.0,-0.16333436452716932,0.6093853967660584,-0.09770975051488802,0.0,-0.17751483466532242,0.0,-0.06472861636015184,-0.3576089482539597,-0.07340689328565433,0.0,0.0,-0.11121884951887978,-0.08628092640655255,-0.08374637238480515,-0.41118108143703413,0.0,-0.08571924933196277,-0.06520655999627835,-0.06937824438647291,-0.09257007910743414,0.0,-0.06503595158390428,0.0,0.0,0.0,-1.2134284268900983,0.0,-0.07144045192098643,-0.41622162254091594,-0.08189162806840294,-0.17652143390307842,-0.07123904134801344,-0.10961851605007547,-0.47146737649158593,0.0,0.0,-0.191697390918229,-1.0716507716449621,-0.08302619840443447,0.0,-0.09249090874356801,-0.1652582507136005,-0.08836773577178796,0.0,-0.04193392576278406,-0.06790184415369019,0.0,-1.3720181031676355,0.5336416973048682,-0.8004704314043659,-0.7687761970515248,-0.07061280629598851,-0.07956809135148882,-0.07056051624813159,0.0,0.0,0.0,-1.1758891710336796,0.0,-1.6525438332916433,0.0,-0.07726692591246775,0.0,-0.08207559966322678,-0.9191388460128652,0.0,0.0,-0.10558914593896314,0.0,-0.07579471578483797,0.0,-1.1646793073218726,0.0,-0.0761338196410615,0.0,0.0,0.0,-0.032419544694823756,-1.5469886221896814,-0.0684205663155061,-0.08120829049041926,0.0,0.20131391959578437,-0.21481093863412326,-0.07657365483822307,-0.0782838829013723,-0.07083339517353873,0.0,-0.06489955374252881,0.0,-0.07157462913326378,0.0,-0.8381351820404953,-0.3290152515979228,-0.07496341294568352,-0.0816525809829995,-0.08704128071744575,-0.07474889617358445,0.0,-0.07106782606761099,-0.07979251888571776,-0.07927579513232975,-2.5932280968790042,-1.2740706779011912,-0.07103610657253868,-0.0703544265371072,0.0,0.0,0.0,0.0,-0.07172806121034289,-1.1302073276966713,-0.06992860946634942,-0.086054893711501,0.0,-0.06975326128332986,-0.23080169158380942,-0.06702401489672774,-0.1655107274980394,0.027935538553959763,-1.2318185073289667,0.387564254754791,-0.0868480266001776,-0.06983265475117914,-0.09260704874480562,-0.8759209729234527,0.0,0.0,-0.06581515521529097,-1.035824054511845,-0.07410882946366414,-2.7210803437472384,-0.06442121300567556,-0.08339434594110387,-1.1160033961080797,0.0,-0.07113586782563303,-0.3051682877955076,-0.08460819527414687,-0.07163844936476015,-0.06903449095812589,-0.17042231069621872,0.0,0.0,-0.06954718784984681,-0.07503151936287487,0.0,-0.3680321162235921,0.0,-0.9060226458996901,0.256694155636978,0.0,-0.07313137045691114,-0.082343123275102,-0.0790271004309933,-0.06734013728489185,0.0,0.0,0.0,-0.07194350623817175,-0.06736358819841717,-0.11277490734971776,0.0,-0.9597687830673978,-0.06954557128136082,-0.07694633764344,0.0,-0.13152515681507698,-1.1560538092572066,-1.472546796810514,-0.0775147639740012,-1.386741819433945,-1.2745077694423712,0.0,-0.7444267045787284,-1.1701914241347044,-0.0707334911713314,-0.06694992992774233,-1.1206504360439573,0.0,0.0,-0.0645617649955605,0.0,0.0,-1.4663260326475667,0.0,0.0,-0.09258106185111585,-0.3799970022844621,0.0,-0.05406590885221672,0.0,-0.46292981904756714,-1.0940476071050227,-0.07033073644508087,-0.06231387517263683,-0.07316244385460433,-0.05884383058527983,-0.06046599023168225,-0.4838257878746023,-0.06748678232370131,-0.06080612051869788,-0.0625705207297798,-0.06305491064416367,0.0,0.0,-1.3353956271494973,0.0,-0.07867208525163462,-0.0737088753892267,-0.07898495841681574,0.0,-0.06863145313651484,0.0,-0.07500042109946295,0.0,-0.08879921731092408,-0.06181687931156719,-0.06330384790610313,-0.06853548993285478,-0.06048189572993094,0.0,-0.060129529171414516,-0.3653419575281636,-1.5237815780167847,-0.07060263641118576,-1.280405373210082,0.0,-0.07224324280101108,-0.2844439771838943,0.0,-0.32289793533883954,-0.0745476847978082,-0.06197091533373807,-0.1422685600539471,0.0,-1.1631854585956107,-0.30817267388249825,0.0,0.0,-0.15924445114590377,-0.6667949167934917,0.0,-0.06250970481267598,-0.06776290802228893,0.0,-0.3925552307785065,-0.07196975344122021,-0.06848967923278267,-0.16742904403456496,-0.06964816382015043,-0.7386763147568454,-0.07065480159135756,0.0,0.0,0.0,-0.08586485268838846,-0.6818462243889115,0.0,-1.2143595401640812,-1.286129675290679,-0.06682629151903531,-0.07513910654206774,0.0,-0.05246608004989009,-0.06531291207008191,-0.07144053303422407,-0.07700333547477424,0.0,-0.44953066746942527,-0.07118859147276542,-0.07072452686946272,0.0,81.40195524698919,-0.10298174913718701,-1.1396124800355034,-0.07275185428745516,0.0,0.0,-0.9721521432980601,-0.14885381452685323,-0.08654483265500582,-0.06439449664427803,0.0,-1.0825383601138194,-0.06429667100199327,-0.10220995821359334,-0.08103643627860309,0.0,-0.07420175315342646,0.0,0.0,-0.0649605657046391,-1.0008998836213565,0.06513283230125962,0.0,-0.0773387382708338,0.0,-0.06306798231477588,0.0,-0.03660540637159706,-0.07421499554005118,-0.36500998160065945,-0.05905110344485413,-0.15864274234480127,-1.1599788112207035,-0.06211929522799505,-0.9988947132642068,-0.24387700353956082,-0.7132995057853777,0.0,-0.07924363618604062,-0.08895255452663942,-0.21832218667143227,-0.07195642099308579,-0.7360521835929417,-0.07247271511577505,0.0,-0.06819653146848423,0.0,-0.06445327038646449,0.0,0.0,0.0,-0.05986517249986003,0.0,-0.06979358099225863,0.0,-0.12794870107856793,-0.24307592083766222,-0.06865575119874226,-0.06503592804467206,0.18183221238778519,0.0,0.0,0.0,-1.2016592262119365,0.0,0.035407754727355904,0.0,0.0,-0.6288658838324488,0.0,-0.07072747296937563,0.0,-0.7008256222864176,-1.323265990013556,-0.026637878324668345,-0.9764991326719206,0.0,0.0,0.0,-0.06058598874249825,-3.5321614144141877,-0.06850896722842241,-0.1617275142830292,0.0,0.1960707682262838,0.0,0.03787963818974774,-0.07547965138178983,-0.07619725118688081,-0.5727460504590285,-0.6768604266817653,-0.0749829412161511,-1.6317053105671442,0.0,-0.10843183121978493,-1.1197343018679076,0.0,-1.210550319060458,0.0,-0.06814835093665648,-0.3467142479306336,0.0,-0.16088855978597089,-0.06569230364239359,-0.15445121675551945,0.0,0.012254080719300313,-0.20610631735736104,-0.07198683950450718,-0.7311476843845485,-0.4205841533226912,-0.646125281889948,0.0,-0.061313308024036284,-0.06708684706627414,-0.06715629753962901,-0.07071886901786932,47.9195817165249,-0.06902015010994945,-0.1596917293767572,0.0,-0.06746956657128818,-0.08001313875598594,-0.0944781610982949,0.0,-0.06813127559480707,-0.07844162673081899,-0.06457842711089827,-0.06386741561068661,-0.06516538512029114,-0.08019216915943216,0.0,-0.0959284538631078,0.0,-0.0653481630028379,-0.06559308912039602,0.0,0.0,-0.07034246445790276,0.0,-0.4224859048572294,-0.07966677847568387,-0.1012439816379851,0.0,-1.219463793979736,0.0,0.0,-1.431101228133732,-0.39783442126815094,0.7384887501321632,0.0,0.0,0.0,-0.07037712538173246,-1.1370763202291667,0.0,0.03721017979210441,0.0,0.0,-0.07826456404620712,-0.07389768858206314,-0.06873765814207099,-0.09029638002401674,-0.07404253417098544,-0.06411285608503306,-0.07450128830032554,-0.8741876819880773,0.0,-0.07288815964384547,-0.08439287845652865,0.0,0.0,0.0,-0.06984284130092329,-0.05702630453003972,-0.06062903862690304,0.0,0.0,-1.8981820656422828,0.0,-0.07129894562463703,-0.0690941593796257,-1.442870361972943,-0.06612790620501313,0.0,-0.054030325555026924,0.0,-0.07236730883369659,-0.6196356694438349,-0.10393262378513138,-0.06185968165385956,0.0,-0.1613235997546768,-0.07153434784340945,36.74495055835001,-0.07011895133209047,-0.06623927251181871,-1.3599453021728913,-0.06604445504140159,-0.07374491692487449,0.0,-0.07863065639277604,-0.30183154259065803,-0.05602692803049941,0.30075839641420415,-1.0387630235336391,-0.08005413230457366,0.0,0.0,-3.533369632823387,-0.2975873872078694,-0.06060613011218703,-1.1903162714117088,-0.6613203343411908,0.3448645874204058,-0.06751683322536922,-0.06431486984557125,0.0,-1.1606186677011467,0.0,0.0,-0.06792431097737896,-0.0649598501711873,0.0,0.0,-0.8275728245296377,0.0,-0.09370273791449293,-0.07099231715206746,0.0,-0.08402419664449046,0.0,-0.4895154826100535,-0.6622286240035575,-1.4019402127975666,-0.13122688356269996,0.0,0.0,-1.037546561222805,-1.403518856235372,-0.07140042078269918,0.0,-0.06889299791754445,-0.31296387809912274,0.0,-0.07131933663791765,-0.07303469004576424,-0.0778717524414426,0.0,-0.07524725119804553,0.0,0.0,0.0,-0.06836069088825773,-0.35372175848367354,0.0,-0.6823634237401066,-0.06410530430732068,-0.3891377173741317,-0.06784004973651266,-2.272967439869151,0.0,-0.06793531623743168,0.0,0.0,-0.14481142027360874,-0.06961540322515981,-0.10382357392186244,-1.129908237136764,0.0,0.0,0.0,-0.16552308521858788,-1.5233540087770465,-1.2298997404843837,-0.05220751790478499,0.0,-0.6774097005003864,0.0,0.0,-0.06550157394867666,-1.3635080365262628,-0.23509541651350996,-1.5622733053239444,-0.04570160411280806,-0.06535768973700842,-0.07940776582554074,-1.0938335525933478,-0.15506173369999862,0.0,-0.0628634328120574,-1.049561588094044,-0.07178285974010266,-0.23578011654969064,-0.0650889531777536,-0.09068022742087,-0.07124654541040382,-0.07216395879253404,-0.07751296173528084,0.0,0.0,-0.05089994766950991,0.0,-0.23522898424615554,-0.07434802390345416,0.0,-0.06685468281272827,0.0,0.0,0.0,-0.0642118078631513,-0.06600792012778656,0.0,-0.06333984426597157,-0.060568359190791385,0.0,-0.07617908271049381,-0.06434711808858995,-0.08404188643210496,-0.0743163954131169,0.0,-2.547579105231375,0.0,-1.127992151077094,0.0,-0.3995001112544667,-1.1184613266566747,0.0,-0.9581158464059676,-0.796715659838091,-0.20692067604083147,-0.07838392416029039,-0.16080085192845212,-0.06749458958330043,-1.3182200144480676,-0.0617035584159495,-0.06023753564374398,-0.0706462007084065,-0.20170263942416636,0.5681361209572111,-0.08647963705876124,-1.640660492223342,-0.06914379078879529,0.0,-0.07535654304984182,-0.09695478459035267,-0.28274426385212764,-0.3474329302305947,-0.07752014797925522,-0.08563534282029733,0.0,-0.0739152339792154,-0.06544062067712966,-0.539024570965658,-0.06511889667406812,-0.06466413704102875,-0.059733270133390165,-0.0620265582934628,0.23387744863619003,-1.2458275466094157,0.0,-0.07604569569246603,-0.06986319983698773,-0.07192626154256179,-0.06891481358897926,-0.15626349122191366,0.0,-0.07276666964725939,-1.168940106015814,0.0,-0.39945592111970596,0.0,-0.06748428837697355,0.0,-1.5267629352969367,-0.08746806930315573,0.0,-0.08405662328881708,-0.062488737462336165,-0.06497959554148947,-0.06708396073470238,-0.06314382133321036,-0.06361369533631633,-0.06894156417290966,0.0,-0.1354795516634183,0.0,1.0652552325123577,0.0,0.0,-0.09235134432660955,-0.06590462601304249,-0.06508988316267895,0.0,-0.06348686150029716,0.0,-0.07414433815773729,-0.20591546367623967,-0.08665356283097508,-0.06523688550096705,-0.19788579869075318,-0.07222072400230982,-0.07527225161755008,0.0,0.0,-0.24599371643018764,47.53675724438407,-0.0565923242104121,0.0,0.6407585517878956,-0.07512572498962104,-0.08464835542274442,-0.9025064081712306,-0.07159960113526659,-0.05709618252213211,-0.4532077550844275,0.0,-0.07564670398965716,-0.8638766285815384,0.0,0.0,0.0,0.0,0.0,-0.07134072272735971,-0.1211053863977825,-1.44968556271623,0.037583787429158334,-0.10226597559359775,0.0,-0.7044658089261868,0.0,0.0,-0.13761664618909947,0.0,-0.20880934222008007,-0.06845462792644996,-0.6191992373720359,-0.07387795866704401,-0.06934338285536301,-1.1745153379104036,-0.4383400901976173,-0.7097424084445847,0.0,-0.11113474674113911,-0.06467590280895157,0.0,-0.24700865076018794,0.0,-0.06994695922030925,-0.06642275950420544,-0.07579646881672542,-0.06961494962697343,0.0,0.0,0.0,0.3543000255572915,-0.10549904326589522,0.0,-0.42333016390018224,-0.30788663066979144,-0.07361171733696327,-0.38679816405919537,0.737823407096902,-0.09100626419650233,0.0,0.0,0.0,-1.0897805172444515,-0.15888671446795927,-0.4998558314063938,0.0,0.0,-1.0603892790192542,0.0,-0.0721292848452218,-0.16486341779830987,-3.7075322012996113,0.0,-0.07665898243827952,-0.06552556635718805,0.0,0.0,-0.07435615894602102,-0.0765373129564294,-0.0639915421193251,0.0,-0.064339596684912,-0.07844296243136938,-0.9319161548080834,0.0,-0.0636408635395882,-0.054269295141232424,0.0,-0.0531527047545805,0.02333989996684381,0.0,0.0,-0.2312783853234294,0.6132079437544339,0.0,-0.7008234065369976,1.000667468386352,47.91899817344751,0.0,0.0,0.0,-0.8470063108342657,-0.07106798308302543,0.0,0.0,0.0,0.0,-0.12972556643712224,0.0,-0.06037322197712725,0.0,-0.27144166743290343,-0.06800181215719613,-1.2193727105752985,-1.3337231095207602,0.0,0.0,-0.09014176128095193,-0.16095381383987434,0.0,0.0,-0.07282688404040424,-0.07366699544978178,-0.1962989394472838,-0.06639251724788191,-0.07599576435931572,-0.9043673433917353,-0.004910067503835823,0.38169524791749276,-1.1004506468668445,0.0,0.0,-0.05391725454435038,-0.0807910589590435,-0.07867978465404998,0.0,-0.06817756517409483,-0.06848851152858716,0.0,0.0,0.0,-1.2860932375007421,-0.1406102590733631,0.0,-0.07186765033704864,-0.8850925350029337,-0.5562481949690724,-0.07069609248451987,-0.07771915484821747,0.0,-0.08456609608369108,-0.15510566370388756,-0.1130029180185145,-0.07520615609211302,0.0,-0.06498604751355938,-0.0828594713564557,-0.07635636642659654,-1.4429890776579075,-0.06186688829687407,-0.0750803493063828,-0.13289440440952013,-0.05449651014200687,-0.0652856177414637,-0.2745330914409051,0.0,-1.1350162711392255,0.0,0.0,-0.06893553095751571,-0.11879359724459508,-0.33521466174513287,-0.06660542459645291,-0.07210952086084983,-0.0975649377863798,-0.08666027760510656,-0.9804265288157342,-0.07720668669506293,-0.06528720771211834,-0.0693472023877617,-1.1680205694363872,0.0,-0.48022335258605026,-1.2960829569442212,-0.07442300499492616,-0.17440360046344386,-0.07418933556071845,-0.0658794436874322,-0.06684916773140914,-0.07480972371179588,0.0,-0.08182434455734719,-0.07229978265375299,-1.4385595583343689,-0.08171398229525487,-0.11080771375282532,-0.06426977723370958,0.0,-0.060637973382947324,-0.06220342395577493,-0.09260991404674274,0.0,0.0,0.0,0.0,-1.2078090374809805,-0.1633232881223025,0.0,-0.06257922724988739,-0.2816098302334643,-3.96009871289162,0.0,-1.1245755041452346,0.0,-0.36290866643392505,-0.07068342711417841,-1.6620334490914537,-1.2643254114807325,-0.08635175862679541,-0.07715537476423304,0.0,0.0,-0.06760902327531626,0.17411200054153236,0.0,-0.14807442593178846,-0.8459758226301773,-0.07987549525796586,-0.9564707219582727,0.0,-0.06542907217333901,0.0,-0.16482056788856217,0.0,0.0,0.0,0.0,0.5215389011408967,-0.9342221401863944,0.0,0.17595637236425954,-0.12089582667868515,-1.9649614988864832,-0.0656987335399683,-0.4416794193460525,-0.3687544824376176,-0.0727533148955368,-0.06698257675424524,-0.09179790748906394,0.0,-0.0706282374773229,0.0,0.0,-0.8583292870045724,-0.08023098191154711,-1.2659315488658447,0.001607109962171316,0.0,-0.16406235367010288,-0.07064408359390785,-0.07110348672836869,0.0,-0.07893618565308745,0.0,-0.9509319547607442,0.43319667266454187,0.0,-0.4537412971149861,-0.06638570223070116,0.18977732103959305,-1.0466886702521994,-0.03487309237493009,-0.17561295699157656,-0.05762229455777229,-0.11319684460548268,-0.0748117753682909,0.0,-0.1597673024094576,-0.058961067594397,0.0,-0.2749066027268052,-1.3261284641890057,-0.06852994351005776,-0.06614729903289356,0.0,-0.43370983555952,-0.07221057302758967,-0.6146287044855443,0.0,-0.11141217078117732,0.0,-0.06897535194757781,-0.07294051862339845,-0.06982731602210196,-0.08855976403207683,-0.06460864900865541,-0.07024163118948783,-0.08760808236882409,0.0,-0.650839662915876,0.0,0.0,0.0,-0.28355724663052073,-0.067809685993327,0.0,-0.06598172509375076,-0.04711357682097936,0.0,0.0,-2.9507095763998854,-1.155994948763299,-0.07392556146152131,0.0,1.0420947956772508,0.0,0.0,-2.7816724253094955,-0.8013388643208104,0.0,-0.2465549472427949,0.0,-0.06454840915628207,-0.07228029994602797,-0.06698826938069573,0.0,-1.121505171136334,-0.09233628693858593,-0.06447109218400883,0.0,0.07133523562224423,-0.15659126064881193,-2.2039081189191756,-1.751455114579345,0.0,-0.06505277163474636,0.0,0.0,0.0,-0.05635109763551117,0.0,-0.07004968936571222,-0.20010453889614702,-1.2916695288188107,0.0,-0.062105049494277524,0.0,-0.930741069215666,-0.0697525261237065,0.0,0.0,-0.4023881830559062,-0.07619138974249041,0.0,-0.07423428711904217,-0.05613620916936874,-0.07688924212102892,0.0,-0.18465385281290647,-0.0731169103010723,-0.07929340824365189,-0.705393534322752,-0.0409802297170842,-0.9315562627886217,0.0,0.0,-0.0658975420166137,-0.36477772205480563,-0.07044988099344582,-0.06776064087625377,0.0,0.0,-0.06376907513957852,-0.06772575572895692,-0.5864172608607681,-0.07534118853097896,-0.08419281970708445,-0.06964411154538604,0.44059604754785975,-0.06169429122896491,-1.3425729408887095,-0.07278889697927068,0.0,0.0,0.0,-1.950487300470078,-0.09300470610511988,-0.07431223295910078,-0.8636809154622727,-1.0222956892424218,0.0,0.0,36.70134917415083,0.0,-0.06571836223986108,-0.4739012030093707,0.17636462881968226,-0.07068854168005484,-0.047623666690443114,-0.24267118569212698,-0.06577348455625831,0.0,0.0,-0.06670666247846439,-0.17918254688193244,-0.0746805872600611,-0.07261380510439272,-0.06041263977117144,-0.06489299629489223,-0.6391452790950735,-0.06565124718409124,-0.7105718849623333,-0.07102457715650269,-0.0685400472275672,-1.3775297388750458,0.0,0.0,0.0,0.0,-0.09661548633274472,0.18832125011044765,-1.1820139642549834,0.0,-0.026347965152569236,0.0,0.0,0.0,-0.0874652092416137,-1.3884290766569976,0.0,-0.07614624617915147,-0.16436023942772632,-0.7527634715236508,-0.07977598547532179,0.0,-0.12601431534878058,0.0,0.0,0.0,-1.1565023171895223,-0.05889614000406532,-0.5694494657851854,-0.19988285368732092,0.0,-0.9329918512054117,-0.15103677197714171,0.0,-0.06088167216265887,-1.3600273499658724,0.0,-0.06565367418955624,0.0,-0.07095731932317254,-0.06161205584335228,-0.6956003496648304,-0.9288688919029053,0.0,-0.38245078716955705,-0.08613245975887186,0.0,-1.8534871074868802,0.0,-0.08356864475625522,-0.14940952825606219,-0.07541063731131205,-0.06641114509300008,0.0,-0.0640754327728412,-1.3402246980041008,-0.07322187226054908,0.0,-0.7942015819822854,-3.247375939082099,-0.45117477042355575,-0.06977794797178868,-0.06057588072945996,-0.11149180945375071,0.0,-0.07401710868867388,-0.059389429269230826,-0.7461322837617567,-0.09440189889312255,-0.11669445727785617,-0.0685323326295421,-0.08307200475907803,-0.14259173088058652,0.0,-0.0697708339532201,-0.06365053491465358,-1.537179136226035,-0.07314216780383298,-0.06625625381627252,-0.30230038070553167,0.0,-0.06457565545998183,-0.06065509034301542,-0.06286935212919639,0.0,-1.0970889082954054,0.0,-0.19244573584762495,-0.07496405553969257,-0.0732417750430018,-0.08790481087116385,-1.699099479866841,-0.06705084663946442,0.0,-0.08619010507040371,-0.08306029238776012,-2.38434851631992,-0.07648659966202287,-0.07810597875726888,0.0,-0.06192811176006261,-1.8352004674882323,0.0,-0.07444786654373997,-0.09028445689712215,0.0,-0.19500526175348967,-1.1320687775741654,-0.1863563969107903,0.0,-0.07635877569941828,-0.07105877518720863,-0.05850583961653155,0.0,0.0,-1.1975202133884,-1.7698064876901969,-0.06813077254870145,0.0,-0.6819835000884503,-0.0756049230440508,0.0,-0.07043140114614192,-0.0738214100188624,-0.12870573883648073,-0.06627600382544403,-0.1139303724821747,-0.06464912559984078,-0.07842443744646249,-0.7000770195784501,0.0,-0.06449525295730398,-0.06996777386845153,-0.03766139235432891,0.0,-1.691318496278537,-0.0654210791186474,47.91742434724296,0.0,-0.09520652354219562,-1.2576110443329371,0.0,-0.09058515847729075,-0.06768075282660473,0.0,0.0,-0.07841645962030114,0.0,-0.16090053082152236,0.0,-0.4241027839814756,-1.2020770679005395,-1.4374521089833392,0.0,-0.30423018593863876,-0.0644935736660317,0.0,-0.2998897584780725,-1.1928980516369299,-0.08064674079203313,0.0,1.4132615906036372,0.0,-0.06654155256424732,-0.06411728279247325,0.0,-0.08853226664783355,-0.07073263319986275,-0.07836536724122521,-0.897791296247487,-0.0911155122872863,-1.806443165463945,-0.06756308419901214,-0.07524167793800754,-0.0669794226538069,-0.4308949793855287,-0.09795788590104504,0.0,0.0,0.0,-0.16565690564646923,0.0,0.0,-0.8700665144627299,-0.059976479513107334,0.0,0.0,0.45796968742700306,-0.6783356035401056,-0.32660274965603125,-0.06600185709165625,0.0,-0.18781071298808405,-0.0746655415792333,0.0,0.061567046336503915,0.0,0.0,0.4199614303373237,0.0,-0.036087474740584526,-0.19793408981618674,-0.3089674376270605,-3.575644868798078,-0.06888040320212442,-1.647110586010169,-0.0907136952108528,0.699017105345035,-0.07202606708714675,-0.06927868593920802,-0.8813650267664175,-0.06088905928973272,-0.06473386838725817,-0.1574809763075338,-0.7566685755168587,-0.8287347282604117,-0.08097249756281695,-0.06836283019109668,-0.2815640794062864,-0.06937614728686169,0.0,0.0,-0.16080667188085976,0.0,-0.08494337053115084,0.0,0.0,-0.0706872140649369,-0.08653414005337937,0.0,-0.05235173379391615,-0.07438822805459502,0.0,-0.019646590381720567,-0.0716245457040795,-0.46922222421237925,-1.2974701629373326,0.0,0.0,-0.06613818595952994,0.0,-0.07223629810919795,0.0,-1.7845025541091493,-0.14517150401478934,-0.07761638209787218,-0.09299142936345939,-0.11354981307081213,0.0,-1.8016305008575384,-0.06947523162361863,0.0,0.0,0.0,-0.08705589888655052,-0.07470038629629294,-0.06848898398355177,-0.12215638978813677,-1.2222589126385488,-0.07184696797379511,0.0,0.0,0.0,-1.4777596048966026,-0.06337330896016362,0.20131087380763546,0.0,0.0,-0.0664160633705523,0.0,-0.9244142831715387,-0.32343148528563237,0.0,-0.1311691116277325,-0.06591486886775601,-0.050890892425221324,-1.0836740629259973,-0.10041000046599687,-0.2733522753068907,0.0,-0.08367525107673007,-0.5458935942570109,-0.3896457577673358,-1.0580758219162278,0.0,-0.030271041965003607,-0.07761050623100997,-0.17867485878212916,-1.1598684360777327,-1.5948091367326347,36.76486313869109,0.0,0.0,-1.0892624083013642,-0.5908933535102303,0.0,-0.07298550624092195,-0.08195886361448425,-0.07040006365178707,-0.7392277672886374,-0.27629848455868905,-0.06943621928229614,0.0,-0.05832499139263031,0.0,-0.7569899772893476,0.0,-0.06357797099120185,-0.4296196020821963,0.0,0.0,-0.07911592050244798,-1.315245535568545,-0.06497687212530062,-0.6808611108379656,-0.3199616828962647,0.0,0.0,-0.10786172391195457,-0.11852240206339763,0.0,0.0,0.0,-0.7070799171176481,-0.06592107329387546,-0.1589768417131475,-0.07629488598448285,0.0,-0.07399756504300964,0.0,0.0,-0.06982744050996229,-0.07763042513279211,0.0,0.0,-0.10583386567579545,-0.5534437342593828,-0.08142031151048082,-0.10535793648026813,-0.8691767342544091,0.2040264558118943,-0.06926729549185807,0.0,-0.07232339643349207,-0.07198782173235188,-0.07035177826360797,0.2600927297106016,-0.22779032201517582,0.0,-1.414235548350916,-0.0780835087738871,-1.1308457424856249,-1.200887099507783,-1.340268412985573,-0.7998583909150669,0.612483073900414,-0.07451306059141759,-0.28960061230119616,-0.08378482154499946,-1.156060774395961,-0.07189900462483045,0.0,-0.04703659348244704,0.0,-0.06413501494158705,-0.07208675396549262,-0.07438612392359005,-0.05424247866910063,-0.25774047256795884,-0.06943527186520763,-0.0685449696559963,-0.17773415908474244,-0.07736498390613994,-1.2086568049065676,-0.06939335974602151,0.0,-0.1357351089459674,-0.08700710463256381,-0.06131714637165381,0.0,-0.06302607554818604,-0.06412113009333782,-0.8786503532746185,0.0,-1.2301425104917907,0.0,0.0,0.0,-0.09381652709334874,-0.09215962591731933,-0.44393262286103313,-0.0640141424132108,0.7237075827127514,-0.06596611739127008,0.12230588283216469,0.0,-1.2595065922785964,0.0,-0.06461106295978819,-0.07107185145653512,-0.07381991891255457,-1.2112510153490688,-1.621759202855202,0.0,-0.06799514882044352,-0.0979900451155917,0.00150673726418656,-0.07281878833748703,-0.07848431504492841,-0.06963090485233155,0.49123957449147115,-2.2304090393577938,0.0,0.0,-0.07268789731881481,-1.2542601173792065,-0.632169881443656,-0.25796246982917553,-0.6255797782912857,0.0,0.0,-0.05381471412232232,-0.11789958411932007,0.0,99.48362939267702,-0.07033706585445858,0.0,0.0,-0.08602563194131195,0.0,-0.07414012645616744,-1.1690249040740268,0.0,-0.07566851440400114,-0.8009981424214956,-0.07010024912552874,-0.06334356238104288,0.0,-1.1037067091836867,-0.06873465859768857,-0.07342249444390177,-0.06875743638063322,-0.08855276458532263,-0.16998222409908692,0.15209640137655842,0.0,0.0,-1.1084029303298668,-0.32329725426683503,-1.6633798734282137,0.0,0.0,-0.04754338788617772,-0.32520940785412095,0.5525466163267573,-0.15090069863076142,-0.07319650102451433,-0.06628446382019705,0.0,-0.07510057017445401,-0.07007611822581798,-0.2666408007608807,-0.16498896969130358,-0.31754671518559224,0.10546895086615969,-1.134181797466527,-0.9384436049831786,-0.09789981450679189,-0.9735935669354397,-0.0678155431682645,-0.1578336857421773,-0.7356954808726639,-1.3717050617848379,0.0,-0.2502645670261758,-0.16115150830910885,-0.0745333796462938,-0.4488655207442075,-0.06253711137428988,0.0,-1.6394250271205113,-0.9184312108613502,-0.07002293545693544,0.0,-0.06547824041691894,-0.23827298655491375,-0.07486597401900606,-0.2008085170719234,-0.10335782782637287,0.0,-0.05432986821143525,-0.11583530015309665,-0.35600013040089246,-0.07202856311874689,-0.06459578807818515,-0.07129384224474647,-0.11946625433530249,0.0,0.0,0.0,0.0,0.0,-0.07250050284725082,-0.10067746949170674,0.0,-0.18049309824847362,0.4637320022278569,0.0,-0.09873873359906156,0.0,0.0,-0.2935553197436493,0.0,0.18522067626724587,0.0,0.0,-0.06911742481473655,-0.09575365849787358,0.0,-0.0314235234872814,-0.07239001240015977,-0.07142612950385265,-0.07374992945544792,-0.06481007819823464,0.0,-0.06617565192061796,0.0,-0.08320980610592513,0.0,0.0,-0.0794779551588339,0.0,-0.06798247195423765,0.0,-0.1204851305156122,-0.0730792179263319,0.0,-0.8581426585982712,-0.07881708170327324,-1.1135482498893166,-0.14000638008726096,0.0,-0.9816260546619553,-0.06728223852329601,-0.15800719632508836,-0.06319883177370478,-1.0475672727504939,-0.07413021682754337,-0.06752974753660716,-0.21940083689348494,-0.13631265609502513,0.0,-1.2053524500295194,-0.06738667194244506,0.0,-0.14460057348997943,-1.1692875004567376,-0.08383255063879677,0.0,-3.330523996756576,-0.08005107965311183,-0.5773270146455604,-0.06792101433292853,0.011674225941772589,36.588606227237925,0.0,0.0,-1.3609487698043676,0.0,-0.1078434965102554,-0.18300098467332018,-0.23854218171067032,0.0,0.0,-0.9668841734498655,-1.17880868482501,-0.07608879810974939,-0.05321239972451403,-0.0412535447672683,0.02859050956412112,-0.6693236828495592,-0.09218555727293813,0.0,-0.06446995464019221,0.0,-0.15566538962733073,0.0,-1.1398054555919337,47.40832906479874,0.0,-0.06841341783121017,0.0,-0.0657834258259552,-0.06280081093955578,0.0,0.0,-0.06962513709396219,0.0,-1.1607554929976966,-0.026819068722099312,-0.2245598353844079,-0.779548086910492,0.0,-0.0717702748120904,-0.06477058836657869,-0.0674982614857068,0.0,-0.07039042820302181,-1.0529475262459558,-0.07539331693215957,0.0,-2.897849549641299,-1.4323061530566452,0.0,0.0,-0.07338538135759878,-1.094211121717881,0.0,-0.7953129321794741,0.0,-0.08761523911917775,-0.12606449206907794,-0.09091737303480397,0.0,0.6345803024747139,36.71559648222608,-0.8282449578324373,36.722034507285294,0.0,-0.06716847253449164,-0.772887388760944,-0.07635964748496987,-0.11831856082805713,0.0,-0.07207457982927468,-0.07457112754511802,0.0,0.0,0.0,0.0,-0.08293140636321264,0.0,-0.06327503456105679,0.0,-0.7530808528032312,0.0,-0.07926726832646157,-0.06473951526727587,0.0,0.33810633888564373,-0.16150878434664107,0.0,0.0,-1.0666258011292553,0.0,-0.0639857566532705,-0.0738353753585383,-1.2473202823792644,-0.07106073091735882,-0.0738208316363494,-0.2979288703911984,0.0,-0.06588269152364136,0.0,0.0,0.0,0.0,-0.06866474119456403,0.0,-0.8001043471074417,0.0,-0.07840369999933348,0.0,-1.2274353805262912,0.0,-0.06414752624133087,-0.05550369233599411,-1.0929084654624142,-0.0672230299976155,-0.09211311877913944,-0.06821263030093287,0.0,0.0,0.0,-1.1024001749316954,-1.146467400929298,-0.47089511227341124,-0.07608000221630026,-0.09026244409548526,0.0,-0.060174969455103054,-0.09647037673146575,-1.0786838471710654,-0.4253423405118566,-1.180050719182879,0.0,-0.25571417048002765,0.0,-0.06656965108997535,0.0,0.0,0.0,0.20179856263156487,-1.4420023274779297,-0.08796895986496076,-0.3287188100197155,0.0,-0.06680333553757101,0.0,0.038431099440950946,0.0,0.0,-0.18423403218092485,-1.2161879159526965,0.0,0.0,-0.0899719962940198,-0.0606702745605448,-1.2263069827870605,0.0,-0.15370192873450753,0.05519483932737804,-0.07020999657056405,0.0,-0.07581432205119773,-1.1863735409310123,-0.06631159055369472,-0.06769530094271543,-0.07809284730152402,-0.4017340751205437,-0.07624513116811771,-0.07410869510725707,-0.0785911100802049,0.0,-0.048885557315637804,-0.06435638871162404,-0.08863195475959507,0.0,0.0,-0.08179981284977524,-0.9022346804894661,-0.08110946676722722,-1.036890463447932,0.0,-0.06708465699948121,-0.0668247476223591,0.0,0.0,0.0,0.0,0.0,-0.10212405726725482,0.0,0.0,-0.0799663196183007,0.0,0.0,0.0,-0.7339821224003469,-0.0830917826517202,-1.1764035688755659,-0.1114023694066391,0.0,-0.11229274989299458,-0.0723211242737911,-0.07063743795131537,-0.08242228237550868,-0.07570117653943843,-0.15974532626613264,-1.2668519601612342,-1.3212254009741822,0.0,-0.16406922197159468,-0.08671807194467222,-0.06457380884404501,-0.06447408502534563,0.0,0.0,-1.030091579844187,-0.8699303934566335,-0.09674560385779629,0.0,-0.05956667913244699,-1.607856500730039,-0.059885420397200004,-0.12056082746942709,-0.06128985787724327,-0.06859882520145284,-0.11405251459123047,-0.07731710573012139,-0.1080537628615019,-0.05775651303757844,-0.07631997831230004,0.0,-0.09380023584482472,0.0,-0.18590097503351105,0.0,-1.1340214607337737,-0.04739523602638258,-0.44530414574189253,0.0,-0.07056987576960937,0.8105854529690458,0.0,-0.15656613550206136,0.0,-2.256585048436242,-0.07046989978355307,0.0,-0.035833716045662614,0.0,-0.1152311948125241,45.71075384325622,-0.16324443777285785,-0.06528293424596686,-0.0666653169354852,-1.1503865232560402,0.0,-0.07107627770524953,-0.4308267159641016,-0.33167155016866934,0.0,-0.06935711261601153,-0.06620233528241135,0.0,-0.06812486709966338,-0.07473268424176487,-0.0705355076368931,-0.06792438997660936,0.0,-1.1760312895316378,-0.058987535628010894,-0.06895401510651468,-0.38183590870825346,0.0,-0.07694695178687427,0.0,-0.16165038809946936,0.0,-0.06402531474684772,-0.2860591285219041,0.0,-0.16113950422942525,-0.08307862821460656,0.0,0.0,-0.08112495304573372,-0.06519468598348253,0.0,-0.47276446443130804,-0.06469492687539731,0.0,-0.09666130730141251,-0.08057771823553038,0.0,0.0,-0.05597723806093948,0.0,0.0,0.0,-0.039145076630469795,0.0,0.0,0.0,-0.07638492179956162,-0.07771439147514927,-0.5404475258088935,-0.0748453728108681,-0.15870717985454508,-2.2453534694411417,0.0,-1.1173625082847087,-0.0643656714480908,-0.06444935684482835,36.75912460994397,0.0,-0.3977049047298298,0.0,-0.06730200556247534,0.0,-0.07252639446369519,-0.09208507516393298,47.920197111783125,-0.07676481247165359,0.0,-0.07484673011083783,-0.06839439102965836,-0.3388787204113071,-0.07241720870950283,0.02339933664691767,0.0,-1.2652782856791471,-0.07068284470821976,-1.1489765506052694,-0.0643084569793065,-2.4990747565667215,-0.07719814332029885,-0.14898791341211218,0.72774231641925,0.0,-0.06439996620883962,-0.06773398925845707,-0.7677944270462331,0.0,-0.07057723031350578,-0.8691242530585175,0.0,-0.06677360898511418,-0.07353298430740872,-0.07679110559730451,-0.0706599333307297,-0.08118329776921684,0.0,-0.08126635077851231,0.0,-0.656364181038119,0.0,-0.07201329629294431,-0.5012850665806861,0.0,-0.06978599886456267,-1.1468601551122006,0.0,-0.5764642319961554,-0.208846528183178,-0.13348727476217676,-0.07631050535331818,0.0,-1.730423177399885,0.0,-1.0533721346988363,-0.1616681559370145,-0.08204783245407402,-1.0986960080768229,0.0,-0.07222139444471135,0.0,0.0,-0.06086941169926823,0.0,0.0,0.0,-0.07329836027736847,-0.06772412261397018,-0.3005227887282567,-0.07688044721592646,-0.07444689800565732,0.0,-0.069006389930762,-0.3318450154248549,-1.1356453330070138,0.0,-1.773408043119498,-0.07088530084569551,-0.0766247140252834,0.0,0.0,-0.08265372438136814,0.0,-0.08099694508996325,0.0,-0.04156181896252642,-0.28657462415367974,-0.06647270325156529,-0.24392796843644426,-0.149586369760751,-0.07241649526629391,0.0,-1.1037427495706595,0.0,-0.06401883720969255,-0.1524490745290164,0.0,0.0,0.0,-0.08256553012599999,0.0,0.0,-0.42258662289317106,0.0,-0.0646847499681486,-0.06270430876913662,-0.7855912731890419,0.0,0.0,-0.08174772062826974,0.0,-0.06778202704342481,0.0,-0.9830054759955863,-0.08010032167679244,0.0,0.0,0.0,0.0,0.23511552412887723,-0.06569726035319057,-0.17374418834478925,-0.43714075782441775,-0.5690110590782071,0.0,-0.06764052551789922,-0.06285839968701247,-0.2767487360018876,-0.06305053369994752,-0.09315248896952186,-0.10358228125116446,-1.3401372042471844,-0.06541444377118172,-0.4086317722517195,0.0,-0.07355255351792227,-0.07313788270583753,-1.1869169727623845,-0.8596311807412411,-0.06517088905472153,-0.7599614327144383,0.0,-0.12339836692541052,-0.25332628273312774,-0.07131182582933608,-0.06814174187819437,-0.7330006625153719,-0.16195001691615496,-0.06729763202119625,-0.02431005174512165,-0.1887333279735183,-0.07403362585922592,0.0,-0.13208228182538886,-0.07087408633719701,-1.536897685798958,0.0,-0.9896886790122543,-1.3145320545497179,-0.22168515206430003,-0.07139879895721066,-1.1837836162741016,0.0,0.0,0.0,0.0,-0.06695598039304511,-0.07476233953106609,0.0,-0.7545969473743102,-0.07411367282825927,-0.06637694431237305,-0.0649893448224344,-0.08200211946213506,-0.0736236040204094,0.0,-1.1721205439644713,-0.769292550377113,0.0,-0.09201436684113408,0.0,-0.08028130668844678,-0.08261043628818177,-0.4463910664559283,-1.5324136157855952,-0.281825519031773,-0.08705753020588429,0.0,-1.4138080253356142,-1.1248170105274693,-0.070697449389975,-0.2117230284592941,-0.07629574616480034,0.0,0.0,0.0,-0.08163601138380475,-0.37019696895627435,-0.07078268541428097,0.0,0.0,-0.6825165856547927,-0.07273229895445851,-0.7158310269570336,0.0,-0.0671141916752008,-0.06893000512923686,0.0,0.0,-0.0936187670455655,-0.08164072010146316,0.0,-0.06938447445724603,-0.2819659722020867,-0.07462568779565704,0.0,-0.07581548888221362,0.0,-0.29543489091339514,0.0,-0.06356372602737839,0.0,-0.06566739971967896,-0.08916035965075711,-0.1624761656022047,-0.0724314452489064,-0.06950978036319123,0.0,-0.07220439140525424,-1.3117542148926298,-1.2147463379854637,-0.8437814255917413,-0.06790744559091096,-1.44850222317326,-0.15274998791180056,-0.16269908949637593,-0.4082678278686277,-0.0642676974327659,-0.07466291938217261,0.0,-0.06561121383517199,0.0,-1.1746846048252761,-0.06631691030724333,0.0,-0.06899079699558829,-1.4934618658120455,-1.1466953477944504,-0.0986905237745442,-0.5264707956190962,0.0,0.0,-0.6635821657242278,-0.06834553542738944,-0.07098582130766673,-0.05906551077075685,-0.07084872517805622,-0.1380746595924502,-0.08042616499361202,-0.11251385499961725,0.0,0.0,-0.1349620268122303,-0.06307761042607048,0.0,0.0,0.0,-0.06397463936402796,-0.07857090344153879,-1.2022570094276244,0.0,-0.06407960739120809,0.0,-0.8440019364935081,0.367431985908934,-0.4140542855397733,-0.06791861702012925,-0.06978871565510736,-0.07775742959342725,-0.07853943454098103,-0.28841129309663605,0.0,-0.5044251639723124,-0.07655959200241805,0.3236010111718155,-0.06608552842281334,-0.07099522446727044,-0.8413425173816543,-1.0935052868370576,0.0,0.0,0.0,-0.07068511959028329,1.3230151161906218,-0.16602117186711365,0.0,-0.6955637459170974,0.0,-0.07218607449059451,-0.08288559680944595,-1.1941670462439307,0.0,0.0,-0.0742632010449229,-0.0727046256076106,-1.2415132279887,-0.11206703601996038,-1.1128755561580128,-0.06702634335604403,-1.4199679621937888,-0.05722620960140247,0.0,-0.06807435353745772,0.0,0.0,-0.061648506642698546,-0.07285473881475324,0.0,-1.208091416498183,0.0,-0.065975605794452,-0.09340122366853054,0.0,0.0,-0.07690934168018804,0.0,-0.06602517824744307,-0.16972177302169036,0.0,47.92039395782751,-0.7277026398798585,-0.0713805557108312,-0.0693719627078746,-0.07299590966130472,-1.0499874121599115,0.0,-0.09624889011543152,-0.7844180285695547,0.0,-0.06703149189379545,-0.08394122484904618,0.0,0.0,-0.09487396335834249,-0.06721890909273312,-0.0729880911562742,0.0,0.0,-2.0060165378932,-0.3174363206080135,-0.06900873824200436,0.0,0.0,-0.05760719448595686,-0.9410354174141875,0.0,0.0,0.0,-0.16231231909431693,0.956705893333021,-1.1302877813239853,0.0,-0.06240900291714195,-1.055664943368688,-1.115905919239009,-0.06891310441808028,-0.11364891401555405,-0.10132676854303115,-0.9936594034473188,0.0,-0.0717931112809779,0.0,0.0,-0.3205324291068377,-0.07279212037415236,0.0,-0.11746572794010944,-0.22154387787600918,-0.7518241808554159,0.0,-0.06481962808614805,-0.6938986749234503,-1.0888234919830162,-0.06920586207297667,-0.07751926949205877,-0.15024993974490336,-0.07545962344977389,-1.773976598177874,-0.2711188875440366,-0.0924006100161904,-0.734742090724082,0.0,-0.1171453375392793,-0.08481459108052906,-0.06939763911503641,-1.2257937313209324,0.0,-0.08323764931486836,-0.07741855236879526,0.0,-0.07173164614760226,-0.10626748854225278,-0.0757152126820436,0.0,-0.3641793405478524,46.189648438271036,-0.1827601703555028,0.0,-0.2188341275430579,-0.08464819865248352,-0.07547240062258545,-0.3145815234471605,-0.06904493038262571,-0.5749459015837495,0.0,-1.2659676892878349,0.0,-0.06821443805853741,0.0,-1.1150800116890354,0.0,0.0,-0.0648088722201891,-0.553803114349879,-0.3020185888315627,-0.05017085821879282,0.0,-1.1329762138272386,-1.1578205422836905,-0.06976273079764127,-0.07853083096917146,-0.071134704627721,-0.2570117922781281,-0.13105661959085138,-1.0473388328885092,0.0,-1.1359590597593159,0.0,0.0,-0.069121405760692,-0.07358671208726092,-1.227078266128269,0.0,-1.0948110811597784,0.0,0.0,-0.08693656149851949,-1.4621059732227173,0.0,-0.38905393390360865,-0.6547211251902311,-0.7703937060777326,-1.096033105350149,-0.07364826258371696,-0.11231927948316188,0.0,0.0,-0.07973116935501905,-0.09173343896273295,-0.0694640714519741,-0.17211713750257496,0.0,-0.5894723119474412,0.0,0.0,-0.07249098014427795,-0.0872355861788966,0.0,-1.670402767996784,-0.06788653546717247,-0.06956508034455224,0.0,-0.964793639416063,-0.3556801153330712,-0.07265278469694049,-0.06727524953252863,-0.12044384837551897,-0.4360119298008693,-0.09050237509274683,-0.09737315464950813,-0.07030708324346759,-0.07189250220812211,0.0,-0.35218610949846946,0.0,-0.08367951271890497,-0.11017250681600074,-0.08214090557308391,-1.323195885533241,0.0,-0.072329501930259,-0.06819721901164708,-0.09389760676849439,-0.2263261881939281,0.0,-0.09832686584999074,-0.39885749540391735,-0.06869831144847187,0.0,-0.084880069636375,-0.0665613835066091,0.0,-0.0704497984980379,-0.06625480821434442,-1.4165467059289032,-0.8257707800758093,-0.09014453435888851,-0.0729289426356357,0.0,-1.2089021330085334,-0.06759651007324113,-0.08561644048547162,0.0,-0.06807621626007283,-0.07595112115364985,0.0,0.0,0.0,-0.07233623226942931,-0.13385904681078895,0.0,-0.1066596069542862,-1.1172850514171153,-1.223813332413014,-0.0822193752412543,0.0,0.0,-0.06577128358537801,0.0,0.0,0.0,-0.07219916770511682,-0.07155915840354563,0.0,-1.1486686626061524,0.0,-0.06937959770892838,-1.3187474851041774,-0.07396727121490113,-0.06452328221133598,-1.1295668670992352,-0.08234687375174017,-0.06819463864759197,0.0,-0.28538447316274634,-1.6193705383860897,-0.0636135000365495,-0.0729540849905219,-1.3869647858053986,0.0,-0.1524580449128147,-0.07383139502824262,-1.2397660813478337,-0.06414577957283668,-0.08725358599257259,-0.221436160387323,0.0,-1.1928640288544614,0.0,-0.06517507702529846,0.0,-0.7408744565965549,-0.06677220825754898,0.0,0.0,-0.13858552011783695,-0.07509927685094635,-0.7771419283858507,-0.3725821822943495,-0.10171090209712878,-0.06606999128263616,0.0,-0.5789508085456094,-0.06510952462371578,-0.06886671689949188,-0.06195536598198873,0.0,-0.07037100496678396,-2.254254496244986,0.0,-0.07028593576124484,-0.08812794831284665,-1.1718431783629684,0.0,-0.07099250068541381,0.0,-0.06943549374832812,-0.42267469026065735,0.0,-0.07938551297717919,-0.3710721126598874,-0.29690772003733007,-1.2609082517380223,-0.8395443375461049,0.0,-1.0167007952571296,-0.07876584242169095,0.0,-0.09117893045463714,-0.07576534052546387,-0.10746708105428335,0.0,0.0,-0.0678889791448225,-0.05390067976337253,-0.08748576783486557,-0.0707265349235068,-0.06552617233450982,-1.8880125369023195,-0.06542968035362226,-0.23281137392434065,0.0,-0.07572242244279824,0.0,0.0,-0.06773109607871654,-0.06873424025110197,-1.2533193150551947,0.0,-0.1548516658287704,-0.07365035523146019,-0.04886100864857967,-0.06451929827569937,-0.3128840890350697,-1.2640524045057806,0.0,-0.9298132332349611,-0.0796794965339188,0.0,-0.1706892192933191,-1.1341402253900648,-0.8456173516183275,-1.132776145420781,-1.3450375302473663,-0.9753166583021291,-0.9595970985152423,-0.07439350917469927,0.41442324413049136,0.15446139689722976,-1.1770977988182576,-0.07755800265041356,-0.0772425699118561,-0.09303041235830337,-0.07939195765810958,-0.08514338156797387,-0.033275751871549665,-0.7553782659690764,0.0,-0.07811061944537057,-1.4436158858117554,0.5497007842122099,-1.2293497630902617,-0.8021467314541944,-0.08444379016073197,-0.06747647593313125,0.0,0.0,-0.36091018322525964,0.44843407131812657,0.0,0.0,-0.08094653153331156,-0.06831841945101834,0.0,-0.07703261597709307,-0.07108313352598314,46.423489486575136,0.0,0.0,-0.07409014744131823,0.0,-0.10391418429150306,0.0,0.0,0.0,-0.06489064835560904,0.0,-0.14417404123656835,-1.2187539697929395,-1.2004652586558864,0.0,-0.7767924323862013,-0.0663820422834157,0.0,0.0,0.0,0.6110122864751267,-1.1103319020358906,0.0,-0.08134012144077503,-1.3256607471751718,-0.07161485482587031,-0.08206978972931858,0.0,0.0,0.0,-0.4271918193765483,-0.36121485412483995,-0.4577547678699562,0.0,-0.06519646841484374,0.0,-0.0773538493852422,-0.42638320905397564,0.0,-0.08435790655481663,-0.07210410903769475,-0.07798155992161443,0.0297795549774493,-0.1189187591475433,-0.20493479031593745,-0.0670988111225197,0.0,-0.9663139617663942,0.9005737861416806,0.0,-0.15642674885872837,-0.9610531988702847,-0.06827612150994573,0.0,-0.09462413578828474,-0.09969288056436192,-0.06786883078016433,-0.061956484002774724,-0.07252646679391798,-1.279192174321837,0.0,-1.0154866073157227,0.0,-0.44787339241992025,0.0,-0.34137329661364374,0.0,0.0,0.0,-0.48678493396125433,-0.06324015031335217,-0.077376454947001,-0.11566259192308886,0.0,-0.4438759625619533,-1.4314525730225562,-0.10756296078000477,-1.7889999705594868,0.9737282403929604,-0.7585216042570772,-0.28876720248502763,0.0,-0.08652617468632834,-0.07422586635049684,0.0,0.05615765672158416,-0.0630697256390578,-0.07386268917712108,0.0,-0.30791596859830167,-0.07473222022307222,-0.09542513770633475,-0.3569505856658561,-0.06827185930368071,0.0,0.0,-0.9175183938036687,-0.12335257544865837,-1.4344446196716922,0.0,-1.9150987147906096,-0.06408640972490909,0.0,-0.046685906802696464,-0.07033432722039185,-0.08258462906855847,-0.43075412483020686,0.0,-0.07679859841336735,-0.0684744200368062,-1.4205759618596236,-0.07944993977417444,0.13412131929349655,0.0,-0.34952048160649674,-0.06923002682846412,-0.10628846825078772,0.0,-1.0171686370982684,-0.17228610539435654,0.0,-0.07463469051718748,0.0,-0.391739577589913,-0.1801273283530152,-0.0456752578981886,-1.1639474955740992,0.0,-0.05009701618004684,-0.06642554039462582,0.0,-0.7489252190100839,0.0,0.0,-0.08535165621456109,0.0,0.0,-1.2538954849134263,-0.27058300524374024,-1.228062328144729,-1.1577139662470453,0.0,-0.07486382153850082,-0.07321440106660322,0.0,0.0,0.0,-0.09115768172331366,0.0,-0.06679501152444052,0.041721960392930704,0.0,-0.07236960903650494,-0.1071662460214626,-0.07073612197247496,-0.9156277812781737,0.0,-0.06436401063895118,-0.0957882525912385,-0.32873977624933776,-0.11106141385948452,-0.08567486505414536,-1.0863717582095955,-0.043634572343272116,-0.18978417984408819,-0.0984027740029334,0.0,-0.06647117517405886,-0.1503937896743702,-0.055007345978527675,-0.07822265084733034,0.0,-0.08269391484724752,0.0,0.0,-0.08098821343472759,0.0,-0.5817688232079479,-0.06090224778145943,-0.08338550943512486,0.0,-0.11974844613008413,0.807653126067793,-0.1753446989135546,-1.07839018619093,0.0,-0.1643376153524798,0.0,0.0,0.0,-0.06638176119511667,-0.3541603305744832,-3.7707673252606697,-1.1171517885406195,-0.07844589406527526,-0.9154972136200856,-1.303388249857678,-0.1326013963381724,0.0,-0.7979506425775693,0.0,-0.5739690262636142,-0.48880470404939064,-0.49031145743467863,-0.5191226627628864,-0.06557908492308635,0.0,-0.06473718292213133,-1.1343526543376161,0.0,-0.08126623260058546,-1.4958610158433177,-0.33607703330120875,-0.06561026993503659,0.0,-2.03815189571637,-0.06682778286393348,-0.04944366535090821,0.0,-0.8179743954668846,-0.06777294428603821,-0.10471138062152537,-1.2580991300700335,0.0,-0.10430016686434126,-0.08079189227933045,-0.3403807616104061,0.0,-0.935715662007888,0.0,0.0,-0.07050528337006823,-0.07734559890972768,-0.14230724560245278,-0.1185681366013735,-1.1004595502284524,-1.179561347024461,-0.06528704341806338,0.0,-0.06810247448479818,-0.3859492798211724,-0.14741248890358422,-0.28196362639485223,-0.06812024824472908,-0.08047492656032268,-0.05538769682059262,-0.5952263976589457,0.0,-0.43692952593715373,-2.63537219163707,-0.0762326367343887,-0.3288336590475641,-1.2666754579517252,-0.06945429537164187,-1.5049319883576626,-0.06486919460720128,-1.5278061364193556,-0.06593742384703363,-0.06554669617406869,0.0,-0.3981763261010248,0.0,-0.06417728322973756,0.4767358402752039,-6.051266785508058,-0.209673209367767,-0.09650603591864096,0.44682121752558274,-0.1957888496463164,0.7981882729793403,-0.29729386773511063,0.0,-0.2968802759307792,-1.0902945474860701,-0.07414684904300087,-0.3528627888886693,0.886499181981038,-1.237375272173286,-0.16448386930496933,-0.06773814474712817,0.0,1.1878587173891995,0.0,0.0,0.0,-0.08122922690511886,-1.2616943804984047,-1.196962556968544,-0.36614741069853224,-0.7137525933639098,-0.1355983654047538,-0.07411411457962339,-0.07822681685347786,-0.06262636543113527,-0.07923109420895803,0.0,0.0,-0.06466082530500558,0.0,-0.058800061005637824,-0.07519196268000701,-0.0525138394192569,-0.06671951913141067,0.18331507542280623,-0.0750379537974782,0.0,0.0,0.0,-0.7684311934859885,0.0,0.0,0.0,-0.5014799907264633,-0.06871600687064672,-1.0381804765599074,0.0,-0.06598246983790725,-0.02908386156514482,-0.025645798738687584,-0.229918222600535,-0.2793846286799617,-1.4664754661125614,-0.06654407235065657,-0.15435830351522428,-0.09373607830352099,0.0,-1.463442146367066,-0.034713576615335195,-1.0939759615511784,0.0,-0.06881834068112792,-0.07080822674638022,-0.07647673795575671,-0.09811962635484553,0.640103890252804,-0.3216737035699512,-0.29172843832065565,-0.06792409224013125,-0.06027317707475053,-0.5859691448997663,-0.33585913382808696,-0.06782932093768393,0.0,0.0,0.0,-0.15749202740108292,0.0,-0.13175816941887325,-0.0509578131798236,-0.3490863863415314,-0.07868796719765615,-1.4245622714280317,-0.0749596996135745,0.13502346519287914,-0.3218465779008891,-1.113043016068672,0.0,-0.06607918086241495,-0.07820501785839405,0.0,-0.07647911577218833,-0.273218226225583,0.0,-0.0669528257910045,0.0,-0.09154144569136502,-0.06903252756674008,-0.3380255519060557,0.0,-0.05399801377334272,-0.00787019980081604,-0.06819592728546586,-1.099606595077507,0.0,0.0,-0.3759088113456047,-1.8716648401075708,-0.06567670097737871,-0.0699373481767466,0.0,0.0,0.0,-0.05652105235886917,-0.24644821880175924,0.0,-0.06782252969697261,0.0,-0.07638472201695708,-1.254691614746617,-0.0728948646422385,0.0,-0.07271088179769748,-1.7050287465770106,-0.1395631818921862,-0.10188726230780476,-0.08379609732886746,-0.08194627489395159,-0.06854441727198031,0.0,-0.08290672347644819,-0.6851152008407327,-0.07334198151309922,-0.1663005898395855,0.0,-0.5973044937515506,0.0,0.0,0.0,-0.42708855333008455,0.0,0.16577550240185548,0.0,-1.1599717602755504,-0.31272459992826124,-0.08504825079732765,-0.49531822126302005,-0.7573875983323622,-0.07665292333062844,-0.24586734917954395,-0.3980776096660841,-0.06767545387802298,-0.05138126036898296,0.0,0.08972090692357132,-0.06257754451038686,0.0,-0.08433861414770677,0.0,-0.1547910739277483,-0.08610377019690857,0.0,-0.06611796452028121,-0.07005034069424393,-0.07548724012685817,-0.636048009759903,-1.09167637500338,-1.218848443669219,-0.055528871945873165,-0.1684420163136116,0.0,-1.1889985028658652,-0.1608098044921234,0.0,0.0,-0.06230099548209198,-0.057095694326744835,-0.06952196504389742,0.0,-0.06680850573190178,-0.061967922764963754,-0.061055283851294745,-1.9064344092688577,-0.786267500435047,0.0,-1.1092533840780001,0.0,-0.06806265106557494,-0.06511156255080885,-1.719665303352945,0.0,-0.07565678941385805,-0.07272994541057824,0.0,0.0,-0.7127230452267213,-3.168041330530039,-0.07050251602160447,0.0,-1.1818114200149021,-0.06495494150454321,0.0,-0.09955452332597933,-0.08569033833423405,0.0,-1.1986005820126027,-0.06849479871606465,-3.169772759649801,-1.118451863282288,0.0,-0.07552807179765715,-0.057253560015960686,-0.08611974900130676,-0.0919875830861927,-0.08569202448790592,-0.8622169036191348,-0.06847964689173178,0.0,-0.0703097519067033,-1.243423893535745,-0.06496581147337187,47.90696010399992,-0.07391501963527469,0.0,-0.8220778681609942,-0.08084189047354025,-0.32621468516129115,0.0,-0.08408226522170707,-0.0851552991137917,-0.07017532432741659,-0.6486968333452755,-0.07476247661470693,-0.00643893188267912,0.0,0.0,-0.2776283130020849,-1.0728339244362146,-0.7395673425343045,-0.07502871609470385,-1.1349501971141598,-0.09404425572557484,-0.06065745584183206,-0.1588170090281971,-1.6862160013114604,-0.28180322136727753,-0.35092261925729645,0.0,-0.8017797698330588,-0.07069033109389344,-0.5355939640830445,-0.07158549304919778,-0.09907292411719301,-1.1588727964681664,-0.07097253829741343,-1.038715324210911,0.0,0.0,-0.0749379098440898,-0.06820614764078556,-0.37310278472974556,-0.0644346297003392,0.0,-1.2105457243967566,0.0,-0.09066584560021425,-0.06538754244745246,-0.16731954527041992,0.0,-0.0722153367326908,0.0,0.0,-0.13906260740800372,-0.15900901523712363,-0.29147529495996033,0.0,-0.06927151099573393,-0.97384273523023,0.0,0.0,-1.0146266495424345,0.0,-1.164525925227842,-0.07119072931265415,0.0,-0.06823134688444071,0.0,0.0,-1.1443270400835541,0.0,-0.656785240957893,-0.07288642445322026,-0.06718658226689445,-0.28246543561240484,0.0,0.0,-0.0655865034990692,-0.06878015546302979,-0.06864737038630774,0.0,-1.0980468456585664,0.0,-0.07258972994909403,-1.2021359220593304,0.0,-0.3132566518085011,-0.06967919370909836,0.0,-0.29825884660053337,-0.9745043819648646,-0.07521293892316111,-0.06947781992213568,0.0,-1.5153656731186944,-0.061361551858213986,-0.06448225435288525,-0.1601751408129257,-0.2953496413865246,-0.2060767490577403,-0.037953512156242826,0.0,-0.8174805649399025,-0.06470523951837205,-0.08255757197059028,0.0,-0.07218477710486494,-0.020139555106089013,0.0,0.0,0.0,0.0,-0.06729797368186315,0.0,0.0,-0.0738674863508448,-0.07649501679953039,-0.07683311325937378,0.0,-0.05054672574869429,-0.0728419620226996,0.0,0.0,0.0,0.0,0.0,0.0,-0.33617128736296437,0.0,-0.06784931892154694,-1.352269060768536,-0.23348613887927816,-1.0832798165258206,0.0,-0.0968347494622677,0.001977832054823768,0.0,-0.09441896942376801,-0.11953841367548008,-0.0802060522155942,0.0,0.0,0.0,-0.85466989731471,-0.06818180050511254,0.043510297502238,0.0,0.0,-0.06688813516339633,-2.2102523066432997,-0.09255065941173064,-0.06166777757705845,-0.2139013499256324,0.0,-0.07682671157965729,0.0,-1.1090367512213422,-1.4573970866506074,-0.06271036369826605,-0.06614972948214776,-0.06293105592886936,-0.06529788514056555,-0.9891353051216383,-1.45125848082243,-0.10172922644116049,-0.08751645649244919,0.0,-0.24963553962782142,-1.2158073685170572,-0.8070006817986909,-0.14572102674275245,0.0,-0.126826370601275,-0.06524098837938687,-0.04139877670454436,-0.06180789355826724,-0.06294789260205742,-0.06872046852787632,0.0,-0.02998792449786403,-0.07575923676952384,-1.0349927285668978,0.0,-0.2293520823206887,-0.09734844537217424,-0.38485357852490615,-0.9982613462990307,-1.0857076111806565,-0.059172796169559644,-0.07276693799098911,-0.0665789687518884,-0.08816713671620355,-0.08655935555397676,-0.1514385170648472,-0.061890499720367496,0.0,-0.16675249091227695,0.0,-0.07877274326581449,-0.06836870826982881,-0.09048869259335376,0.4496436214539004,-0.7937248186842516,-0.04017685239889517,0.0,0.0,-0.45996085048240026,-0.07452597770233307,0.0,-0.06772503812461633,0.0,-0.08224311657793085,0.116933471371776,0.0,-1.3242522973363309,0.0,-0.27550030284038374,-1.1536688665101331,-0.35814102958282146,-0.07954999705925915,0.0,0.0,0.0,0.0,0.0,0.0,-0.6965581673033854,-0.7479488791139346,0.0,-0.08855360035809254,0.0,-0.07502966342129698,-0.06232187401078951,-1.3081195726401245,0.0,-0.06753482574464116,-0.831617456085635,0.0,0.0,-0.8158015880254889,0.0,-0.06520882013569963,1.3467309698260646,-0.07609034459227389,0.3758777945617362,-0.062273138745438446,-0.7154294907659994,-0.06959981406879015,-0.3179443698364372,0.0,-0.2213567157445388,0.0,-0.0653273406630107,0.0,-0.06928064167846962,-0.06848524914637209,-0.07415506603513854,0.0,0.8914597279732446,0.16854010365380576,0.0,-0.06978876467972044,-0.1610312700400362,0.009095801167506749,-1.420907840581574,-0.8593350186343757,-1.5418136003029845,-0.12464170101329593,0.0,-0.0702600226619549,0.3779189878149078,-0.10958334728431375,0.0,0.0,-0.06408800307130073,-0.07878442953861833,0.0,-0.093564302439093,-0.07616804362725225,0.0,-0.06053412701680545,-1.1753532058378362,-0.07672269609575545,0.0,-1.1364885726932419,-0.06758912046117463,-0.06758152100976322,0.0,-0.16500969424217923,-0.06230330289572419,-0.06617019533805768,0.0,0.0,0.0,-0.08698564158964137,-0.06531403562613801,-0.6785789715028794,-0.8800998642562825,-1.445354681167682,-0.0653110652980851,-0.08059456435163544,-0.06876876173278319,-1.2748599247867427,-0.06926630239219088,0.0,0.0,-0.04228055300549842,-0.08247708475328204,-0.17943824556121601,-0.061745024766044564,0.0,0.0,-0.06967759091385343,-0.16401440788157132,-0.05774699314486018,-0.5338540792789539,-0.08292089946476382,-0.06676029832868546,-0.06397373929097422,-0.05675207689945967,-0.5309525484547017,-0.8814325049329819,0.0,-0.0952472880206769,-0.07853774312826992,-0.11564487313309095,-0.3140273861401225,0.38989493108791495,-0.08272434781265149,-0.06778383972288222,0.0,0.0,-1.1025110298909684,-0.05816335360847804,-0.7189325836398025,-0.20605180672329226,0.0,0.0,-0.8879033595382396,-0.08001999611183776,47.74656184100158,-1.1308747571989528,-1.3472308612994326,0.0,0.0,0.0,-0.7867347812688817,0.0,-0.07170609368272308,-1.1288254517898308,-0.05453627505337746,0.0,-0.09807513603190494,0.0,-0.08611200559218378,-0.07032937932794112,-0.13896346060285106,0.0,-0.08219116629274033,0.0,-0.06798262791247361,-0.07904660219544295,-0.7380035629592367,-0.3542600246396495,-0.06416173219709143,-0.07990169678396407,-0.0669986504428675,-0.06907428091827224,-1.1087605887997716,-0.07176430598047881,0.0,-0.17954377828875062,0.0,0.12531760681569504,-0.07230744929594508,-0.778023973613531,-1.3580017861628804,0.0,0.0,-0.06935499261375885,-1.205429308427956,-0.07624739600499426,-0.03811976671229076,-0.18696873724494828,0.0,-1.2299669054056088,-0.16529026019654677,0.0,-0.0910754642932227,-0.0794263951749422,0.0,0.0,-0.34451045333445524,0.0,0.0,0.0,0.0,-0.8131693273327382,-0.0764909329494771,0.0,-0.0702886517399057,-0.09408609025148776,-0.08295603731075708,0.0,0.0,-1.1209059543492987,0.0,-0.10776098082628954,-0.11307121093155822,-1.1511379922474636,-0.05801822306445412,0.0,-0.06830034484384336,-1.09293083603039,-0.07075992583225937,-0.13052759129273672,0.0,-0.1510292409114339,-0.06599124587941235,0.0,-0.07250071183872711,0.0,0.5603668876054192,-0.08230860357034307,-0.48649074753300875,0.0,0.0,0.0,-0.043498248724486384,-1.1028448762259333,-0.08053052297038796,0.0,-1.0926770287413141,-0.0677930652498251,0.0,-0.05531086969110361,0.2723433779096989,0.0,-0.44521376451267514,-0.08162570753303242,-0.06719567501948091,-0.07109384574502679,0.0,-0.06555713166725385,-0.08742133272769906,0.0,0.0,-0.10221570741567237,0.0,-1.0615915955473008,-0.07443709141187532,-1.1891034709230222,0.0,-0.07052505719219809,0.0,0.0,-1.082513630207441,-0.05821832540412248,-0.08087854088985044,-0.07488678344129909,-0.06299252755090862,-0.054493946007981776,-1.04880080850181,0.0,-0.9157825087830427,0.0,0.0,-0.09440180695134555,-0.7743827977089948,0.0,0.0,0.0,-0.07116981982017456,-1.2657721541737856,0.0,-4.1294077123825215,-1.2814003885744711,-0.3473877517480024,-0.08473726892574997,-0.4269691657697192,0.0,0.0,-0.07232494549626423,-0.06445873777644218,0.0,-0.7923125726065995,-0.06287339559341633,-1.1488486774658562,-1.3843647142777906,0.0,0.0,0.0,-1.354788235138717,-0.07083472291355414,0.0,0.08196706647711008,0.0,0.0,-1.2445599362787305,-0.2758625284941272,0.0,-1.226262332939432,-1.7359614731723114,0.0,-0.0665201935701857,0.0,0.0,0.19498682579760093,-0.07136699741525353,-0.07788274070418101,-1.2722695175302292,-0.08630972494790637,-0.739889213305175,-1.2472562811494394,0.0,-0.30670328041437717,-0.6451728414963113,-0.06422395314638557,0.0,0.0,-0.07818762219019883,0.0,0.0,-0.3130880533296681,-0.09557588475521664,0.0,0.0,-1.1886566705007593,0.0,0.012050909179074143,-0.08654397286318885,0.0,-0.3378289555589139,-0.5154558291533713,-0.09428020571986752,-1.4191449686841597,0.0,-0.06987335950961458,-1.908170052540697,0.0,-0.3412205807274706,0.0,0.0,-0.06838469959585104,-0.07851955236824544,0.0,-0.1110248766024702,-0.08555794137852624,0.0,0.0,-0.06517762347555062,-0.08363931390042875,-0.06236797118884037,-0.06848809806608938,-0.08211178857969603,-0.45075722769883464,-0.14571419714669367,-0.06478656745113023,-0.08063791703463555,-0.07058090631625807,0.0,-0.10479494520706836,-0.09009919660370329,-0.07773721908342056,-0.07559898171863533,0.042478458136567296,-0.13625201041391427,0.0,-0.14218394532264567,0.0,0.0,0.0,0.0,-0.06498789910201494,-0.15553074453370147,0.0,0.0,-0.5752006732227556,-1.0910149826339515,-0.09009609552273182,0.0,-0.2303349405737536,-0.07427097158371355,-0.08099729733311264,-0.0673315535360814,-0.06243911680835776,0.0,-1.0892755085006685,0.0,0.0,-0.06472141090176363,0.0,-1.0882071243004152,-0.08610690213118893,0.0,-1.1578359128084112,-1.9264072687603835,-0.13345430612721118,0.0,-0.0654807503680899,0.0,0.0,-0.19149470561542858,0.0,-1.2300776150271882,-0.06969551881162149,0.0,-0.08125141112800564,0.0,0.0,-0.16034609081167642,0.0,-1.3497344465763617,-1.0278015814369628,0.0,-0.0783198187863003,-1.0910280463854092,-0.066304778283817,0.0,-0.08978385534812335,-0.11624964490119583,-0.06719687225083146,0.0,0.0,0.0,-0.07619646344307959,-0.06854157321442489,0.0,0.1671984303602212,-0.6054391545327626,0.0,-0.06590784417360089,-0.0655227720768507,-0.8315999474878165,-0.05606276756234015,-0.08823576661401955,-0.2427090941898292,-0.06885168714984546,-0.06983071636911135,-1.291516144495476,-0.10653864894390218,-0.7999860382147344,-0.07871679828895868,47.91676293161439,-1.0998473312175605,-1.2097548626805292,-0.06597547726132061,0.0,0.27625145257143163,-0.06495677981795993,0.0,-1.1042557909387025,-1.081174297337385,-0.06631629483415855,-0.04817429075229416,0.0,-0.06507379095400903,-0.7978680833737553,-0.06985087729969296,-0.06837957702566531,0.0,-0.06578024163072989,-0.11790282463364539,-1.2802099085572438,0.0,0.0,0.18610966360704786,0.0,-0.07092849883538736,-0.07725162338233174,-0.08041141161566001,0.0,-0.07642904204366836,0.0,-0.076758467088062,-1.2305063449356763,-0.07257089223881298,-1.2844204334154765,-1.0909041356150044,0.0,-0.07518059945320625,0.0,-0.06320700746712311,-0.07845823654927196,-0.16510952891190064,-1.0227240900379406,-0.07537504673436392,-0.07198742605140565,0.0,-1.1170725931385281,-0.0654405971410075,-0.05307689954358864,-0.04929389355515681,-1.2883053839212892,-0.07519594599223565,-0.07304920490316331,1.1758246571710567,0.0,-0.0661140856561903,-0.15015085667135653,-0.07355097460653302,-0.8304378315102434,-0.4770425899565281,-0.07947885244342225,0.0,-0.07689863572242192,-0.07033458400131878,0.7859728292722689,-0.08014676387179534,-0.0872821252998087,0.0,-0.07483497673251858,-1.3793188232660527,-0.06650938503346428,-0.07333022015186408,0.14113167381885322,-1.2656007876179123,-0.12371254485530168,0.0,-0.6307591378409244,36.745777449915316,-0.02130050492276525,0.36604954123913086,0.0,0.0,-0.08467712868320816,-0.06808614494979848,-1.424190241392442,-0.9316199576428953,-0.5112086182155312,0.0,-0.9952068919381658,-0.26240299482891155,-0.880495198666075,0.0,-0.06834228492900783,-0.07079410696808504,0.0,-0.11359845527897669,-0.8491778668115555,-0.057615359648236296,-0.06856653311699891,0.0,-0.2144923541130914,0.0,-0.06934490232498368,-0.06513697975828033,-0.09991114216745915,-0.06312184548247905,0.0,-2.275958768021299,0.0,-0.10125740900759828,0.0,-0.5094940850346393,-0.6860612258406309,-0.09009690181126732,-0.0682820081186605,-0.06689449276461616,-0.45282215803596787,-1.3436362534618775,-0.08657309462866472,0.0,-0.06765076473133959,-0.44898137435431645,0.0,-0.7773807158589154,-0.0765603574025406,-0.15568942401437508,-0.7197387102255968,-0.33947421254975985,-0.06941302697019205,-0.07239543841811784,0.0,0.0,0.0,-0.057935819037331165,-0.06246083260092902,-0.06573047901815886,-0.06925734976289312,-0.07597223207882792,0.0,-0.07392748220766618,-0.07996175597344866,0.0,0.0,-0.9418249186998804,-1.1929525774288503,-0.4491838328487583,0.0,-0.0709007621348426,0.0,-0.08179181923456263,-0.06723703401716102,-0.0638303690598107,-0.06314783897573414,-0.2137801743670663,-1.6227893584360022,-0.06703843696628486,0.0,-1.2857115304295292,-1.3497104554167154,-0.06733442324686349,0.486857755443986,0.0,-0.061017529284654114,0.0,0.0,-0.06994226374788012,-0.08085195062077179,0.0,0.0,0.4891466872786399,-0.0707829303458368,-0.06386947586065396,-0.07345403183890054,-0.08294955021124988,-0.16447684589684708,-0.06934732366682579,-0.06289559793364147,-0.21049927655368258,0.0,0.0,-0.07279053949611586,0.0,-0.07155455636827755,-1.1867286798775638,0.0,0.36463923633707446,-1.1307767848106505,-0.075735821769674,-0.09817437494675586,-1.158274857190944,-0.25921559698245755,-0.34314291600124747,-0.058107307888713294,0.0,-0.08182435892366882,0.0,0.0,-0.2690028345609879,-0.07350879547812106,-0.1600965944178163,-0.09752115365127392,1.0345702334548252,-0.06813641614641607,-0.07057284966420012,0.26797225108131745,-0.07322942000604975,-0.028034760715071716,-0.059350928616598256,0.0,-0.07495607417435844,-0.07742935141590226,0.0,-1.441831685301887,-0.07325780445015034,-0.054217533112891146,-0.07163631773160269,-0.06576136711240112,-0.06627382599086502,-0.02979669021571586,-0.06838187663808568,0.44373579458303214,-0.0691245885504684,-1.1539318230062445,-0.16184487168903788,-0.5000102185590031,-0.10797076670183131,-0.07103003314206618,-0.13047068368928322,0.0,-0.5207740120872136,-0.06956815413409044,-4.244519414934067,0.0,0.0,-0.03319233782461429,-0.06722644427288639,-0.06908831068073176,-0.06994357437141058,-0.09129259485397255,-0.22622019746574307,-0.06934245752105943,-0.06167121135160213,0.0,-0.294268659161871,0.0,0.0677102567483451,-0.10898583126518989,0.0,-0.07359624369553316,-0.08034675920465169,-0.07123166009910094,-1.2562726564715354,-0.06912599202784375,0.0,-0.07746616270636926,-0.060424917699628655,-0.07150467677095554,-0.059696372567055546,-0.07586352161113513,-0.065656046936418,-0.19741304320218983,-0.0656253225648321,0.7947780590798195,-0.0815371085166554,0.08318139842242031,0.42099304778071833,-0.0679371939544826,0.0,0.0,0.0,0.23971053572758128,0.0,0.0,-0.08428986844610868,-0.07270009808425645,-0.10689888434051098,-0.6059350903894624,-0.07279796242100395,0.0,0.0,-0.07415716151797028,-0.08147105895877962,-0.6916152546648432,-0.06588430961845564,0.0,-0.16074353648615602,-0.0728317311502861,-0.03643750329588116,-0.09776521653177785,-0.08819613857341267,-0.07043871927597785,0.0,0.0,-0.07549175624249661,-0.7397910955892488,0.0,0.0,-0.43462193423350004,47.912420303229204,-0.07219207956792903,-0.6914194382458624,-0.17358529247121807,-0.07022987295840945,-0.08824691350670551,-0.06433127314087451,-0.26277810640768073,-1.2162008747124826,0.0,-0.06456908902116755,-0.07555996833846575,-0.06618841628848347,0.18169276592561115,0.0,-0.5775683869797649,0.03919282554866432,-0.556671893530305,-0.06748052016861583,0.0,0.01741314200829809,0.0,-0.3722938867543582,0.0,-0.06234044771742391,-0.1238927573416732,-0.2282249680817166,-0.0751843683659619,0.0,-0.7789592968516436,-0.07507864535959745,0.0,-0.073200270105915,-0.09271046138426826,-0.07132205760324517,0.0,-0.0769479731422701,-0.07142185587949183,-0.06985975004040516,0.0,-1.004056793482641,-0.07034123209811718,-0.07352675413217179,0.0,-0.06080097613239561,-0.07011472150029496,-0.06904591046985138,-0.17878924829972023,0.0,-0.06796112393084414,-1.7179437629831829,0.0,0.0,-0.09962615706880223,-0.149334659354557,-0.08868076219875161,-0.3505020774493918,0.0,-0.6924316521299654,0.0,0.0,-0.170311959552902,-0.2520342548989321,-0.020477036386905036,-1.562837475135592,-0.06534737260378037,-0.13363732422833557,0.0,0.0,-0.8388104260836623,-0.20108660535286263,-0.17645625357473763,-0.062396101685669066,-1.8908792479805965,0.0,0.0,-0.36414345743720516,0.3194617634369848,0.0,-0.06938113746581351,-0.1495532682613132,-0.07057428201738057,-0.8227223061391612,-0.0741412738059191,-0.06929687093739186,0.0,0.0,0.0,-0.06842815554535069,0.0,-0.1302976298953357,-0.08717825720406948,0.0,-0.05250538516237912,-0.07352315740140576,0.0,0.0,0.0,0.0,0.0,-0.08357204504113279,-0.06076832836687444,-0.0675907400439516,-1.4729930596521617,-0.14271924498554386,0.0,0.0,0.0,0.0,-0.08549311614365768,-0.07304276329317873,0.0,0.0,-0.06388554481102707,-0.06943724747218054,-0.10545688824900823,-0.07389962346631625,-0.06499443661025173,0.0,-0.05918926480641088,-0.06312592181974003,0.0,-0.08192027971354945,-0.06827444611377989,-0.06773845999633217,0.0,-0.07116273188903739,-0.078656743175621,-0.4298520965121337,-0.04483151941863491,-0.8472799416139583,0.0,-0.08548701963974152,0.0,-0.06361432182796517,-0.07304364486023115,-0.09358924522875528,0.0,-0.0708758433376133,-0.06551317269411204,-1.366975337394451,-0.09634340456126105,-0.4273188262920322,-0.07243427156898453,-0.0659042343788185,-0.06567420951235539,0.0,-0.46787097170621744,0.0,-0.6614258618159504,0.0,0.0,0.0,0.0,-0.06482167821551627,0.0,-0.07601014416728855,-0.06972078377362778,-0.7535299369069313,0.0,-0.3216082156790751,-0.07483122903361314,-0.0734408497323317,-0.23507473839584733,-0.004784219836152538,-0.09542687647394979,-0.06677663987086255,-0.06906571338624717,-0.613695910939415,-0.0662876160244413,36.77646180635612,-0.06981161304595854,0.0,-0.0704281583245315,-1.266675296162839,-0.08378156222071498,-0.8785992171093906,-0.21492615034221796,-1.1359713498684698,-0.1896621309394148,-0.06729838708861857,-0.07298480633988876,-0.7304857810540791,0.0,0.8545575472014699,-0.06466907678448681,-0.067231501106243,0.0,-0.06709426308630743,-0.10736226445360372,0.0,-0.43934623981640264,-0.15499557336397526,-0.2826529003991283,0.0,-0.09575237827379775,-0.06510685796240546,0.0,-0.437970166965182,-1.1858019689689272,-0.0883941894508053,-0.4916107102030941,0.0,-0.07072787105828827,-0.23535123582031797,0.0,-0.06054328915883037,-0.07801890516249596,-0.06872461128624302,-0.4081917159849189,-0.0739479425144028,0.0,-0.06383996370260701,-0.23131271213789256,-0.06818796415715023,-0.17186151910504735,-0.040349240838217275,0.0,0.0,-0.06645540847656226,-0.07233730697190083,0.0,-0.33865111384704494,-0.06752544652901289,-0.0783902469650617,-1.1402681872838332,-0.07195233372465905,-0.07138229984728064,-0.08443589285316205,-0.06603128744258964,-1.1190809839926676,-0.07305063041213838,0.0,0.0,-0.06934196612057085,0.021908394065317426,0.4093322724248306,0.0,-0.4320567917993497,0.0,0.0,-0.06400135502909118,-0.06491935104244298,-0.07981085360029104,-0.8822650730987651,-0.05695249583172787,-0.0900709023557136,-0.0789264059992381,-0.613692871233977,-1.1630709891996711,0.0,0.0,-216.57633283934345,0.0,-0.10477919937949495,0.0,-0.045276633153548615,-0.3217351783668162,-0.9906013427927431,-1.4339404300047798,-0.161869088021209,-3.312055467806762,-1.153759340540209,-0.06878309826673534,-0.10044583877966695,-0.06993393943403702,-0.0655321787873808,0.0,0.0,-0.06437761946818131,-0.3276522469375254,-0.8740321768117774,-0.06463862453464879,-1.8176172546418485,-0.07061378437690626,-0.411599456974511,-0.03990522617944116,0.0,-0.12099374736623503,-1.3099891371521275,-1.2289696562163301,-0.5647473054803559,0.0,-1.8179274862477695,-0.06439483007665765,0.0,-0.0168088603304355,0.0,-0.07563169740547152,0.0,-1.1376896768610991,-0.06243134243340683,-0.0644373527645583,-0.051047005668833315,0.0,-0.07310607009393875,0.0,0.0,-0.07361668589740582,-0.07297281283962055,-0.06617712762855574,-1.1478993747383133,0.0,-0.09892138874680612,-0.07005247178735739,-0.876297983347387,-0.07391139109886308,0.0,-0.1960433599305056,-0.06082400415109679,43.017022113313864,-0.07204345393183458,-1.0902426733506918,0.0,-0.22843738616894085,0.0,1.206209525499747,0.0,-0.07664396643017385,0.0,0.2566027992975002,-0.0760802188283282,0.0,-0.08297284472427029,0.0,-0.6013000331767707,-0.31131806757812547,-0.17081656172448495,-0.04389038596368235,-0.06913737000752235,0.4774656979931269,0.0,0.0,-0.08517010751036144,0.0,-0.08332533367984793,-1.143192309729964,-0.08009134545580694,-0.10481884236661561,-0.06445452718568918,-1.4028589394081463,-1.0969977471309695,-0.07452145871487215,-0.07007495873269953,-0.06583772870153824,0.0,0.0,-0.9317210050638068,-0.7374625087668492,0.0,-0.06972912386863482,-1.199480757374905,0.0,-0.6408859176651442,-0.06721236496297912,0.0,0.0,-1.0902001193333506,-0.0779664001656914,-1.267903118095953,-0.06681653630908474,-0.0709866071344719,-0.0685684106427365,-1.2448267728299829,-0.05971045963709216,0.0,-0.3766128105013811,0.0,-1.0851308888986186,-0.06347427092670678,-0.14474003145208691,-0.9804290511012019,-0.15853578597954823,-0.07894843272177286,-0.06631273770025427,-0.11074915663639316,-0.07490036146366558,-0.10092861388294111,-0.05946889825426974,-0.5615125911111574,-0.07900682519126925,-1.1774736256176441,0.0,-1.1081951572582085,0.8901585405233963,-0.07334425192648039,-0.06793453865203727,-2.541476218812055,-0.35094572287592335,-0.07638350440618992,-0.08861753695927438,-0.07922913123197352,0.0,0.0,-1.202374603423516,0.0,-1.5351226903634332,-0.07536340191480488,-1.113496632782699,-0.06416402729558131,0.0,0.0,-0.06484560412435611,-0.0661021573530347,0.0,-1.2783156898412609,0.0,-0.09096810694686815,0.0,-0.2991722889520767,0.0,0.0,-0.0641126387289496,-0.23510982040629289,-0.07291370904319928,0.0,-0.6027115461857454,-0.8886716632781891,-0.6997350036507434,-1.0958283207496846,-0.08965226772096975,0.0,-0.0725235709366966,-1.2796832184664237,0.0,-0.07572787332584136,-0.07312678120825049,-0.10076091659069412,0.0,0.0,-1.2767891740483548,-0.4566369272450894,-0.06502352611215322,0.0,-0.6059512500689594,-0.693170688879778,-0.02852148684073183,-0.8760392814903653,-0.24466660045925054,0.0,0.43646043675810897,0.0,-0.06811354781935754,-0.06973571589136567,-0.06888019330040761,0.0,-1.9268779231002764,-0.07506412924811424,-0.37394836783817836,-0.07308790452931947,-0.06862183388064744,0.0,-0.0673298089653324,-0.06830712566270379,-0.8515130309352502,-0.06784268949680106,0.0,0.0,0.0,0.0,-0.1394679261281804,-0.1494892749424308,-0.07253519074930688,-0.022297779966957608,-1.1630152922782657,0.0,0.0,-0.39818850088235425,-0.04077901267235078,-0.33580701654173833,0.7621088063708532,-0.063224892072178,-1.1995537954189446,0.0,-0.01052392696527114,-1.3476459884674625,-0.08697231558175667,0.0,0.0,-0.24148676461712054,-0.06678254744507814,-0.06452791488848553,-1.194143201977975,0.0,-0.06744869941054304,-0.0648689691636791,0.0,-0.08165397826904985,-0.062265842366847735,0.0,0.0,0.14424008683509412,-0.07357277611697846,-1.975376163375957,0.0,-1.1224703921154522,0.0,-0.5359584212244902,0.0,-0.07709736629874737,0.0,-0.06490497642959932,0.005502711409570544,0.0,0.0,-0.35227599864921033,-0.06519192714734041,-0.31370779083707967,0.0,-0.053813510430916395,0.0,0.0,-1.122280601681717,-0.07448602314587517,-0.23607344222636845,-0.06572572664897199,-0.1481399819390715,-0.05916989268674555,-0.07844574304582831,-0.09814317224553262,1.3476948212156854,-0.06802811339780127,-0.0855787430867187,-0.06935863574710983,-1.0113153054386468,-0.16421235621324426,-1.054326186981814,0.0,-0.06704189439229,-0.7409526258664273,0.0,-0.07750498925948407,-0.07431239402286244,-0.07115783975955323,0.0,0.0,0.0,-0.08939901413863725,-0.06967716146793934,-0.7975311008918152,0.0,0.0,-1.1328776307597077,0.0,0.0,0.0,0.0,0.0,-0.06365656678771413,-0.0633748902705803,-0.5105178328698124,0.0,-0.0662666616256586,-0.07815315251327823,-0.04920633897884687,-0.08427698959063944,-0.41332286644904026,-0.08393724562128109,0.2304049953640227,-0.06009855690229946,-0.05038289287756972,-0.07379268183687565,-0.07465851736237739,-0.0655550647603863,-0.08203996023418722,0.0,-0.8291470264235238,-1.1214310550690787,-0.00490149599948465,0.0,-0.4013706326421708,-0.06688962123812492,-0.0622744076404244,-0.06834792209153363,-1.1928133347288559,-0.2162206695857782,0.0,-0.0724829384798605,0.0,-1.1598723660881216,0.0,-0.06439272884584384,-0.07263729369833007,-0.08634285597164802,-0.078478486757125,-0.07220701425472165,-0.07341373552235532,-0.09726675644918177,0.0,-0.17525919784685906,-1.4639502425965856,-1.3309627155856443,-0.7023549546006111,0.0,-0.0710482021466135,0.0,-0.09317646495162613,-0.0878904710701941,-0.06879768662004837,-0.06854667245272844,-0.0658206113858902,-0.06390739514968076,-0.8973116796105864,-0.0810045470463871,-0.07692500074218507,-0.7553090608745746,-0.09680845927100379,-0.15929736487388152,-0.07348552817317595,0.0,0.5673642585826725,-0.11352522789545286,0.0,-0.0687014533639041,0.0,-0.49436324157381306,0.9799175024683938,-0.5223303634551227,-0.8088266249718727,-0.07161217621633774,0.0,-0.08466296453516031,-0.18886644600224112,-0.055061287675539916,-0.08416728627492592,-0.06359020537436902,-0.07659146800194687,0.22566877943081926,-0.0453420016302821,-0.08738030506997614,0.11596167327233506,-0.060909189519158954,0.4745066467971119,-1.270393958290643,-0.06835901506441187,-1.268742380489155,0.0,-0.09411427084842183,-0.2635064093355992,-0.1469679227887162,0.0,0.0,-0.3976680989467969,0.0,-0.08687296144170563,-0.06538383234583965,-0.06305392442798466,-0.8820405496989326,0.0,-0.24097370354572623,-0.07406957430372173,-0.06308326298750255,-0.064289167610098,-1.5431227063738153,-0.029322044261465903,-0.0776610571486274,0.0,-1.285396535820196,0.0,0.0,-0.0662163787151093,-0.0627771724797322,-0.912247404586143,-2.1095629715119144,-0.07776744965236887,0.0,-0.08888448742072273,0.931133713272093,-0.07650869512573605,0.0,-0.04830833579144819,-1.2743431518035513,-0.07285340314295176,0.0,-1.0338947729220906,-0.0679817694703619,0.015015917237251394,-0.07328359304080832,0.0,-0.059497529328323806,-0.1791995387110256,-0.06605698569154438,-0.08575333723569017,-0.09207004825622177,0.0,-0.06652497328232086,-0.17808661362648487,-0.11120383493158098,0.0,-1.0563860443912612,-1.072150679885078,-0.057278926725363256,-0.5304292841634024,0.0,-0.06021111204552499,-0.07069892296049614,-0.07657531586895797,-0.08395789571676007,0.0,0.0,-1.1097996887883463,0.0,0.0,0.0,-1.1195433674323367,-1.0276961325526186,-0.12613698271730223,-0.1059069300114127,-1.25111345512411,-0.8263771738760114,-0.09508656859650581,-8.461736332792732,-0.06777223276344703,0.0,0.0,-0.9149881424881982,-0.08672548662583489,0.0,-0.07652200095980165,-1.0056826410123128,-0.33273493306949625,-1.3018638388726902,-1.1025111234029246,0.0,-0.31233641734261736,0.0,-0.0691299280232493,0.0,-0.07893619743195647,-1.6667357717771285,0.0,-0.06582396288825842,-0.06798591907194076,0.0,0.0,-1.6062968937863948,-1.2042819784275918,-0.06849635968940708,-0.05318334939892442,-0.055360895414935635,0.0,-0.06356229764908979,-0.07720293639851958,-0.06456955933403517,-0.16239905967554696,-0.06722193096027308,-0.16998224026169786,0.0,0.0,-0.2758437121596309,0.0,0.0,-0.06749539427117734,-0.06350014036819256,-0.06563880723545956,-0.08082656088480833,-1.118866096581567,-0.6560866389898892,-1.0803772736244333,-0.15134278243282376,0.0,-0.0791508381374634,-0.06308820551391618,-0.0873020422443223,0.0,-0.1474378227069767,-0.0891498188042818,-3.5872405774001104,-0.25623919989732574,0.0,0.823692484637862,-0.3737631570886503,-0.07223224018894897,-0.16421656562188938,0.0,0.0,-0.07078661592400948,-0.5103909982146109,-0.07170872954134146,0.0,-0.22567355896789182,-0.06593496590994365,0.0,-0.08792258840687353,-0.1608721086532669,-1.1661374444139774,-0.39032926348629277,-1.148008443333212,0.0,-0.08128972223107105,-0.117134505028171,-0.15050669051147925,-0.06640943953135715,-0.557189978928356,-0.06877539463883986,0.1326440510591265,0.0,0.0,0.0,0.0,-0.2291982891327547,-0.7791669302951477,-0.07045752672691447,-0.07849217688804486,0.5205467141014772,-0.5824342107027303,-0.06479159972045959,-0.1731168539086959,-1.3263672072315713,0.0,-0.046051499176312176,0.0,0.0,0.0,-0.08935278021149697,-0.8319619154852549,-0.29147228582270757,0.0,0.0,-0.4315979953300394,-0.07050665433793898,0.0,0.0,-0.07614334840524346,-1.6257196159529406,-1.1725039689772971,-0.07953161137954796,0.991393619100791,-0.8228110557364148,-0.07742294427478057,0.13528802434279158,-0.06683552013554978,-151.2024559190479,0.0,-0.06997407240058587,-0.07669012033693344,-0.07315123732240894,0.0,0.0,-0.062366014000162916,-0.0884156235904042,-1.7302618155885596,-0.06410547096759295,0.0,-1.1581237850642727,-0.1003774846043699,0.04436300138686989,0.0,0.0,0.0,-0.07348589170752508,-1.1115083682512679,-0.31463138100592286,0.0,-0.10034738462426997,-1.1051521241291753,-0.12126289979094486,-0.7148369418426611,0.0,0.24057407768392763,-0.06967130553852348,0.0,-0.08477468968057973,0.0,-1.1345410955533042,0.7230880394667785,-0.408780371985987,-0.2281361797493658,-0.07508899150278757,-1.2735740180902082,-0.20135487463204785,-0.18365205907032292,-2.769499004166618,-0.06890592864409575,-1.729000652494583,-1.9545871952875469,-0.0707853922824155,-0.08507915486094274,0.0,0.3333413474348678,-0.06726072633550301,-0.07019266820744471,-0.2999322137958822,-0.9739618281577743,-0.048009145340232186,0.0,47.91987208669244,-0.0631047124244921,0.0,-0.3526648915260453,-0.16389425227533333,-1.087958968760582,-0.08666528890630383,-1.1364051031176094,0.0,0.0,-0.09498054464649422,-0.06885274642888267,0.0,-0.08487542748594702,-0.06381647393338326,-0.0677101996763659,0.0,-0.09946988878458383,0.010741416370170901,-0.08237789432811228,-0.08195822101756198,0.0,-0.06832383326115007,-0.05134988958283681,0.0,-0.07417091715161452,0.0,-1.492135839637938,-0.0817264388533317,0.0,-0.06984557110456593,0.0,0.0,-0.07440077261912552,-1.7646655864958483,0.0,0.0,0.0,-0.06626555946097563,-0.06729326737183645,0.0,-0.16042040109416422,-0.06840158461144254,-0.07250116591564726,-0.07652589020599429,0.0,-0.0677627934499507,-0.30662540710748076,-0.08799595401509094,-0.09378962500690446,-1.3160347812306987,-0.9530502652067767,-1.285842999330497,-0.598511882106799,-0.07305879614517553,-0.0891540115441276,-0.1541768372588248,-0.1060711089038299,0.0,-0.08543842854226369,-0.06764279249540732,0.0,0.0,-0.06571636810627944,-0.9475586795392555,-0.06608113370539367,-0.47017557629600387,0.0,-0.055766047269649295,-0.07392504787174463,0.0,-0.0789208240675108,-0.17827150085478835,-1.1552409169931035,-1.0614146435889444,0.0,0.0,-1.1649346817461055,0.0,-0.0654086744464647,-0.11822577844171038,-0.09091276608767963,-0.0671410274812004,-0.07814612820249006,0.0,-1.1553487064796513,-0.07678546180411756,0.0,0.0,0.0,-0.31011650283683734,0.0,0.17129651854708144,-0.2929285432837951,0.0,0.0,-0.06909743689940274,0.0,0.0,0.0,-0.0665776983995169,0.0,-0.08248349141056639,-0.07067238566790861,-1.1353968263235734,-0.06806862660166609,-0.0634584560609769,-0.07126177579132194,-1.2350719168281903,-0.14329718439152672,-0.03646409569805914,-1.0845041027895208,-0.0876446985302854,0.0,-0.2559924778539674,-0.10881155659692184,-0.17849988956462107,-1.1026341245399893,-1.1719193699921484,0.0,0.0,0.0,-0.1381500010843014,0.0,-0.9765236257274031,0.0,-1.3698543602533717,0.0,-0.10681230628226751,-0.07019910865974212,0.0,-0.07837562471835546,0.0,0.0,-0.29526664761244403,0.0,-0.9150579578231632,0.9249224921075293,-0.06439742824847934,0.21457520569306487,0.0,-0.43802129634400566,-0.46717456220463827,0.0,-0.07617003244546754,-0.07149883833716003,-0.073939434484767,0.0,-0.16574625583913366,-0.059658868229196284,-0.0399467266464143,-0.08005629615063499,0.0,-1.2023526906182012,-0.06723076053090947,-0.018722306749261567,-0.0800264723223054,-0.08234062267956534,-0.0887802879952392,0.0,-0.03717904341809403,0.0,0.0,0.0,0.0,-0.07486351400913051,0.0,-0.11347760105269813,0.0,-1.292767509032507,-2.6679071845527886,0.0,0.0,0.0,0.0,0.0,0.0,-0.15973199349849795,0.0,-1.1661535699927756,0.0,-0.09292335259241447,0.3954749145032317,0.0,-0.8616942897184301,0.0,0.0,-0.162315059248085,-0.7379588592316816,-0.0650459124529373,-0.10667222548126633,-0.08088358066441823,0.0,-0.0917583312689027,0.0,0.0,-0.06195684972560025,0.0,0.0,-1.3728756302018126,-0.15340878847729014,-0.09547687544182021,0.0,-0.06819135534084929,0.0,-0.6293321125159617,0.0,-0.07132144147146582,-1.2680569295813833,-0.9505115388592859,0.0,-0.16401896794950913,-0.0907130184995289,-0.06102649566207588,0.0,0.0,0.0,0.0,-0.08912894691345229,-0.6513987115043284,-0.07264552567517442,-0.06590217104809173,0.0,-0.9070291190111092,36.610243279228484,47.075799102034516,-1.095340493258251,0.0,-1.7283131813994217,-1.276627282532665,-1.1036915524121316,0.05676773089784879,-0.06361498794798343,-1.2324363713827862,-0.08067506194367828,0.0,-0.06726839074015593,0.0,-0.30989316613316387,-0.8668287039199495,0.0,0.0,-1.338992863694122,-0.07749675204943794,-0.4113112735270305,-0.09120997775628609,-1.9106764919055548,-1.1034103852011163,-0.06968776586083732,0.0,-0.8218976024944851,-0.06884481576817097,-0.07312517677869064,-0.06365838364586628,0.0,0.0,-0.06885450243684126,-1.1286806542312153,-0.41421874835348543,-1.3402166530941735,0.0,0.0,0.0,-0.06322553459953685,-0.030992135131467594,-0.07795530708305841,0.0,0.0,0.0,-0.06463080491263293,0.0,0.0,0.0,-0.08420015133956099,0.1491997600504542,0.11093443033343572,-0.06686923346746403,-0.4788598578602488,-0.0907678265396834,-0.11875854433028003,-1.2670453690639352,-0.06522012892344198,0.0,-0.09300479465686627,-0.15844585198037722,-0.06628369787866005,-0.07725506131338461,-0.10499557880367039,0.3271844716827405,-0.9416705908065087,0.7406327821404612,-0.0639624512643875,0.0,-0.34966882017276407,-0.15972561067548832,-1.8816884386850106,0.0,0.0,-0.0648866497133839,-0.6138992879597418,-0.0660247453264467,-0.05659971681393134,-0.06968375087646991,0.0,-0.07741469180824612,0.0,0.0,-0.07883030471885404,0.9833786039101865,0.0,-0.0770188650579934,0.0,-0.06594436152709783,-0.0659352088920889,0.0,-0.06452425354567784,-0.08023209986416033,-0.0711124266332778,-0.06857938425933671,59.838772212115344,-1.2715202406575048,-0.0677874635592472,0.0,-0.08472804347149113,-0.07504843668703258,0.0,0.0,0.0,-0.6513598495810432,-1.1731531681453382,-0.07450859017549327,0.0,-0.38392678467723174,-0.06999904011542653,-0.07080777560379108,0.0,-0.10932783953274242,0.0,-1.489394255473449,0.0,-0.10428034675530416,-0.06665581136352625,-0.0715839078054382,-0.08062067950573532,-0.14843953954078912,0.0,-0.11494423414423681,0.0,-1.35767181736322,0.0,-0.08159211015848913,-0.19474265749966205,-0.9655401471819369,0.0,0.0,-1.333762748237174,-1.171567610286197,-2.8800145790049827,0.0,-0.06278723363491708,-0.07845487606145002,-0.0671690024007129,-0.06995968593365001,-0.24016128828124023,0.0,-1.2754305871320675,-0.07383435836894474,-1.4244116582713446,-0.21922379664306357,0.0,0.0,-0.12548269492898628,0.0,-0.065673556830206,-0.600285690171306,-1.2045012191576243,-0.48563064051028537,-0.20339317889904676,-0.0795325629318354,-0.42846687276073125,-0.02663914118403468,-1.2849204233994802,0.0,0.0,-0.08367525697495876,-2.1890403753241365,-0.9780399398756623,-0.06300352913431738,-0.07829988361699207,0.0,-0.970615066425593,-0.07554200208256641,0.18415561863597696,-0.06519531168427142,-0.06472725779762838,-0.15686448880532253,0.0,0.0,-0.07026877975268675,0.0,-0.0714684065766818,-0.1179483490412964,-0.07624415121229311,0.0,0.0,-0.06438566780176548,-0.06353155100737821,-0.2616576551265881,0.0,-0.07407003942275975,-0.0653713360013422,0.0,-1.5046923517346584,0.0,0.0,0.0,0.0,-0.08833824322247436,-0.07290637613636253,-0.06577945857716697,-0.07580443512707852,-1.3224659772951914,-0.07230439012650751,-0.0663991610150128,-0.07237152099637258,-0.979310168667646,-0.9541153017958394,-0.07336801604825292,-0.6672404499627711,-0.06893260214117562,-0.08801420520875385,0.0,-0.5418297385227234,0.0,-0.07724528150664335,0.0,-0.0983574733482409,-0.562670371533774,-0.07677510970515806,0.0,-0.07779975837207581,0.1086852635914943,-1.062821898198419,0.0,-0.7501490601806374,-0.9363670173961992,0.0,0.0,0.0,-0.03650430056557182,-0.07650614122357163,0.0,-0.5690130365541349,-0.08400465106344242,-0.15315362515859296,0.0,-0.0029346413392026217,0.0,-1.0901647687629397,-0.07221939110625131,0.0,0.0,-0.3351038553579502,0.0,-0.13412989564843478,-1.008341106737379,0.0,-0.13644919887377216,-0.07726348697393194,-0.09775106658388316,-1.1762024103046302,0.0,-0.074497024715787,-0.6222582456906326,-0.10267997785704348,0.0,-0.060544798867388915,-0.11113235519933944,-0.07253690775598917,0.0,-0.28612200298762946,-0.4564659270577057,-0.07364811374123184,-0.2605131984452223,-0.08316375182436106,-1.0490336561487743,-0.11744987591168927,-0.07837652587899538,-0.06739937078048455,0.6503023946615611,-0.15352884462165373,-0.07648673746973021,-0.07526553272521144,-0.08469257918125564,-1.2074007600166146,0.0,0.0,0.0,-0.5418330067708979,-2.2865381273441234,-0.06798233786470037,-0.03889837793476668,0.0,-0.06240985482476052,-0.06582386348108883,-0.25226325058340526,-0.07707207106513775,-0.3780996759647178,-0.15914271352937664,0.00036417402270350616,-0.09200582451963724,-1.4052225083022156,-0.06947458013239373,-1.241032414323668,-0.0244770788165277,-0.9298774812089757,-0.15006969591526068,-0.07001650621465075,-0.07001321505560057,-0.06692984779138432,0.0,-0.07319812673234002,-1.4412906573072644,0.0,-0.06721004158201425,0.0,0.0,0.0,-0.09100181531902476,0.0,-0.07353751087460575,-0.09657965535806809,-0.06797471958354014,0.0,0.0,-0.07065503077662741,0.0,0.33132500281291766,-0.07388556267246753,-0.09139119608068019,0.2637891500993527,-0.07149045185910788,0.0,-0.080436915807707,0.0,0.0,-0.0771156084781158,-0.06556986229350555,-1.4157556891159577,-0.9069881043558926,0.0,-0.7699878642626701,-0.06938149297722832,-0.1554481677710342,-0.07143584572799816,0.0,0.0,-1.5301661926007541,-0.08183135239255948,-0.06952759816478236,0.0,0.0,0.0,-0.05992924280190116,0.03332365629567747,0.0,0.0,-1.1231217216231673,0.0,-0.0681179285248773,-0.6879890795692719,0.0,-0.2147523798711468,-1.2509775332918802,-0.33026208431951587,-0.06402330911479033,0.0,-0.0687611091247034,-0.15519940671332771,0.0,0.0,-0.29264438398328,0.0,-0.09981468462486628,0.0,-0.15494482802330334,-0.0688731340809827,0.0,-0.08482606382285209,-0.15931632347415636,-0.0805799684350674,0.23221234665462523,-0.0689160368192839,0.0,-0.07053437759568063,-1.259234685335409,0.0,0.0,-0.0764801137304754,-0.07514489276031287,-1.1731891672423627,0.0,-0.07689874001014126,-0.04771589595070994,0.0,-1.1663633504367799,0.0,-1.1316758833190281,-0.10354491654593367,-0.06888533500222466,0.0,-0.18252254073455898,0.8340792441125913,-0.06729546425880092,-0.7884719716379561,-0.7454709441277604,47.91455545286818,0.0,-0.8129264713601743,39.091608727702365,-0.062221360519122505,0.0,0.0,-0.07575413595896789,0.0,-0.07717912810512147,0.0,0.0,-1.0892083030765396,-0.09706681264888478,-1.2644424174675482,0.0,0.0,-0.0697251103290556,0.0,0.3333162822720913,-0.11122268587108752,-0.08424502988668921,-0.065066248818939,-0.07386467425160508,0.0,0.0,0.0,0.0,0.0,1.4076153961749558,-0.8778240958145029,0.0,-0.0626525558164859,-0.843146467988623,0.0,-0.42335137477077855,-1.1697824548765763,0.0,0.0,0.0,-0.5616008477805625,-0.09197716573766214,-0.6228447305844834,-0.5752991948287263,-0.06751498520750912,0.0,-0.1058320754542471,-0.09515765482107694,-0.04295637293929872,0.0,-0.08044365232038893,-0.15542864104839,-0.06435942280530356,-1.0977216357270931,0.0,0.0,-0.11725374086133146,-0.06926814986037053,-0.07688730435510498,-0.07652079131248879,0.0,0.0,0.0,-1.239668067027875,0.0,0.0,-0.06464750046024911,-0.7754729520053993,-0.06387985997330667,0.0,-0.4481671575250553,-0.07760061479690694,-1.6275367738260564,-0.7233212253507866,0.0,-0.7904071624708172,-0.04184450505009487,-0.09096138084992353,0.0,0.0,0.0,-0.06292910896888325,-0.259824641026922,-0.06464715927532978,-1.1878940538670066,-0.06258427589495595,0.0,-0.07885869702777126,-0.08655777682093756,0.0,-0.12192013128429353,-0.3857430020907772,-0.09121040176455324,-1.0442964791802027,-0.07566907735118611,-0.06801492211202403,-0.07368300014714046,0.0,0.0012530741974510567,-1.8019750852383516,0.0,0.0,0.0,0.0,-0.6874570059150933,0.0,0.20303294300173796,-1.004810559122301,1.029462267737064,-0.1275084713292394,-0.06810325453861324,0.0,-0.0710291337871143,-0.43879480594789483,-0.06736313256926414,-0.058683867574041655,-0.06307746798816316,-0.18928755616450502,-0.46458284501945274,-0.07620046245797199,0.0,-0.1008531192590237,0.4015575038717495,47.918478290597676,-0.26216363414940824,0.0,-0.11086118477747954,-6.782246630130491,-0.07700749340805971,-0.1283932337028092,-1.084416279469702,-0.11344257767098524,-0.07349684130021257,0.0,0.0,0.0,0.0,-0.0665541169790078,0.0,0.0,-0.07232722729781059,-0.7030547154651493,-0.12357583071426824,-0.2989555694867582,-1.1758492886849816,-0.07582893165059963,-0.07671850228778905,0.0,-0.05550964460468575,-0.07023540629636697,-0.07096504313787229,-0.36381559014264625,-0.07580562259629209,-0.0691276995072245,-0.08310457175444101,0.0,0.0,-0.1575037322850633,0.0,-0.06683072947697338,0.0,-1.071589469867459,-0.0647644072175955,-1.2291235368716806,-0.06873156600664364,-0.2689271608274666,0.0,-1.5673677059166344,-0.06156298461225727,-0.16957991051108393,0.0,-0.7700416628717291,-0.24812084301692924,0.0,0.0,0.0,0.0,0.4897262715254743,-0.09151940137554884,-0.19581351207463507,0.07451985412603158,-0.8582636015081594,0.0,-0.07931331362156473,0.0,0.0,-1.0999603785568726,-0.23957123432582067,-0.7283787923475987,0.0,0.0,-0.07685737108793457,-0.31185799924521385,-1.5503845442345427,0.0,-0.07024396805247242,-0.10789633124751982,-0.06735498791894269,0.0,-0.0746701622673937,-0.07898437543724904,-0.008632071900760766,-0.12468488200247728,-0.12851220942828148,-1.223817232164107,-0.0703545618324802,-0.05809444857754339,0.0,-1.3292122886745594,0.0,-0.07869884775961167,0.0,-1.2033154766653116,0.0,-0.24985554633869186,-0.07783136630026924,-0.09117005451059525,-0.2976693182703618,0.0,-0.17973871411380243,-1.3843442435455755,-0.055668338746464076,-0.1807113305537589,0.0,0.4453087333072933,-0.38086991574720014,0.0,-0.0852056120289489,-0.06831649560095374,-0.36901299692256934,-0.06900906592777585,-0.061550899936788264,-0.37477204365647016,-0.07816091618953928,-0.06903399035282137,-0.8856492051577067,-0.08102221472051713,-0.15362027580740703,-0.07517501718887123,-0.8930993278773459,0.0,-0.9684397052353831,0.0,-0.36705941811956444,-0.07719322053095139,0.0,-1.7487256666550657,-0.06710850752277639,-0.06473987961438019,-0.06144741254811049,-0.06521450049667617,-0.08157987992088687,-0.08162710740138528,-0.09600020333122433,-0.08006080056250309,-0.060984097744569636,-0.10329088442230003,-0.06550507167019431,-0.0642734821013503,0.15518985343231947,-0.0685075001918694,-0.06739761173673482,-0.06677891706441294,0.0,0.0,-0.04535762684886369,-0.15842072518336145,0.0,-0.06502884316343163,-1.1447814991120004,-0.31382875579410163,0.0,0.0,0.0,-0.5609048476599277,0.0,-1.1516824026204713,0.0,0.0,-0.06933843592067881,-0.07257635769465412,0.0,-0.09568371136230448,-0.07221687427669374,-0.0909908625086576,-0.05773399528891453,-0.07207661085793043,-0.07277907380003402,-0.05887528188753279,0.0,0.0,-0.08573479486696424,-0.07038444542709144,0.0,0.0,-0.08914553211095526,-0.07765350167381449,-0.07125996954341622,0.0,0.0,-0.20774896036314972,-0.16898222852354408,0.0,0.0,-1.2376936451637488,0.0,0.0,-0.06013429305071549,-0.07842710585999053,-0.06418743166242764,0.0,0.0,-1.1661117119849609,-1.0087459994857333,0.0,-0.06761070152578573,-0.0844500417816898,0.0,-0.0684945619334413,0.0,0.0,-1.2802309684449753,0.0,-0.06420329157264472,-0.06724841400641644,-0.05520420962906875,-0.06455756768686731,-0.8430134619678435,0.0,-0.07729361557976452,-1.7336264010466436,0.0,0.0,-0.07683303479268211,-0.09187145836085851,-0.07210668075534114,-0.06471764454646294,-0.10746857656855448,-1.1618396906208228,0.0,-1.375050823924046,0.0,-2.186161816359907,-0.15628469368802572,0.0,-0.6737440341165609,-0.07567950443901471,-0.3126059419220128,-1.3538636232513266,-1.128182264645059,-0.06993272615772592,-1.0058643611048494,-0.28941766000007185,-0.06740478886118548,-0.06514084148229357,-1.2463129629079064,-1.6274716796957622,0.0,-0.3389796658836761,-0.06704150408524219,0.0,-0.0688177612532214,-0.16478865019737476,-0.09032282403643757,-0.06660905928741483,-0.07471008079095928,-1.3110146359658306,1.0284807727629794,0.0,-0.07214734627672209,-1.1873246500541648,-0.3898183406981333,-0.06048148576522525,0.0,-0.0686889940573211,-0.1016024828130531,-0.06999379867020547,-0.08357042148162516,-0.16498532391872447,0.0,-0.7080572438585062,0.0,-0.06817150332799025,-1.139727279464759,-0.04185590849085596,-0.05547763733873765,0.0,0.0,-0.8488323317056159,-0.07996083597198553,0.0,-0.8332721188771791,-0.06637253266855217,-0.10248308136410278,0.2893855424066669,-0.32311809363532507,-0.08049593184352849,0.0,-0.07725962460193138,0.0,0.0,0.0,-0.08007336593273025,-0.07072053654974432,0.0,-0.07633822346668678,0.0,0.0,-1.0417765596395658,-0.13850235737933805,-0.29426832184563706,0.0,0.0,-0.8602045051232011,0.0,-0.027151936350212378,-0.0866526753908109,0.0,-0.08665625270186712,0.0,0.0,-0.0648325926991768,-0.06883709772319359,-0.07813332432111195,-0.08154368034194465,0.0,-1.2646133441551686,-0.09820677032710208,-0.1600272949079732,0.0,0.0,0.0,-1.09653900520099,-0.43530022344127856,0.0,-0.0764274392179102,-0.0697407216830149,-0.05780399719358611,-0.0858031942119882,0.04854046839573966,-0.05860643952502515,-0.29676144596108095,-0.0541515059931836,-1.2157691524716026,0.0,-0.07298302879321453,-1.1918248582936368,-0.15547285570282762,-0.13903542816989023,-0.12783708150893908,0.0,-0.0642236849166276,-0.09218618000504697,-0.07129767501403933,0.4447499943975937,-1.1820138781421086,-0.8841920463191419,0.0,-0.7621496529208585,-0.07475690622999433,-0.2948406352249217,-0.3016403939976527,0.0,-0.03203599514301492,-1.289419021759264,0.0,-1.1918513782861662,0.15796641254555543,0.0,-0.06366228899006035,0.0,-0.06225759761817728,0.0,-0.07798910518982931,-0.06658233595127254,-0.04655767168085982,-0.07531709561970056,0.0,-0.0756875582574721,-0.07772269465506762,-0.0766460760855472,0.5793300274955726,-0.1611088919883935,-0.08601865543656827,-1.2176729346135182,-0.06899460212599956,-1.1680533741532189,0.0,-0.8312398616295682,-0.723102516062105,-0.5153544477570041,-0.12597010090096827,0.0,0.0,-0.53367646081007,0.0,-0.08365809980445464,-0.058451328971110966,-1.0967319980159722,0.0,0.0,-0.0720864458847516,-0.0727870450605593,-1.2237682520529458,-0.09315486400711076,-0.07530630640060737,-0.43544667439989226,0.0,-0.1371120521494721,0.0,0.0,0.0,0.0,-0.07882553958820744,-0.07169818101465772,0.0,0.0,0.0,-0.06182965159070228,0.0,-0.06791626856341466,0.0,-0.06896187201602995,-1.1900888313183775,0.0,-0.08515750442095227,-0.7116437712935509,-0.07778721745236808,-0.1736346679905873,-0.09126856030497973,-0.06883618557551713,-0.0635237630566324,-0.08140832274715158,-0.06551641484495668,-0.0768036973674898,0.0,0.0,-0.06693209879924118,-0.06828918092629375,0.0,-0.07045542854551518,-0.07218939113309172,-0.2386537217599979,0.0,-0.06630169854474195,0.0,-0.0732239019867212,0.0,-0.08815350017252133,-0.06824256689608116,-0.12940232333701104,0.0,-0.07469283077048045,0.0,-1.3760635948183881,-0.35112113999027894,-0.07527540843052148,-0.09405149602272407,0.08240997079078119,-0.16724316734844186,-0.3161561513080451,-1.7064329766608457,-0.42870239426915413,0.0,-0.09338899177574701,-0.224408608499554,0.0,-0.7389014128505336,0.0,-0.07916492352290432,-2.259940786671117,-1.289829871975342,-0.35540740967622997,-0.07386810909177889,-0.08306147848625378,0.0,-1.0931177038424549,-0.0543767801314663,-0.7376268977605522,-0.0920448820332116,0.0,-0.08532018658926187,-0.07849943567758191,-0.13995076824205657,-1.2568895675077725,-0.14865220189520234,-0.10250509644377713,-0.08145720966807332,0.0,0.0,-1.6293533345689724,0.00730969075587233,-0.06751592428181738,-1.1742238518475818,-0.15012300506002135,-0.17516377774517825,-1.930510450874837,-0.06752652663638864,0.0,0.0,0.0,-0.11175225539666589,-0.07457490420324281,0.42254505147396004,-1.4117094705758357,-0.07512630869188501,-0.061631400659912,0.0,-1.3333170013487783,-0.09204699161159252,-0.06096815209177886,-0.12125224609035812,0.0,-1.146902628104058,-0.076467702440482,-0.5176722917300237,0.0,-0.3949879925284331,-0.07323848894180142,-0.07476541201873045,-0.06544770253937289,0.0,0.0,-0.09296791097057745,0.0,-1.111753497769012,0.0,0.0,0.0,-0.07978826155731837,-0.07354321948998406,-0.4100215715639102,-0.1539373597374209,-0.12286554400414643,0.0,-0.06727366295489706,-0.09280633361971383,0.0,0.0,-0.0639375318282113,-0.9191926650718277,-0.07396321894736689,-0.07529822209129915,0.0,0.0,0.0,-0.15704218040044257,0.0,-0.0728530474136188,-0.07033660810161119,0.0,0.0,-1.3311464138099436,-0.17409901747276116,0.0,0.0,0.0,-0.7944390022863447,-1.1180115520719698,-0.03124476010497732,0.0,-0.07362827376021257,-0.06819186171147783,0.0,-0.06339178309717504,-0.4509967277051167,-1.095067038012847,-0.06452219115758404,-0.07256755146779163,-0.15353421302920894,-0.06356587382521516,0.0,-0.06749214974293145,-0.06459254341552102,0.0,0.0,-1.4419363310157056,-0.057241608295555406,-0.0608634627922902,0.0,-1.1278837649866715,0.0,-0.013546521649326751,0.0,-0.8786304019592833,0.0,-0.060209610125066454,-0.08879684918238889,-0.7067371291748172,-0.030622771480407932,-0.3597102828202102,-0.08027530596899726,0.0,-0.1461766830592422,0.0,0.0,0.0,0.0,-0.07303498855628118,-0.09578226107414757,-1.21967206337786,-1.0601714429522908,-0.26717125760846727,-0.08541104605415062,0.16924271563058457,-0.12912801862621184,-0.3239267568849245,-0.06972834021719608,-1.5809821184669266,0.0,-0.735778326279464,-0.06263916287610256,0.0,-0.0691830586134563,-0.050353285891118975,0.0,-1.1063064518353236,0.0,-0.7702694531963086,-1.0453176577842587,0.0,-1.1779990899323993,-0.07986768565957497,0.0,0.0,-1.1525133053481655,-1.6161400981402199,-1.1056674885941493,-0.03381715062258519,0.18487287198650515,-0.07410029542209919,0.0,-0.07836343775215987,-0.07350391227714305,-0.49347328528315637,0.0,-0.06685192776605667,-0.09224341869696796,-0.09439286193795857,0.0,0.0,-0.06859212020851065,-0.09952466643495218,0.0,0.0,-0.07394549032932816,-0.07733714670920866,0.0,0.0,-0.06674210561190806,-0.17975750858558637,0.0,-0.0721772043819221,-0.06635184602779905,-0.07405800279166976,-0.07459920195872259,-0.06372801339211161,-0.33779355543283585,-0.10530153711822282,-0.34668821913969594,0.0,-0.14396929867765812,-0.14935192991140706,-0.07284211511846941,-1.1920866348789665,-0.14988974218039533,-1.1004145569035881,-0.0646088070130268,-0.06117533028287478,-1.6231492008252018,0.0,0.0,-0.10598695746929135,-0.11096528754034288,-0.08244970206654086,-0.07523559941140807,-0.05831614532836376,-0.07561407701750768,0.0,-2.663665549907373,-0.07313494511742433,-0.06667418066751267,-0.06437783867863246,-0.34990386281201996,-1.4862382251388124,-0.06964111006733337,-0.11883787273374899,-0.30161645933396286,-0.7519608215745331,-0.06491379103827764,-0.06499569553188432,-0.05794504102022066,0.0,-0.2892012764291688,-0.07841687488754194,0.0,0.0,-0.0659200675190642,-0.1789877618061154,-0.07910684766718609,-0.09954306251741155,-0.019548954296639443,-1.28783750447833,-0.06619585669283597,-0.11492556741307523,-0.3621102862055778,-0.06578629276306866,-0.08317951812348495,-0.1592783019227329,-0.09062694309138943,0.0,0.0,-0.06876004275100497,0.0,-0.06990195050943472,-0.10432557725039242,-0.1681029342288672,0.0,-0.06474252193974477,-0.07265263213906466,-0.06907047186202064,-0.21868745084575564,-0.07244022689075212,-0.6828463611351338,-0.03352839281724474,-0.07437216089242966,0.0,-0.06411769798260683,-0.9477170315965902,-0.25233395271880205,0.0,-0.0915444373928875,0.0,-0.0650803534071447,0.0,0.0,-1.234531587186945,0.0,0.0,-0.06924452921693956,0.0,-0.04960787392005578,0.0,-0.06504326986117707,-0.06593757035519336,0.0,-2.9705341063164328,0.16594127401518421,-0.076116813363393,-0.0635602580110511,0.0,-0.07468149553865702,-0.054135831124398466,-0.06832371715286442,0.0,-1.5686203532412772,0.0,-1.259138040495661,-0.10779262210785993,-0.09782869399249129,0.0,-0.08045486447128838,-0.13755433614151039,0.0,-1.1548737089176189,-0.14795866127681717,-0.08318815292416018,-0.05839126189312847,0.002311661622192649,-0.07154739244015078,-1.1033968971298085,-1.4247709748030974,0.0,-0.0957253357056126,-0.06146163021511058,0.0,-0.06957017777193834,0.0,-1.242850980471188,0.0,-0.07459079238523413,0.0,-0.5392823856757851,-1.5566055694968681,0.0,0.0,-0.08398024409332833,0.0,0.0,-1.2549875118320373,0.0,-0.24093695512254348,0.0,-0.07226525381296382,0.0,-0.07306523795600062,1.1517347238299491,193.82969085529558,0.0,-0.08264929930292621,-0.06752913555173988,-0.07538082610329523,-0.45470048601985935,-0.08661328881239588,-1.1892403880645877,-1.1808236460912915,-0.6989464055803749,-0.06781970769533761,-0.6711163532029707,0.0,-0.04099923464633977,0.0,-0.746873902901491,-0.08332627416123084,-1.142321184586169,0.0,-1.2371039022400268,-0.2914277230398984,-0.07615097074175414,-0.9497002491595842,-3.135876784481245,-0.19207288630664893,0.0,0.0,-1.2803662448790998,-0.06707253977401989,-0.06591723631067914,-0.11215579339344761,0.0,-0.0932840984421892,-0.07099251186881882,-1.6693066558420997,0.0,-0.46075143884781916,-0.07072119010973295,-0.062029477010322895,-0.08974011889779691,0.0,-0.06394457359287298,-0.0819827565366555,0.0,-0.5197853589695721,-0.05800895456517864,0.0,-0.11410496703382392,0.0,-0.060953406358312937,-0.07319511735462562,-1.19857978199765,-0.0755255790472168,-0.06998015715785928,0.0,-0.06507773586652513,-0.06727407255922206,-0.06958232436051574,0.0,0.0,-0.07201445138689133,-0.06512129655722154,0.6644923340333523,-0.12036256380082928,36.74557354441533,-0.14130043934331488,-0.5627894829127946,0.0,-0.0743304323898099,0.0,0.0,-0.06661124297901204,0.0,-0.18983510613876745,-0.14097655121827699,0.0,-0.08355227131931155,-0.07001882717819813,-0.08345796728394056,-2.1290495660038062,-0.07693860677720231,-0.06890186276725285,-0.06165206162434713,0.0,-0.07920742654925451,-0.06568505584262824,0.0,-0.07304414622754685,-1.6026667488119763,-0.1165797285501403,-1.6321981966514616,0.0,-0.08361268001512012,-0.06795394979830982,-0.2990851916862507,-0.08263730687961952,-0.09089263168534158,0.0,-0.27294524255445685,0.0,0.0,-0.07913497087856286,-0.09568354746200211,0.0,-0.06822160266408829,-0.07169017451944794,0.0,0.0,-1.1245500890344902,-0.06620592531605247,0.0,0.28646168068623684,-0.07962000314487631,0.0,0.0,0.0,0.0,-0.06880416230239585,-0.06823497932096878,-0.1332929919001316,0.0,0.08722763653837953,-0.07031232486396208,0.0,-0.07315700448688676,-0.3128903580458,0.0,0.0,0.0,0.0,0.0,-1.383859002486921,0.5006976911285057,0.0,0.0,-0.0840196219844178,-0.07233077088687213,-0.16389662152087048,-0.1497856610176373,-1.3441314104653594,-0.07672051225830599,0.0,0.10497432120815586,-0.09333403446514602,0.2660155560159388,45.81267701832513,-0.06396283314540353,0.0,-0.84956168889126,-2.366591673151614,0.0,-0.06926219733205055,-0.947687031498451,0.0,-1.1071578988815278,0.0,-0.05173446023377647,0.0,-0.05971153299054689,-0.06885350086058403,-0.028923682928889142,-0.06600271039371157,-0.061664772631387886,-0.058184880507256335,-0.08604941961180312,0.0,0.0,0.0,-1.0042041530496568,-1.3278815491022224,0.0,-1.1704602613629758,-0.08839731467743421,-0.03739029152109979,0.0,0.0,-0.061783130294793105,-0.03945986225388967,0.0,0.0,-1.132757859474601,-0.07098894462539852,-0.08897155815640186,0.0,0.0,0.0,-1.115141425938851,-0.31120761160972665,0.0,-0.22925872902579617,-0.10011384769949222,0.0,-0.9889566108581976,-0.0711434868692495,-0.07015113798092579,-0.10751848240400008,0.1629376555001915,0.0,0.09354415516676359,-1.32654080993866,-0.048288372174760404,-0.05981216552827146,-0.18194657100631134,47.92039886963932,-0.5592279492864894,-1.0985013857231885,-0.7773743127563971,-1.3899653037423116,-0.09648541484024843,-0.062469241294287506,0.0,-0.16252813002318267,-2.0216259951010294,-0.06494083836552923,0.0,0.0,-0.7623100505455762,0.0,0.0,-0.0770241171833761,0.0,-0.06592215995004741,-0.30737084006736576,-0.07820377749781865,0.0,-0.09760317537208194,-0.085011660523369,-0.06446633487491109,-0.07976155886503532,0.0,-0.002774434069850746,-0.007387116499563599,-0.017306109260050478,-0.07657899226207683,-0.0965829437256293,-0.06306307464118462,-0.7561305716496088,0.0,0.0,-1.2186088336524425,0.013109332882525014,0.0,-0.04123344561505459,-0.06930813707135586,0.0,-0.06631011476498742,-0.2975851589705723,-0.4877486576639803,-0.07319291144468132,0.9620967766660898,-0.059619830385955086,-0.13537507152731607,-0.019059195719262116,0.0,-0.22644966218102222,-0.07890192865005864,-0.13316236948095822,-1.2231998530382853,-0.1684881364714365,-1.3652480901948958,0.0,0.07787232419048308,-0.11444448740063486,-0.06545302103072385,-1.1659888065887358,0.0,-0.07164527365140715,-1.146794072719693,0.4783639947793352,-0.1673270368231169,-0.07358817803904218,-0.31072289049466983,0.0,0.0,0.0,0.0,-0.07999425281955777,0.0,-0.239351220398318,-0.057685041874535395,-0.40186301881709424,-1.2959158413288034,-0.27595433302463507,0.0,0.7363913043307464,-0.07251695729100613,-1.1368407209306255,-1.1227811335653881,0.0,-0.5596156365068425,0.0,-1.1214506372986466,0.0,0.0,-0.07068136390589284,-0.10169380270455113,-0.07496080388560149,0.0,0.0,0.0,-0.07179392576355527,-0.9380518660342719,-0.06564801162542244,-0.07385378977403867,0.0,-0.09980636186805623,0.0,0.0,-0.06390888339448453,-0.764100528172633,-0.08591228361921986,-0.34842270085533295,0.0,-0.07672467135971976,-0.0684349082110656,-0.23467024368937647,-0.060401367068188695,-0.07379324693087204,-0.0880368435957397,-0.21456234243223332,0.0,0.0,-1.6674087960903592,-0.0653574196800048,-1.1423833077970302,0.0,-0.09312605745858504,0.0,-0.05200060886902636,0.44223805980969716,-0.06746761918983107,-0.1926446786685237,0.0,-0.08975097504012361,1.09881122107582,-0.08718615186771048,-0.08322353608227864,-0.07121313200751628,-0.07346730539859382,-0.07734454708050147,0.0,-0.07132922269589698,-0.37377805348913645,0.0,-0.09550504097566535,0.0,-0.07179690785162231,0.0,-0.06489255593634273,0.0,-1.096687427836734,-0.071206895424504,-0.0605165694722842,-0.6064548037967453,-0.07475789334746887,1.0213104063909104,0.3023795298875442,-0.11314566037090855,-0.07666276037255326,0.0,-0.12606461487788648,-0.07684534640979011,-0.07843497262703752,-1.0924147846680288,-0.7225406375311875,-0.07144192769239739,0.0,-0.1088825321249985,-0.07740369361927757,0.0,0.0,-0.06808032260732412,-0.38081710503423616,39.44175230756512,-0.8176146783762084,-0.34192589786597805,-0.07614112288356781,0.6454330920233589,-0.2620649165691398,0.0,-0.0826678835122134,-0.08747168355090745,0.0,-1.2872319460845596,-0.07252150417221997,-0.08476535824372444,-0.718725093509955,0.0,0.0,0.0,0.0,-0.06571096698540309,0.3087792354228447,-0.14527749102184082,0.0,-0.07567486507336829,-0.9750025178071501,-0.06060554385615588,-0.13767621996442178,-1.1750195397665595,0.0,-0.0839465944748773,-0.07689947934770541,-0.12038078629954108,-0.0818579208348657,0.0,-0.06033844118699638,-0.06910231668702072,0.0,-1.1613704474136515,-0.06691952492004381,-0.07118277849939908,0.0,-0.17210300355328095,-0.06919625307069525,-0.0677917895320638,0.0,0.0,-0.06976598108996805,-0.06834472288008094,-0.06494425827623862,0.0,0.0,-0.09036748014485957,-0.06809569794216314,-0.06632212860563494,-0.06593686807589873,0.0,-0.12714812034428732,-0.08313780813778597,0.0,-1.5487347682176613,0.0,-1.3570406422221493,-0.075579781722299,-0.07785230841542909,0.0,-0.06516697253054898,-0.07402863862518477,0.0,-0.2094535678141773,-0.06888245388464043,0.0,-0.07566893954829537,0.0,-0.5765229077929445,0.12963795674454473,-0.06318911995904256,-1.1139375642124805,-0.41070845566229364,-0.07591004122103419,-0.06359273917823109,-0.07533859478360543,-1.2456121698562714,0.0,0.0,-0.5799714130422959,0.0,0.0,-0.07815458635894194,0.0,0.0,0.0,-0.04964691335214958,0.0,-0.15894370416334047,-0.10163624253078296,-0.059971641879175835,0.0,-1.2538324516227275,0.0,0.0,-0.11440026506532898,0.0,0.0,-0.06647725430334782,0.0,-0.06935356176044494,-0.06897249078862429,-0.06942118139463986,-0.07368544993654318,-0.09169401069536692,-0.06546662056436992,-0.07016665594929132,0.0,0.0,-0.0721757693230336,0.0,0.0,-0.07347776168979393,-1.1491973733977066,36.67486099956407,-0.2262813649332952,-1.7995767598303636,-0.06925111599425605,-0.056736182685370395,0.0,-0.07310348574111741,-0.07227770052079914,-0.06312978408396257,-0.06447945223165916,0.0,0.0,-2.034160711979169,0.0,-0.09491497024594414,-0.940530643676902,-0.09316053843821721,0.0,0.3203439060527004,-0.7264790720624315,-0.07027910350886908,-0.08109447033041765,0.0,-0.10552418046756169,0.0,-0.33599894249567364,-0.08600162032179029,-0.07073710822875368,0.0,-0.06636271573110779,-0.06131807941053132,0.0,-1.1637296795468663,-0.08562420475113529,0.3582780586823771,-0.07494664376133528,-0.5284081992257673,-0.06506855519664172,-0.06564190730302162,0.0,-0.07619140250544956,-0.06925727651390953,-0.0922975981778931,-0.07231657536474255,-0.06370580075079636,0.0,-0.12232432123576154,-0.06824861337259484,0.0,-0.06463186053671924,-0.15316350850817337,0.0,0.0,-0.07664978782419535,0.0,-0.0835333400060025,0.0,-0.11001395077790133,0.0,-0.06522528520920978,0.0,-0.05911955765534824,39.30382186980029,0.0,-0.10209793682562952,-0.3640232576028744,-0.06870111000319365,0.0,-1.016060504081536,0.0,-0.06928230150361751,-0.1625290663774178,-0.7851626578441201,-0.0833923256192148,0.0,0.0,-0.07913757267738757,-0.06886247073578221,0.0,-0.7687112447485178,-0.7658848017165448,-0.08833113945231555,-0.07495332479138009,-0.06596695777764634,0.0,-0.08490836444687754,-0.0667255638207983,0.009592833769417516,0.0,-0.07445892300120494,-1.085688245958363,-0.07016289918214923,-0.0682507699392977,0.0,0.008407286262820906,-0.06769931531743832,-0.11149178026994179,-1.2837835575244625,0.0,-0.8334313219312176,-1.0308003816170994,0.002247377856142723,-1.0351081922843088,-0.07266997487545436,-1.284444484517739,-1.617676335771553,0.0,0.0,-0.09293415760810768,0.0,-0.07146510773833512,0.0,-0.06697660777048328,-1.1891978630510576,-0.053477402249954835,0.0,-0.06829673248969732,-0.07971907710628896,0.0,-0.08520108043793226,-0.6889979881391107,0.0,0.0,-1.3351467833284947,1.0991312498106598,-0.0680161396743321,0.0,-0.06533544372371977,-0.07890364129703809,-1.096951087909473,-0.8010286328225307,-1.1195698692984992,-0.07082590838212305,0.0,-1.179803958264322,-0.2985719507049628,-0.09241644850995244,-0.04822193570937692,-0.7696969942289166,0.0,-0.06502093314689467,-1.0420853240576193,-0.1772482561355318,-2.5187332559445617,-0.06818124255282505,-0.06899456797133821,-0.8812755048360832,-0.07894501950842267,-0.0644640349130147,-3.245674695277585,-0.08666937267672131,0.0,0.0,0.0,-0.08250183463970395,-1.234584399385827,-1.9636123878540952,0.5085660526706506,-0.2512513232672997,0.0,0.0,-0.04792823969892082,-0.032180357286450315,-1.1204565668979118,0.0,-0.6554054755404382,0.0,-0.07053057493947165,-0.07470754359278711,0.0,-1.214700551536587,0.0,-0.5501992087376059,0.0,0.0,-0.06248700522670151,-0.6996836501617282,-0.06505975199937836,-0.05294643195670782,-1.120972644114301,0.2887829057000311,-0.06220052066732888,-1.1999835004445425,-0.06585850091052699,-0.07671507065967911,0.40764380248454546,-0.07616797117124934,0.0,-0.06506183501733308,-0.03649218061617065,-1.294282369446954,0.0,-0.256206685616466,-0.18824239912647878,-0.06794550941265583,0.0,-0.03061995601134111,-0.07058689230208112,-1.1137454176535675,0.0,-0.07611867974672434,-0.1102213200610808,0.0,1.1065583817067928,-0.06858987233622159,0.0,0.0,-0.06911655230861478,-0.07705679055940043,-0.04377724165458799,0.0,-1.2881594739828566,-0.05888510189972713,-0.44964531322674933,-0.09751664265843278,-0.06313102387664535,0.0,-0.5062494707838946,0.0,-0.06691815018921349,-0.03712653759468145,0.0,-0.07795837580692833,0.0,-0.06420910403638097,0.2004565770033301,0.0,-0.06688740099325531,-0.8654766637145407,-1.1862913148490957,-0.15453724187592852,-0.07358882106185564,0.0,0.0,-0.7209625081278321,-0.1629208406652356,0.8167381941810038,-0.07638601154073829,0.0,-1.1624146434895921,-0.06774518867274229,0.0,-0.09665253154247688,-0.06353923754852463,-0.10950626039348856,-0.34298246824369677,-0.06287728514213539,-0.06606358799901135,0.0,-0.06010181309613939,-0.06895226152042419,0.0,0.0,-0.06788397881028425,0.0,-0.314538875671677,0.14188489800479456,-0.08479311057500566,-0.09808501329042076,-0.47134810762327795,-0.7039396947180648,-2.4781240912368094,-0.685859909997029,-0.1812374622901848,-0.49117134985119193,0.0,0.0,-0.06512281259196469,-1.2431139390330317,0.0,-0.06468874949888109,-0.06666062722024776,-0.11695276163529225,0.12021089475436343,-0.06816838543691708,0.0,0.0,-2.5754002579446604,0.0,-0.09457836286684902,-0.06738447800273152,0.0,0.0,-0.07637360753256556,-0.07942067128031254,-0.05888367580341564,-0.7499260967045407,-0.06139527790195849,0.010158194253518545,-0.6323289618700174,-0.07954573850754229,0.0,-0.026595659523051842,-0.09312583823088678,-0.07353688937185383,-1.0926509331229588,-0.06364429698191117,-0.07448870293603008,-1.7067474881482452,-0.807476073758906,0.0,-1.0739996150843207,-0.07025719315093686,-0.07636384687008713,0.0,-0.1554187333459133,0.0,-0.06508656701894384,-1.4636114019757445,-1.1826596369873312,-0.7295669251304856,-0.27655034048614946,-0.08414726014721113,0.0,-0.06938445089083244,-0.07746858290606917,0.0,0.0,-0.08189472284567083,-0.6608382362108104,0.0,-0.07353144840316203,0.0,-0.07298772495636209,0.0,-1.1972375272115765,-0.6645868200966029,-0.06834600978192591,-0.07613823260611847,0.0,-0.07430216470195135,0.0,-0.13667998183259134,0.0,-0.06071487920525225,0.004069073768146615,-0.07301085696375265,-0.13648750485329564,-0.06745949379421698,-0.07030160389339782,0.0,-0.07615968422962499,-1.1286390746655717,-0.0826096982931145,-0.5582553275135022,-1.2340869224230229,0.0,-0.06977226464052588,0.0,-0.07619468517220403,-0.783467622194657,-0.0646323196616365,0.0,-0.07660045019248816,-0.06513861715689488,-0.0712981030128634,0.0,0.0,0.0,-0.0016706604073472241,0.0,0.0,-0.07401084688347756,0.0,-0.07877766289340257,-0.06185301203003232,-0.720731987154354,-0.06987264472980755,-0.06771544162130809,-0.07368750218697563,-0.07709573231946744,-0.10024515198428377,-0.07109192494698563,0.0,-0.07024432903784976,-0.06571300253417522,-0.08525489413025142,-0.07078850765224783,-0.20245999968297254,-0.2568432497042125,-0.06268676024002817,0.0,-0.06433391713875765,-0.09695913678156844,0.0,-0.08189722195235397,-0.06629097403563733,-0.07985559144699136,-0.04435827178862761,0.06131625329681482,-0.06665030756718957,-0.08042375980723657,0.0,-0.08392550869450556,-0.07094032074706785,0.0,-0.06623014209072507,-0.44597418106503506,-0.06597552583741813,0.0,-0.08801181936179765,0.0,-1.1392896307454516,0.0,0.0,-0.06923724859479244,0.0,-1.6274293958188844,0.0,-0.07027670066108832,-0.06708717650622581,0.0,-0.11662565012205679,-2.312542533344304,-0.1667449958355185,-0.1265873546830117,-0.0675470281053999,-0.06711979525312303,0.0,-0.06976117922594555,-0.05353066235616883,0.0,-0.06788039245491673,0.0,0.0,-0.06900614210894711,-0.09016070758640392,-1.113334715873291,0.0,0.0,0.0,-0.26894085857728606,-1.1679009562157618,0.0,0.0,0.0,0.0,0.1909980419548492,0.0,0.0,-0.06477581955938269,-0.06948436329404871,0.0,-0.23079136300579875,0.0,-0.06821558782178401,-0.7275494303539923,-2.9432861710694413,-0.06806783290274625,-0.14266446198236152,-0.07522513770004484,-0.5830929978536521,0.0,0.0,-1.2312142604878642,0.0,-0.25248036494514436,-0.0969597806320437,-1.1680672761756565,-1.027473919530067,-0.833056097008473,0.0,0.0,-0.06709614001774915,-0.06696760828698015,-0.06542377955572681,52.292959994481436,-0.22064021366483375,0.0,0.0,0.5566648610416104,-0.08080469769538035,0.0,0.0,-1.2016393775007945,0.0,-0.4343651118532013,-0.08061513241001843,-0.08129341317300931,0.0,0.0,0.0,0.0,-0.2198790021943863,-0.06545635748164064,-0.8944526360811671,0.0,-1.1099829690637903,-1.3341383455534834,-0.07893373340407424,-0.07329214446839004,-1.2550143335452402,0.0,-0.7515352584630562,0.0,-1.2783495223475374,-0.06407672248380288,-0.0673067565088459,-0.07806038613362759,-0.27357097329778063,-0.0700847626768656,0.0,-0.06830361347834998,0.5147051117478816,-0.16207702844985772,0.0,0.0,0.0,-0.07111374984117676,-0.06851958042612398,-0.038842157545627636,-0.08996908951793355,-0.08884323837648554,0.0,-0.3206586404963497,-0.07793195636170164,-1.1262929209565673,0.0,-0.0349511430609716,-0.08767679238178357,-0.5632795532539956,-0.09377212136801477,0.033722384132877106,0.0,-0.22252157519121096,0.0,0.0,-0.07311762949359464,-0.06412587855473494,-0.08774496062818288,0.35147145336834557,-0.06900472226223414,0.3928040237673019,0.0,-0.07219136360616028,-0.41809138607517826,0.0,47.92049741557318,-0.045208767574237654,-0.06983867057632812,0.0,-0.7553208896132853,0.12405672378638315,0.0,0.0,-0.7860479298706127,0.5609570715586923,-0.2761393755064637,-0.7090832871563946,-0.44367525273089,0.0,-0.1619905370800845,-1.1425288936154459,0.0,0.0,-0.08375854069845659,-0.10294981489438895,0.0,0.0,-0.06592571976791037,-0.7289711143033921,0.0,0.5789081301852522,-0.0629463462389118,0.0,-0.0992253880571198,0.0,-0.06546965624210607,-2.561505620757101,-0.16667054372324128,-0.7290500058667999,0.007379660665532387,-1.4843274052887179,-0.9450163103881112,-0.06173799729348802,-0.07319844947596975,0.7027881778580946,-0.6868492870971965,-0.20013501999442956,-0.24466614053387425,-0.3581040109113529,-0.07775469988537917,0.0,-1.1378117435813582,-0.10044733052670743,-0.0747850005313808,-1.301716842575793,-0.15624811945871123,0.0,0.0,-0.06604092496431142,-0.11347336870473962,-0.06852170610177276,-1.41305745929307,-1.2630299192082426,0.0,-0.003462972989262109,-0.07422316325010574,0.0,-0.06734645416530374,-1.1030527775029153,-0.06575055891595387,0.0,-0.0890961168675392,0.0,-0.07222074882168206,-0.3253849570889094,-0.0698051925626859,0.0,-0.14614970483496978,-0.07891745508405106,0.0,-0.06580512172742231,-0.15699710328422267,0.0,-0.8373446746468866,-5.462938015339766,-0.16417555721987953,-0.08691590062993892,0.0,-5.871593983847021,-0.07532436051684704,-0.6468921369520912,0.0,-0.27624235272849723,-0.06852864923875039,1.2900290772337686,-1.0955001322493814,-1.1266267504162657,-0.08298257778276918,0.0,-0.07434521205090198,0.0,-0.07780643487076384,-0.37866733868735597,-0.1503371402328707,-1.1906283211144935,0.0,0.0,0.0,-0.6983736650442759,-0.058967247747281425,-0.06878906747582808,-1.1510451581794159,-0.10339194115862452,-0.06710194659459287,-0.0755636821106804,-0.7064069056246546,-0.07620715703594534,0.0,0.0,-0.09485864755380777,-0.09161823058169788,-0.08324105217921682,-0.1980290045574593,-0.07928090994024072,-0.6868494470010872,0.0,-0.08575901025987631,0.5027019650098797,-0.067542145463309,-0.07500044437465064,-0.807715309008219,-1.2597014647192555,-0.07023713807029588,0.0,-0.08761377534960883,-1.1480043245143023,0.0,-0.07617719276532355,-0.3772385941730368,-0.07087462823564586,-0.06446836645298758,-0.0990360293308942,0.0,-1.3676316691561816,0.0,-0.6782790380487237,-1.2886170249136588,-0.07517092099114445,-0.5296684711127377,-0.1665778220059894,-0.06546044235198466,-0.06931884302487584,-1.2503439929868383,0.0,0.0,-0.06873752686355673,-0.13277133702545718,-0.07056430639840737,0.15945894014036793,-0.07367215880295838,0.0,-0.21083068725190476,-0.06808380110420335,-0.07530130663868398,-0.23910411228764947,-0.022414209145824614,0.10410379391803819,-0.06004333510390644,-0.1323393405587013,-0.32829288961938385,0.0,-0.09070071447736555,-0.06765848549927009,-0.5174296589244144,-0.06671035056087093,-1.467650872329448,0.0,-0.12055292717514435,-0.07262185113847713,0.0,-1.1955216384980685,0.0,-1.5095956122207672,0.0,-0.12342778849574997,0.5100548749470973,-0.11628085645208465,0.0,-1.457395686472485,0.0,0.0,0.0,-0.05888778665147736,-0.6618646398745334,-0.06387594163716458,-1.2008204052446232,-1.0034393898806373,-0.06691920064958637,-0.0683662132379342,-0.2857071128167752,-0.0644710420750309,-0.07381345144970379,-0.14739902231477775,-1.3646684697708895,-0.09726758176969941,-0.06594182690503092,0.0,-0.1018452163876531,0.0,-0.08907002587608871,-1.3795128362940445,-0.9274848547867258,-0.07022876850943166,-0.06866350263925704,-0.07080501085878442,-0.7999685591687472,-1.5519192821711654,0.0,-0.0721242915237117,-0.07223194462676362,-0.118619280544053,0.0,-0.07139274137197053,-0.5298031924669919,0.0,-1.253360493666961,0.0,-0.030621946929542655,-0.24032562168694685,-0.07970067904075996,-1.2366476454672954,-0.3015338398324328,-0.06671302116089536,-0.9268683070937672,-0.07076615315119744,0.0,-0.42801696326613525,-0.060815760885530895,-0.3430632063054024,-0.066929794395846,-1.0970552901743729,-1.4497287222560808,-1.3766049979889463,-0.07023647915755,-0.15073251878295946,-0.06527468635079306,-0.07006119085431772,-0.7239545594426582,-1.2068106440407165,-0.06959397254734631,-0.05895151975849047,-0.06031755618312178,-0.43968939475353946,-0.07002558369296293,0.23730063663077153,-0.23001229990148192,-0.08228900853261929,-0.13060694863821296,0.0,0.4096630660940535,-1.717864510483077,0.4750436246079177,-0.6965625950667527,-0.06457905372012125,-0.07089452572705254,-1.1228183417449646,-0.11061962786140135,0.0,-1.2210092488472366,0.0,0.0,0.0,-1.1525886520581716,-0.06731381987125587,-0.07275831060125422,0.0,0.0,-0.16609223072474905,-0.10770110655211765,0.0,-1.1335846350566148,-0.0704290413821844,-0.07527426009247275,-0.2834326023493255,-0.8966856521483378,-0.2705302423387849,-0.06434376329485961,-0.07296998105296641,0.03740180544923594,-0.27347713347914293,-1.291508943781607,-0.0682367672347219,0.0,-0.6957910648602654,-0.07693113733629874,0.0,0.0,-0.20210239945802144,0.0,-0.07876306862607471,0.0,0.0,0.0,0.0,0.0,-0.16079219961429073,-0.0779278213297645,-0.0692077925889593,0.0,-0.06773116215744461,-0.09211463567198688,-0.07985851014539895,-0.9324210824677787,-0.07419621196188345,0.0,-0.7411899750889637,-0.06197400481117438,-0.06289735564986855,-0.09974052531938501,-0.054460226536345045,-0.0660964130552746,-0.09140325896716102,0.0,-0.06761331453476765,-0.1624648890696812,-0.08474913359200706,-0.06979229371422724,-0.15080842096506636,-0.35822070753499313,-0.07063401572280105,-0.08286919098162497,-0.691849745347236,-0.08199279338838374,0.0,-0.8877686422303666,0.0,-0.08343356105196989,-0.07699590089035181,-0.17218885451677046,0.0034045983698203644,0.0,-0.0781541513477347,0.0,-0.09203837250965415,-0.09183703352892403,-0.06464729557991233,-0.07439389578662645,-0.7790140638406889,-0.0638798828760317,0.0,-0.07271663989024951,-0.06973181967434236,0.0,-0.07162319548689644,0.0,-0.0787425119408304,0.0,-0.0886263345585335,-0.0747831115149166,-0.06912975139229892,-0.07918961828462974,0.0,0.0,-0.08488113483833935,0.0,0.5319174972050732,0.0,-0.5315561803416179,0.0,-0.06624415175185576,-0.14245252770037178,-0.06977380078979575,-0.14269639454551372,0.0,-1.0053492050924753,-0.0829197346685238,-0.06780368966086295,-0.06835248153874002,0.0,0.0,-0.0987156838498587,-0.0748770916314076,-0.15880057948873483,-0.06127971710707854,-0.09520528520267318,-0.844779346070731,-1.0014142093315281,0.4204621615128752,0.0,-0.07648829252235347,-0.7977021858890797,-0.16515567602660797,-0.1550875181713629,0.0,0.0,0.0,-0.07704169573404929,-0.5789698227306538,-0.06706077235102344,-0.1537849847772539,-0.07163300136471365,-1.208072660738095,0.0,-1.5366915919631667,-0.01915208239649556,-0.08061132231040698,-0.07661006172918651,-0.07468638450956953,-1.119910620460922,0.0,-0.3530307460460178,-0.07400778372685086,-0.1483451423365314,-1.1175901255196459,-0.7215946629255036,-0.06048451509417039,-0.11506259371954188,-0.15769313827603207,-0.06954545972771235,-0.08536499945777397,-0.10357400986044556,0.0,-0.07098089773990644,-0.16217529779512807,-1.0041233248944326,0.0,-0.08448232080494752,0.0,0.0,0.0,-0.02519788302580296,0.0,-0.3272187518505951,-1.1803532644810621,-1.6757928591142044,-0.06310734077219109,-0.16111321703541887,-0.06548258426409131,-0.06697678016163937,-0.07236167494121601,1.7970869221371515,-0.07080336683149441,-0.07066487455629923,-0.06668352306204134,-0.04651740362108766,-0.9916269603635243,-0.08328325232981848,-0.17552288818387454,-1.4342647397373116,0.0,-1.1948733468036532,-0.06456728528651805,-0.4404120156606887,0.0,0.0,-1.3284852670399456,-0.08700410174843487,-0.06442094689999457,0.0,0.0,0.7320575793651334,-0.46215451815342834,-0.1485051965209166,0.0,-1.2310907793122983,0.0,-1.507488700964861,-0.06947691543339861,-0.07087291823833845,0.0,0.0,-0.06517559326080835,-0.08655112857388274,0.0,-0.20391634615608983,-0.06345509879366906,0.0,-0.10640642795010821,0.0,0.0,-0.24589644736191674,-0.12842662516724201,-0.07280965303437897,-0.14325197653274954,0.0,0.0,-0.06456741436037758,-0.06995988190895733,-1.729891040827881,0.0,-1.089076435216677,-0.06659791492416338,-0.06986470032123854,-1.191191135009002,-0.938585385757184,-0.06055847093036449,-1.4659978729243854,0.0,-0.06956846960046116,-0.08983145402229412,0.0,-0.8718196735916702,-0.07145596937170473,0.4132896364922105,-0.08909043298997045,0.0,-1.4272309984586442,-0.12876778541961104,-0.2910699288688974,-0.07194838018474654,-0.10952120989747105,-0.08114539722023316,-0.07207051382152248,-0.06763191419293287,-0.010494880935982899,-0.07137331670209866,0.0,0.0,-0.10063122591445123,-0.06347908255210678,-0.07039846924372023,-0.06584490869026588,-0.0671780012192866,-0.07873455437098614,0.0,-0.06498829726020361,-3.1443510367890153,-0.06669072765374338,0.0,-0.050914578738948994,-0.5095025230918618,0.0,-0.8201451397159544,-0.06668561896958662,-0.07071436107914605,0.0,0.0,-0.06462990859446137,0.0,-1.573125154722045,0.0,-0.07337001733561563,0.0,-1.0662007558169253,-0.4162040866208724,0.0,-0.33771421932570755,-0.09350418100072956,0.3734488881085656,-1.0690133664452857,0.6496402323259268,0.19904746771468404,-0.10257224367029551,0.0,0.0,0.0,0.0,-0.08506368410868391,0.0,-0.3416136997428674,-0.06373815138820806,-0.07742793056308825,-0.07339129141221472,-0.0736369662190126,0.0,-0.027642276045687444,0.2601136799439562,-0.09098401746880376,-0.36569451832654387,-0.07099262331927647,46.10744056561007,0.0,-0.07398105535288099,-0.1622985985205154,-0.0735607117954775,-0.0655050240277339,0.0,0.0,0.0,0.0,-0.9176010931461233,-0.08705646197377036,-0.06296022336240187,0.0,-0.6954429327253884,-0.06561464012417713,0.0,0.0,0.0,-0.17939842482571314,0.0,-0.07883798531411264,-0.08359636188921588,0.0,-0.07918749869372471,0.0,-0.06716901391658853,-0.16210762212714613,-0.12988647576782725,-0.06350454770171461,0.0,-1.1275968938249097,-0.06403039764652166,-0.0934696581943198,0.0,0.0,-0.06474581562217724,0.0,0.0,-0.07081015572403684,-0.07800748731154485,-0.06698112854450729,-0.07567003389475589,0.0,0.0,-0.06501811570482735,-0.16671714675315993,-0.1574823991406725,-2.909727028513389,-1.1826992882736067,-0.06831232130548606,-0.17764650978653826,0.0,0.6922663923681602,0.0,-0.37409140908619465,0.0,-1.0745555016929962,-0.07814858178798385,-0.07650644013593166,-0.4127969468948368,0.0,-1.193909325613114,-0.06746812130660196,-0.16550682278893694,-0.06772836027454862,-1.1389037191742135,0.0,-0.14827201350716596,-0.09390236268550357,-1.5643992606239585,-0.05306997869363,0.0,-0.06693024681157386,-0.06661623755420615,-0.08572583875390642,-0.06372072293824535,0.0,-0.05957173510640706,0.0,47.91763608613125,-0.06838966453115206,0.29602544899126004,-0.07267949530485232,-0.07714787728567368,-0.06999593151650017,-0.1613647344932761,-0.06908022907524695,-0.20709425309129204,0.0,-0.8921794793602095,-0.11219439341823022,-1.473940313057155,-1.0363077566947305,0.0,-0.07310471183177811,-0.06741506230714972,-1.1572145375083238,-0.3613216525394371,47.908981844905284,-0.9221804415438506,0.0,-1.1973681212324336,-0.14828633789267406,0.0,0.0,-0.11117652566310353,-0.11888771012732187,-0.14639056356642863,0.0,0.0,-0.1962623425028791,-0.07532743789522191,-1.2801533769874296,-0.0711005475093813,-0.06677799366695224,-0.07400701336831868,-0.10568308936264886,-0.0670421406101939,-1.2965841563867877,-0.0717731484673999,-0.082024835824287,-0.10613259335866676,0.0,0.0,-0.06904884353590468,0.010883717172500352,-0.2454284379361777,-0.06968275444412461,0.0,0.0,0.0,-1.2837916873099888,-0.07835047076450767,-0.1422388296427631,-0.16366686091009225,0.0,0.0,-0.06281175039381086,0.0,-0.06861224146098789,0.0,-0.06269279625310954,-0.077077852947551,0.0,0.0,-0.0784936737852761,-0.23980732142273395,-0.06916087661122078,0.0,0.0,-0.09106981481488274,0.0,-0.15635094528859642,-1.8011060612718186,0.0,-0.04392134412856372,-0.073287941638413,-0.09581951600638731,0.0,-0.008050541741888033,-0.0634934913380891,-0.0722177483052556,-0.06642579906773895,-0.14666215939581087,-0.07079810079901835,-0.9452280103410247,-0.08291028535783308,0.0,-0.10596964071116594,0.21791475700465968,0.0,-0.06596563736797552,0.0,0.0,-1.2283485814392145,0.0,0.0,-0.05847778930097601,0.0,-0.06749841108827079,0.0,-0.08567229376617538,0.04685591403112204,-1.0795179364227687,-0.08626686415288483,-0.10973928411884544,-0.10266111504108097,-0.1539700199952655,-0.06746028875117815,-0.06735679042132584,0.0,0.3474612863600433,-0.06313927091105444,0.0,0.0,-0.07239168030227378,-0.06591641408156902,-0.6925503165722273,0.0,-0.08590829671093758,-0.06562537159011068,-0.30352422127168777,0.0,-0.34948147515265393,-0.06621898023445423,-0.07084864416103502,-0.07045277391087232,0.0,0.0,-0.06692591530380997,-0.06202047662943022,0.0,-1.6226550529300825,-0.06574761663095523,-0.09518059036733165,0.0,0.7001233103168649,-0.07789030749737419,0.10879486166948113,0.48528430810541257,-0.06274695816462031,-0.9178168672300608,-1.5726657194063083,0.0,0.0,-0.07855805362414543,-0.0780157824531647,0.0,0.0,-0.5823871711742238,-0.03165386243708914,-0.07908716388765098,0.0,0.0,0.0,0.0,0.2498473627371727,0.0,-0.06655847821124944,0.0,-0.21016355185423294,0.0,-1.101688126174902,-0.05615781851367761,-1.5428204923384987,-0.06582344607563598,-0.14378256846541937,-0.07349995745528907,-0.4134946516676277,0.17708909505424547,-0.9290229886762856,0.0,-0.1622312994894618,-0.16441666716467987,-0.06447108354783884,-0.08026073784642487,-1.1235035233888204,-0.12266995167718744,-0.08359807386687175,-0.07851102859524099,-0.07241179751494284,-0.06497043865540131,-0.06822001601640891,-0.15143168666610626,0.0,0.0,0.0,-0.8122566601709379,0.0,-0.0752996598916419,-0.08331651388783937,-0.08971510218730101,0.0,-1.5679236018116078,0.0,-0.06970772563306717,46.76883678012279,-0.08023831751936564,-0.09791571822302876,0.0,-0.07019804303970818,-0.5073763527456578,-0.07410921892955548,-0.8585454385194999,-0.06726473002100018,-1.1756302271828216,-0.06852074828129673,-0.0716999150866939,0.0,-0.06649984293404317,-0.12216224299234275,-0.062208129846920784,0.0,-1.7379862503287946,-0.06857588772523093,-0.06790417492330446,-1.2181983886090582,-0.08525369934999563,-0.08889829244801711,0.0,0.0,-0.06304122786781689,-0.08391130689226371,0.0,-0.1608436686016901,0.0,0.0,-0.07466179056724673,0.0,0.0,-0.06546585432999977,-1.4321865155828386,0.0,0.0,-0.06489893864333715,-0.06718996256186628,-0.10976719094966157,0.0,-0.08877501437291559,-0.029576092968491854,0.0,-0.06828193631562109,-0.08477201693465687,0.0,-1.2625722100030723,-0.08468336927164553,0.0,-1.2893672982743056,-1.0664123898470061,-0.4142453034788952,0.0,0.0,-1.1465944634649956,-0.07400669903118495,-0.06899260832384953,-1.1434240404475235,-0.08322947997886772,-0.07227433217043959,-1.0449279755196323,-0.4515370441483071,-0.6538620152317877,-0.07618624202055319,0.0,-0.9377576050380714,0.0,0.0,-0.37095323644505757,0.0,-0.09480659377152342,-0.16370317255506459,0.0,-0.07259723905441495,-0.06046794486419571,-0.0701167842809553,-0.06944434138956398,-0.09383850788032419,0.35823373102665645,-0.06790608813100245,-0.0726889529592126,-0.07402595819821917,-0.2161074040070437,0.0,-0.053274190186612114,-0.23228554381958355,-0.06710023809292102,-1.2767440757051232,-0.0707772806389143,-0.07514663429563884,-0.08400643069933313,-0.06869235710140881,-0.07765029479669791,-1.13954159576942,-0.04053736308946476,-0.07326512281646706,-0.3738859395312689,-1.2615776365088633,-0.06507666316213848,-0.6848226682041545,-0.06724434689816823,-0.14572573364877625,-0.04475666857754039,-0.0709260626641493,-1.2932372353319082,0.0,0.0,-0.07727637604304463,0.0,-0.06536563398314314,-0.07011007300751368,0.0,0.0,0.0,-0.08661572694333507,-1.2353251000380272,-0.07916235541942805,0.0,-0.06822855706374384,-0.07252018668744459,-0.06523666862023245,-1.1316045406461,-0.06581939079992637,0.0,-0.07522833575429218,0.0,-0.07967136120659891,-0.08007385614194105,-0.06163978310213114,-0.6136959099993942,-0.06746002845489978,-0.09535902356331785,-1.3603949540732976,-0.06504853399296354,-1.2924530400932173,-0.06764733670965743,-0.06798002651104991,1.1591160197872177,-0.06467571707742623,-1.5525278381931573,0.0,-0.07447018156353044,-0.06816304031706923,-0.061084932643707686,0.0,-1.2533099660732472,0.0,-0.16188653548133222,0.0,0.0,0.0,-0.06962954436798677,-0.9545188938354356,-0.06646167567355347,-0.19322424898048982,-1.4793843390966637,0.0,-0.06688224175051272,-0.167748240086291,-0.06461323049856275,-0.08107756277839008,-0.038050897666381575,-1.120470234125788,-0.3748061722764463,0.0,-0.0759179238332657,-0.5626629995618478,-0.09149080090564934,0.0,-0.3818813666459799,-0.759317264167421,-0.07985907023860576,0.0,-0.512458670084567,-0.1845050699869156,45.41955988619706,-1.290381505727327,-0.06655229514514638,-0.06528063962279784,-0.06658954695571592,0.0,-0.06400303884916005,-0.8462557748565022,-0.3810224177592091,-0.10151898119830832,0.0,-0.0699807498675818,-0.0675176297663666,0.0,-0.3455743663611207,0.0,0.0,-1.1993662124371125,-1.4101422450181422,-0.0645009862756879,-0.060013172430017095,0.0,-0.943878503026712,-0.18486735590717296,-0.06656015525361779,-0.9079774407217568,-0.07331155739452895,-0.06884511905933019,-0.07058637159888949,-0.06799481535922183,-0.07340674717411448,0.0,-0.07823919540519815,-0.06342408218781151,-0.07357829175954086,0.8309601565854478,0.0,0.0,-0.08363392418516227,0.0,0.0,-0.0802099245949797,-0.06641409902377915,0.0,-0.12301867572350622,-0.0690403118452583,-0.07313535085139662,-0.08033476262787095,0.0,-0.06797069895196316,0.0,-0.0653586899719814,-0.07505738206459957,-1.2220296666136952,0.0,0.0,-0.09126241824983841,-1.1040932062390638,-1.1584064406409735,0.35592401761220316,-0.0691831401862476,-0.07650961047611374,0.0,-0.06711578146226524,-0.09528230379105937,0.0,-0.24239471724199896,-0.06391382601080166,-0.22036625302482676,-0.07721615650763863,0.0,0.0,-0.10581557931526368,0.0,-0.0749237419596862,-0.06663521462060346,-0.061002860272505295,-0.0635753101635152,-0.0777459664337818,0.0,0.0,-0.07963363530159047,-0.346668392472004,0.0,-0.30142365817895606,0.0,-0.08900565323968858,-0.0645024665252248,-0.5819704875737168,0.0,0.8460701665027409,0.0,-0.06595521881000387,-0.09620508234677042,0.0,0.0,-0.08387802674433867,0.0,0.0,-1.4145676867679835,-0.7931204728529817,-0.06376238016005902,-0.07727057440389272,-0.06715217643158816,-1.1161749716793388,-1.4358066994466179,-0.5166268772525424,-0.23368279501360822,0.5710515369131761,-0.07886561990005013,-0.3745243352834442,-0.07116027998645141,-0.06509309187935625,45.504686181348575,-0.06447576296292418,-0.07427006687828924,-1.8455902931030772,-0.0658450226142334,-0.08410563548077063,-0.5177127989049711,-0.06523316533023522,-1.2327030878610024,-0.13284348977636162,-0.07884534364071456,0.011971817856726883,-0.06407455730538916,-0.06998680511543225,-0.06512775458873528,0.0,0.0,-0.09588148756580323,-0.06913008381077991,-0.6864848233983323,0.0,-1.1839909942155733,-1.7258417717490486,0.0,-0.11148492159166004,-2.145604439593485,0.3611430194584252,-0.714050443777794,-0.07034374560824773,-0.3162838529466254,-0.07547529996738253,-0.9035909055925929,1.4708085921066036,-0.1775840586110607,-0.08567772760842247,36.744899404613136,-0.0738564578824683,-0.12789345409562186,-1.1864526144363676,-0.9515757513304872,0.0,0.0,0.0,-0.06712317286504993,-1.552203580709813,-0.06509561648831459,-0.08946454666580998,-0.05113035341334231,-0.3473739646679626,-0.0688532127570218,0.0,0.0,0.0,0.2347939137382867,0.0,-0.7382354096940076,-1.025583050823113,-0.047894661686991656,-2.4536793985339163,0.0,0.0,-1.1917775155956123,-0.007940681048812329,-0.08641667813688463,-0.0744685451093923,-0.009118995409575977,-0.15831856711960487,-0.06867116037304478,0.0,-0.07932257723336694,-0.16348523185973887,0.0,-0.12014684369642349,-0.056320231872902166,-0.1236987483077528,-0.0650120038650569,0.0,0.1458622219576974,-0.0685949250980767,-0.07748232811913462,-0.06338662650415272,-0.09237134954463995,0.0,-0.08202226932883733,0.46989498397329,-0.057595842330630004,0.0,-0.06523922682665653,-0.05292699766323705,36.72695871955275,-0.0628069556529051,-0.07806129221837686,-0.07998016370072852,-0.07760752578242397,-0.9101599337420982,-0.3269636169661903,0.0,0.0,0.0,-0.09507689910830337,-0.06510250030624459,-0.06990944226263075,0.0,-0.0743824496120242,0.3567701169767062,0.0,0.0,-0.08145558892020664,0.0,-1.1825723022462686,-0.06464197428780954,-0.06802821063625378,-0.14734953352082417,0.0,-0.16420316707967442,0.0,-0.922037490572709,-0.06343795106432167,-1.185836890448443,0.1866086461941664,-0.1380813761329978,-0.17641389735718516,-1.4829179648214441,-0.7206585028480538,-0.06447946892740812,-0.06322376966635458,-0.07040017631457283,-0.09207146512589764,0.0,0.0,-0.07760573229245926,-0.05602854802772592,-1.2890579609163877,-1.2500752508004287,-1.2662042506743425,-0.3771278643263287,-1.214651634528228,-0.07744594479766369,-0.10948626572437493,-0.23434839254234774,-0.0837972394415696,-0.06967155611351988,-0.06792218339642199,-0.11362663680524433,-1.1869946496834731,-0.279945506729909,-0.1027412318815201,-0.06633145031925082,0.0,0.0,-0.07600413983154757,0.0,-0.1147435194073829,-0.3114151050135419,-0.07954177377470663,0.0,-0.14126701760291988,-1.4986061563287683,0.0,0.0,-0.06472393784138857,0.0,-0.8330288425692141,-0.05804147420707189,-0.06390712386687399,-0.4645165556829391,0.0,-0.06748319605889498,-0.139438239176362,-0.10234197262190352,-0.05166258200785234,0.0,-0.07049786237863581,0.0,-0.07063977104248577,-0.06307845727822048,-0.4714288331659015,-1.0199837166526335,0.0,-0.06803098202061765,-0.06399121289197114,-0.06762584169366205,-0.1565539383844573,0.0,-1.0359996428310827,0.0,-0.07540725772418906,-0.32803192177104135,0.0,-0.1765944580185921,0.0,0.0,-1.2840418761801027,0.0,-1.121089619339143,-0.20763429740118355,0.0,-0.08378838269141078,-0.07298081226903678,-0.0695334728567233,-1.136514275189371,0.0,-0.06804285924634064,-0.10710018119542236,-0.06732182764954546,-0.09248834526816176,-0.13591577624659748,-0.07490887407906299,0.0,-0.822618550504068,-0.11347810705690002,-0.06799807234021768,0.36727105757313455,0.0,0.0,-0.09677283919096095,-1.9479285902203913,0.0,-0.0788082696553267,0.0,-0.0670263285029536,0.0,0.0,-0.07680821508790077,0.0,-0.06011982957489507,0.0,-0.07014103508023758,-0.6764203042915962,-0.15924317541705185,0.0,-0.08067235150501235,-0.31893884691995783,-0.8204087942878264,-1.5561821252103192,-1.405026140703923,-0.0872673730932057,-0.278618306527923,0.0,-0.23324416749940885,-0.06978293289386524,0.0,0.12112704023833175,0.08664433619223132,-0.05634657726395614,-0.06738712007100468,0.0,-0.8608527358423562,-1.5220538095877076,-0.9984638516922597,0.0,-0.3730774575677679,-0.06830111017319032,0.0,-0.16688304560105588,0.0,-0.29419083146852604,0.0,-0.0838613878015161,0.0,-2.285350164711247,0.0,0.0,-0.6986685716623685,-1.2975478073949722,0.0,-0.1360886121150139,-0.06588089808040286,-0.29653271925206875,-1.1517055976846609,-0.11445775347056515,-0.06446230632526474,-0.07900279380861423,-0.06682871875335171,-0.6742243747401582,0.0,-1.3568765108923722,-1.271858371321327,-0.0895813708168283,-0.06449863817284354,-0.06842185019004128,-0.4413608233344051,-0.18527424624464042,0.0,0.0,-0.06859617195660946,-0.08185345443737199,0.0,-0.06616043485979158,0.0,-0.19851967327350864,-1.8867773008858222,0.0,-0.07319975844394415,-0.019667076347678565,-0.08763936743173943,-0.0490138367850404,-0.09962913991727262,-0.07492020615651362,0.30053703879516724,-0.07955527446330489,0.0,-0.09598586293898367,-0.07526063938955548,-0.0704304305905559,-0.8390692541014826,-0.06488333992533049,0.0,-0.06456675411113574,0.20171135522352737,0.0,-0.06707179074541028,0.0,-0.08510639512920723,0.1979653867044947,-0.0272492628689274,-1.405722866997599,-0.5001190902283659,0.0,-0.15104658090948161,-0.12187745958567393,0.09668466847712721,0.0,-0.06904944459071753,-0.09024232206136377,0.0,-0.09017021224892904,-0.06935449665614526,-0.21143727167561144,-0.07505293578504563,-0.5858960608400081,0.0,-0.10501118567932137,-1.20513024712975,-0.5252754176904247,-0.07104203825969446,-1.1089116741929843,-1.8605110021387752,-0.06338722398509178,-0.08516335575730777,-1.6868151927662582,-0.9298771883858,-0.07897437417751606,-0.06430950889531266,-0.062288954225569265,0.0,-0.27191117596504527,-0.15865109290291463,-0.7232409563915588,-0.16566105403600156,-1.225390548570648,-0.5828418819295115,0.0,-0.07234084571213693,0.0,0.0,-0.1413525158178152,-0.07352911187636099,-0.12250222175991747,0.0,-0.07897965591528909,-0.19567587245789736,-0.08625038600302706,-0.06612150242292526,47.91220354722301,37.39388391010012,-0.043013264192021075,0.0,-0.08062012206121526,-0.0734553023484712,0.0,-0.06800196538336396,-0.9808366856715915,0.0,0.0,0.0,-0.07170352036920108,0.1418950477172912,0.0,-0.07699665151567525,-1.0720214797221925,-0.5551456597277575,-0.07836491372215838,-0.07188032613944435,-0.0009277841674266178,-0.053340932833736435,0.0,0.0,0.0,-0.08084366220497641,-0.3998879556503705,0.0,-0.33655607767301327,-0.07686551505976871,0.0,-0.06921892658415266,-0.07783709277981347,-0.07427203695495463,-0.06707700920294703,-0.6682908092769212,0.0,-0.10247530466739709,-0.06720009488643061,0.0,0.0,-0.07771761133010258,0.0,-0.102666941685164,-0.06308189679474299,-0.054121628907591514,-0.10298747235085363,0.0,-0.05561864379780291,-0.1668502548312719,0.0,0.0,-0.1606267023641739,-1.1361588468075035,0.0,0.45350907575968685,0.0,-0.06502662533010746,0.0,-1.454584223049681,-0.0653281010015992,-0.18128878415744687,0.0,-0.25542663052746506,0.0,-0.08364843340962784,-2.0715810169267272,-1.220815035815329,-0.664104894666505,-0.06355335207944295,-0.38572708968266767,-0.07023771178402761,0.0,0.16513083027697778,-0.06476426566645176,-0.08856462214474183,-0.06858009507942842,-0.06377133791197934,-0.09730433050076169,-1.1018484515989169,-0.06196961543331699,-0.0644162126976874,-0.06468811163884056,-0.9347235998334874,-0.1612123355060405,0.0,-0.08044808815888946,-0.0763934406230455,-0.06897608657033343,-0.09837856441598383,0.0,-0.8662177119853266,0.9663913298886351,-0.4858648587876102,-0.07000035700367564,-0.06642317306349037,-0.07722674600035152,-0.07567228546041226,-0.07301031950208466,-0.07577121603139064,-0.6869687789862677,-1.3739629201251427,-0.06987784879430627,-0.44376626609119196,-0.07096122559293137,-0.39235424060840585,-0.0719313289270745,0.0,-1.1442732863937497,-0.8915657384790155,-0.0731411130677292,0.0,1.0055852975390027,-0.9981868616373455,-0.07669599712093521,-0.2361897587617922,0.0,-0.07638546741571868,-0.06401577850049163,-0.07070110804193311,0.0,-0.018996133846429016,-0.06957162201790427,-0.06599270531703652,-0.36871237949855395,-0.06264294089654582,-0.3049982478142511,-0.0764734486951264,-0.15174961577900947,-0.07054317268276722,-0.20109676765809872,0.06676645838729295,36.68091293087206,-0.06696267957566786,0.0,-1.5928196525938638,-0.08476195473243114,1.0044271443574773,-0.10164266737612328,0.15276268177324315,0.0,0.31880460076893036,-0.1030144862091691,-0.0650360198933347,-0.5643836803451358,0.0,-0.16895474108372077,-0.05769516613422123,-2.252507854626111,-1.55069012892075,-0.08036076472817155,-1.1622580691912026,-0.053106788483892574,-0.0666981985191655,0.0,-0.3216105608998715,-0.06456786483246163,-0.147919263987632,0.0,-0.34141477629378775,0.5649872157969262,-0.0711693444014302,-0.13276039203662063,-0.059413747013008514,-0.06821195797576404,-0.03156226085722296,-0.08504176467413953,-0.17198733330510238,-0.061225894575198996,-2.3150492843123365,-0.0632925995463558,0.0,-0.08136976583974745,-0.28694076551258596,-1.1602978220153792,0.0,0.0,-0.0646163290694818,-1.3011027308292529,-0.1612238714678422,-0.43234734265798835,-0.48112678617142945,-1.5082613364671469,-0.18299871594953124,0.0,-0.0686851991728853,-0.07901778974470886,-0.0783611825931906,0.0,-0.07947983572960628,-0.06720617929913217,-0.09402707052932147,-1.1143385306703082,-0.06710569784968509,-0.08534794931719078,-1.3162115982934315,-1.0350058700391154,-0.11206364285058253,-0.07067721531913712,-1.0975316356094804,-0.08774000550169926,-0.07395220833845025,-1.204880311723031,0.0,0.0,-0.06987621281761174,-0.07755382673422907,-0.0620642705006546,-0.07070773647978192,-2.291680956150479,-0.07062786845944723,-0.3678108363179159,-1.1399872125669959,-0.08495962304775244,-0.6114765725626192,-0.3311838045112116,0.0,-0.06428028229604382,-0.07044045641167156,-0.07733543404688616,-0.10658108713830397,-0.12087679531890423,0.3125307460899455,-0.07566950239722961,-1.5737928414469273,0.0,-0.05513302677550425,0.0,-0.07894399349870847,-0.06887504365361773,-0.07533189493537025,-0.07762147375495936,-0.06708667550383883,0.0,-0.8415691803402324,0.0,-0.019537505086419115,-0.06547352060152854,-0.08385471524949811,0.0,0.0,-0.384035069328543,-0.10502449779797186,-0.12258775941880902,-0.08204187468430235,-0.06443899171323501,-0.09610879476597613,-0.0944120802427781,0.0,0.0,0.0,-1.1845188993511524,0.0,0.0,-0.06902005916663863,0.0,-0.6769208578808014,-0.25231273648306257,-0.06699993296228515,0.0,-0.16525462510719474,-0.08433152476797796,-0.06593149788573872,-0.13485578794150985,0.09816910271159386,-0.09479106228064849,0.0,0.0,-0.49079222292735336,0.0,0.0,0.0,0.0,-0.08564576691792165,-0.09599911938519191,-0.06374610780619472,0.0,-0.29123452095318414,0.08126682223814297,-0.5629328525887709,-0.1544966272119199,-0.17000923815299615,-0.06949028869066999,-0.3527774440209754,-0.9088671439828273,0.0,0.08742915253714088,-0.06373005416031502,0.0,-0.0932466205480801,0.0,-0.06414294596629416,-0.0671140468776697,-0.07943205992144396,-0.06628985729518204,0.0,0.1922801847806228,-1.1452245781003267,0.0,0.0,-0.06625468695531816,0.0,-0.06972180642741506,-1.058483618376562,-0.20562695805554415,-0.06412084259154499,-0.6738291985770418,0.0,-0.08852690547935908,-0.07307662647062711,0.0,-0.07099801144292392,0.0,-0.0627284078735581,-0.07376090549748325,-1.125166046139227,-1.1126063887125777,-0.07028730379487436,-0.06801226136551829,-1.108378441911213,0.0,-0.08564605939530634,-1.2749255337104535,0.0,0.0,0.0,-0.11854164287211587,-1.1567285787055364,-0.08781914336039565,-1.2185156063354232,-0.07442080793403716,-0.08085123628103374,0.14065589556509855,0.0,-0.0671175583965967,-0.08159441025931458,-0.07716644563682207,36.64121513824308,-0.528840811099722,-0.0661857779161887,-0.07294862408620773,0.0,-0.08380741724985644,-0.10288051573904393,-1.403698158383507,-0.0668431729468471,0.0,-0.20842821449636956,-0.08011783925765142,0.0,0.0,-0.1468232593527546,0.0,0.0,0.0,-1.0485258910309505,0.0,-0.287129627449039,-1.112668283017691,-0.06437467696041135,0.0,-0.07164539233102601,-0.07239667485730893,-0.108823754822936,-0.19098192727316482,-0.06299612890612559,-1.5438951061451616,-0.08019121615962077,-0.9645382392111741,-0.06266959004935169,0.0,0.0,-0.07351112884573642,0.0,-0.08245506262084878,-0.06335620164626488,-0.3723704854482845,0.0,0.0,-0.06437984439311868,0.0,-0.07121487815202437,-0.35503748877913616,-0.08369180109319126,-0.0646047895200776,0.0,-0.11067956571566825,-0.1601315158376639,-0.12779305734697172,-0.0772631131053428,-0.953112462061953,-0.06419367520780042,-0.18489250512561514,0.0,-0.2225652917280257,0.0,0.0,0.0,-0.07682615186312176,-0.5155095365498643,-1.2154411410344552,-0.07146805678133565,0.0,-0.07384151509013885,0.46411367296049366,-1.3391307898579086,-0.0733908711347035,0.0,0.0,-0.07450714044084993,-0.07098256572876156,-0.2377083351701122,0.0,-0.05613193354539737,-0.3148811002896633,-0.08394974010704076,0.4490841016064953,0.0,0.0,0.0,-0.07398481779954508,-0.07047993734623834,0.0,-1.2758792031769632,-3.3398131339717585,-0.08894592794343847,0.0,0.0,0.0,-0.035665624730595494,0.0,0.0,0.0,-0.21345751110138358,0.0,0.24999648632645044,-1.0906370112823642,-0.072959444561502,-0.07019719360879198,0.0,-1.1241699256397555,0.0,0.0,-0.06814692321296306,-0.0688534366022108,-0.07217845532916013,-0.4287111156974137,-0.06818242320028704,-0.8582554404568316,0.0,0.0,-0.22916959489375024,-0.07237453736299221,-0.06581180228055994,-0.8910556572857529,-0.15604015604004937,0.0,0.0,0.0,0.0,-0.06547797595932332,0.0,-1.125396370351347,-1.109833633784455,-0.06954526118426829,0.0,-0.0901482658666064,-1.2072795587106042,0.6081184647007729,0.0,-0.06813096277467415,-0.08266501915025361,-0.3075084978216135,-0.07454824616943988,-0.34664727126410333,-0.06971508390190705,0.0,0.0,0.0,-0.4022948652853818,-0.07114536444701339,-0.06743082077681745,-0.07983470968255597,-0.45722385727155845,0.0,-0.08224817674437047,-0.0683731663543313,0.0,-1.2511120340126887,-1.1136245536199725,-0.12436022246304292,0.0,-0.37551616576618674,-0.0999165027922355,0.0,-1.057619613788434,-0.09098509839392797,-0.07696724411460143,-0.07052538646909182,-1.078605476401147,-0.15654334062421738,-0.5520728337834858,-0.31723289570188595,-0.06545120166151003,0.0,-0.06087361353247162,-0.06276470446824195,-1.117953261175603,0.4839653314112091,0.0,-0.07116926729950177,-0.07047884980746111,0.0,0.0,-0.07891094958941199,0.0,-0.038887150716639236,0.0,-0.06784080661335247,0.0,0.0,-0.07993092842264606,0.0,-1.4654584488128728,-0.06834765755123018,-0.06581138473591387,0.0,-0.33845514906075297,0.0,-0.07348927371053608,-0.07588025701788317,-0.09161884673396119,-0.9485844772161295,-0.10015557185879675,-0.03026153842510656,-0.19287126446313557,-0.11663244480428314,0.0,-0.07975388164501304,-0.3673715431498619,-0.21611129152066133,0.0,-0.09001439921805926,-0.16340597553122427,-1.1924619567187917,-1.6726797892864287,0.0,-1.1104654869970672,0.0,-0.07903344867593928,-0.0676007798383216,-0.7093730725909508,0.0,-0.799371758974645,-0.07191816988042887,-0.07677695442290665,-1.6050524158354513,-0.2249439147178066,0.0,0.0,0.5494564093955245,-0.15243082249976503,0.008315335034567719,0.0,-0.07131542090450912,-0.06452771110085417,-0.08074681136559936,-1.2275141101271414,-0.06641750826962764,-1.1613011408984033,-0.0777485003755188,-0.2246699276062748,-0.06189151164193586,0.0,-0.06544654398976707,-0.06911536053183555,0.0,-0.08055840339540649,-0.3947623085427531,-0.06983070979032166,0.0,0.0,-0.1634817943480238,-0.019562049326736778,-0.05869714664762622,-0.07181956040558916,-0.3837983463529345,-0.34331861730981705,-1.1333812847607005,-0.05422047759182911,0.0,0.0,0.0,0.0,-0.06685991557460859,-0.07176325521396505,-0.06367350683484434,-0.07653944132475117,-0.8170545432552814,-0.08091972684281712,-0.06944338042527076,-0.07816054087569377,-0.06742570912386862,0.0,-0.03360860897274619,0.16643989879016777,-0.06804942508886111,0.0,-0.09889982251935622,-0.5336196153942585,0.0,0.0,-0.06523146643393551,-1.1844514822445875,0.0,0.0,-0.06623189440998267,0.0,-0.1293573232462005,-0.16141399142503846,0.0,0.0,-0.07178864053521511,-1.1076292251090303,-1.3409988393181707,-0.10871759783103926,-0.7051027557841794,-0.05150875568295701,-1.227590184709715,-0.06383054115544759,-0.07394277552579376,0.0,0.0,-0.0667446207279846,-0.887198603725648,-0.06625318709064008,-0.2675497315729267,-0.11920027304373958,0.0,0.0,-0.3655245199167641,0.0,-0.11371111879007836,-0.06655849006795331,0.0,0.009445043246928799,-0.07132979239715452,0.0,0.0,0.0,0.03179429285093877,0.0,-1.1548514906197322,0.0,-1.9756907271796667,0.0,0.0,-0.07283445467546298,-0.06985427794100971,-0.0677759979651971,-1.1366808951514256,0.0,-0.06936443900334352,-0.07790313992122169,0.0,-0.09662040102236527,-0.9659819424203854,-0.0783028840461606,0.0,-0.08958840852048845,0.0,-0.08961819780646023,0.0,0.0,-0.27995321093936076,-0.052290981360055305,-0.06939645665846488,0.0,0.0,0.1874415051155705,-1.6552067920867943,-1.577064125943785,0.0,-0.06728118276247948,-0.8877342800987291,-0.06489751528044994,-0.07225888691636984,0.0,0.0,0.0,0.0,-0.06624349708992046,-0.07397431326715988,-0.0692251937746616,0.0,-0.8718498265320164,-0.07933440925536586,-0.036867406211872775,0.3010011415726813,0.19631564745202648,-0.15964932464971784,-0.07725548886331272,0.0,0.0,0.0,-0.07296088711633661,0.0,-1.2937903996424724,0.0,0.0,-1.2600299455294313,0.0,0.8742041318281205,-0.053461477791899095,-0.07851717735976625,-0.49082660003805606,-0.10851053386429024,-0.08200701640098879,-0.15896570365393922,-0.18861984241297805,0.0,0.0,-0.0754630774477225,-0.06637321052430867,-0.07856556447983702,-1.0794758381048823,-0.5506531935833393,-0.07630873651403823,-0.06724457659080257,0.0,0.21599493445415863,0.0,-0.07085954539527685,0.0,0.0,0.0,0.0,-0.08195495880627844,-1.3487896073106318,-0.7420275998247245,-0.06973707406052551,-1.6566417710875143,0.0,-1.1964064073291802,-0.9589628615897355,-0.06877781384399069,-0.31233885260243266,-0.07735294432399327,-1.1521770686929391,0.0,0.0,-0.06571942693243993,-0.08423368785115508,0.0,-0.12281648827262683,0.0,-0.07366460689804939,0.0,-0.9378809084337141,-0.09722730565461346,-0.10791427918716398,-0.2764811221154625,-0.06057038973107548,-0.06478246930438944,-0.05841585977052488,-0.06740020553387584,-0.09010353387859904,0.0,0.0,-0.08865047116966773,-0.15041717892670972,-0.07140504731696588,1.4030374901992035,-0.052557938817646026,-0.8334402859876696,0.0,-0.2325565600404674,-0.10372277768641575,0.0,-1.1479349803535615,-1.1188731565364327,0.0,0.090923909976918,0.0,0.0,0.0,-0.06588940723716007,0.0,0.0,0.0,-1.0543281416724781,-0.03819426314244081,-0.08497354037337257,-0.06750461618123065,0.0,-0.030416111245587758,-0.07604460147768534,-0.08116668274265416,0.0,-0.0803395307643197,-0.0810245841886617,-0.07521367959771995,-1.1045588455308015,0.0,0.0,-0.06769705211099483,-0.1401120811608386,-1.3601539306904211,-0.0753063717271657,0.0,0.0,-0.06338940396456388,-0.0894357707461693,-0.07650377969688706,-0.10263996273427735,0.0,-1.1758512001362265,0.0,-0.07401983023511988,-0.16596755237089234,0.0,0.0,0.0,-0.34023500327878814,-0.06742970335420274,0.0,-0.06562778512663797,-0.0704918549753002,-0.06613985262894193,0.0,2.0472772002413533e-06,-7.506789490453371e-10,-9.000446646057007e-08,-1.0151079698768069e-07,-7.994275388442616e-08]\n",
            "Intercept: -19.64789180514869\n"
          ]
        }
      ]
    },
    {
      "cell_type": "markdown",
      "source": [
        "#### 3.3 Fai predizioni sul test set con il modello appena addestrato"
      ],
      "metadata": {
        "id": "JdQGby26HQgl"
      }
    },
    {
      "cell_type": "code",
      "source": [
        "#Effettuo le predizioni sul test set utilizzando il modello appena addestrato\n",
        "predictions = lr_model.transform(test_data)\n",
        "\n",
        "#Visualizzazione delle predizioni\n",
        "predictions.select(\"label\", \"prediction\", \"probability\").show()"
      ],
      "metadata": {
        "colab": {
          "base_uri": "https://localhost:8080/",
          "height": 0
        },
        "id": "N9BhFW_MHTyP",
        "outputId": "48324de7-459c-4d9b-fdad-162a4c308243"
      },
      "execution_count": 65,
      "outputs": [
        {
          "output_type": "stream",
          "name": "stdout",
          "text": [
            "+-----+----------+--------------------+\n",
            "|label|prediction|         probability|\n",
            "+-----+----------+--------------------+\n",
            "|  0.0|       0.0|[0.99999999903198...|\n",
            "|  0.0|       0.0|[0.99999999853376...|\n",
            "|  0.0|       0.0|[0.99999999919156...|\n",
            "|  0.0|       0.0|[0.99999999838855...|\n",
            "|  0.0|       0.0|[0.99999999903538...|\n",
            "|  0.0|       0.0|[0.99999999812694...|\n",
            "|  0.0|       0.0|[0.99999999845224...|\n",
            "|  0.0|       0.0|[0.99999999906338...|\n",
            "|  0.0|       0.0|[0.99999999860789...|\n",
            "|  0.0|       0.0|[0.99999999900097...|\n",
            "|  0.0|       0.0|[0.99999999910541...|\n",
            "|  0.0|       0.0|[0.99999999818659...|\n",
            "|  0.0|       0.0|[0.99999999824777...|\n",
            "|  0.0|       0.0|[0.99999999892330...|\n",
            "|  0.0|       0.0|[0.99999999867704...|\n",
            "|  0.0|       0.0|[0.99999999799197...|\n",
            "|  0.0|       0.0|[0.99999999862123...|\n",
            "|  0.0|       0.0|[0.99999999853002...|\n",
            "|  0.0|       0.0|[0.99999999834969...|\n",
            "|  0.0|       0.0|[0.99999999948118...|\n",
            "+-----+----------+--------------------+\n",
            "only showing top 20 rows\n",
            "\n"
          ]
        }
      ]
    },
    {
      "cell_type": "markdown",
      "source": [
        "#### 3.4 Bonus: definisci un BinaryClassificationEvaluator e mostra la metrica areaUnderROC sulle predizioni appena fatte"
      ],
      "metadata": {
        "id": "GpDLSg8-HuUe"
      }
    },
    {
      "cell_type": "code",
      "source": [
        "from pyspark.ml.evaluation import BinaryClassificationEvaluator\n",
        "\n",
        "#Creo un oggetto BinaryClassificationEvaluator\n",
        "evaluator = BinaryClassificationEvaluator(labelCol=\"isFraud\", rawPredictionCol=\"probability\", metricName=\"areaUnderROC\")\n",
        "\n",
        "#Calcolo l'area under ROC curve sul DataFrame con le predizioni\n",
        "auc = evaluator.evaluate(predictions)\n",
        "\n",
        "#Stampo l'area under ROC curve\n",
        "print(\"Area under ROC curve:\", auc)\n"
      ],
      "metadata": {
        "colab": {
          "base_uri": "https://localhost:8080/",
          "height": 0
        },
        "id": "9DhVgEfNHzNp",
        "outputId": "ce3b43f7-0753-499b-8af1-8ec63c43fd7d"
      },
      "execution_count": 66,
      "outputs": [
        {
          "output_type": "stream",
          "name": "stdout",
          "text": [
            "Area under ROC curve: 0.8740753582986592\n"
          ]
        }
      ]
    },
    {
      "cell_type": "code",
      "source": [
        "#Conversione del file notebook in pdf\n",
        "#!apt-get install texlive-xetex -y\n",
        "#!pip install nbconvert"
      ],
      "metadata": {
        "id": "4F6jmkteMKLi"
      },
      "execution_count": 67,
      "outputs": []
    },
    {
      "cell_type": "code",
      "source": [
        "#!jupyter nbconvert --to pdf ERavagnan_Esame_notebook.ipynb"
      ],
      "metadata": {
        "id": "9ePMiiUyMRoH"
      },
      "execution_count": 68,
      "outputs": []
    }
  ]
}